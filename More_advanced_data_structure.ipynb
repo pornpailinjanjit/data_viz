{
  "nbformat": 4,
  "nbformat_minor": 0,
  "metadata": {
    "colab": {
      "name": "More advanced data structure.ipynb",
      "provenance": [],
      "authorship_tag": "ABX9TyMyoi5IeMRHVvww6P8hAmnb",
      "include_colab_link": true
    },
    "kernelspec": {
      "name": "python3",
      "display_name": "Python 3"
    }
  },
  "cells": [
    {
      "cell_type": "markdown",
      "metadata": {
        "id": "view-in-github",
        "colab_type": "text"
      },
      "source": [
        "<a href=\"https://colab.research.google.com/github/pornpailinjanjit/data_viz/blob/main/More_advanced_data_structure.ipynb\" target=\"_parent\"><img src=\"https://colab.research.google.com/assets/colab-badge.svg\" alt=\"Open In Colab\"/></a>"
      ]
    },
    {
      "cell_type": "code",
      "metadata": {
        "id": "r-4YgY0gltJA"
      },
      "source": [
        ""
      ],
      "execution_count": null,
      "outputs": []
    },
    {
      "cell_type": "markdown",
      "metadata": {
        "id": "dEx73HcqnGWz"
      },
      "source": [
        "ข้อดี list เก็บได้เยอะสามารถเก็บอะไรก็ได้ \\\r\n",
        "    ง่ายกว่าเราจะใช้ list string จึงง่ายกว่า ภาษา C"
      ]
    },
    {
      "cell_type": "markdown",
      "metadata": {
        "id": "mQ8u7dzDoNWv"
      },
      "source": [
        "### Dictionary\r\n",
        "\r\n",
        "สามารถ index ด้วยอะไรก็ได้ แต่ลำดับจะหายไป"
      ]
    },
    {
      "cell_type": "code",
      "metadata": {
        "id": "QNnLbctuojLd"
      },
      "source": [
        "ex_dict = {'a':10, '1':1, 'stst':5} #curly brackets ในการบอกว่าเป็น dict ตัวแรก'a'เรีกว่าkey 10 เรีกว่าvalue"
      ],
      "execution_count": null,
      "outputs": []
    },
    {
      "cell_type": "code",
      "metadata": {
        "colab": {
          "base_uri": "https://localhost:8080/"
        },
        "id": "pe2YN85IoMyI",
        "outputId": "eb88a5d4-d908-43ad-fd78-8a487c9b19e4"
      },
      "source": [
        "ex_dict['stst']"
      ],
      "execution_count": null,
      "outputs": [
        {
          "output_type": "execute_result",
          "data": {
            "text/plain": [
              "5"
            ]
          },
          "metadata": {
            "tags": []
          },
          "execution_count": 2
        }
      ]
    },
    {
      "cell_type": "code",
      "metadata": {
        "id": "SFtiXpVgnoNO"
      },
      "source": [
        "ex2_dict = {1:'one', 2:'two', 3:'three'}"
      ],
      "execution_count": null,
      "outputs": []
    },
    {
      "cell_type": "code",
      "metadata": {
        "colab": {
          "base_uri": "https://localhost:8080/",
          "height": 35
        },
        "id": "JfKmf5p5pviR",
        "outputId": "88135b20-4142-4449-e088-d760f853ecb1"
      },
      "source": [
        "ex2_dict[1]"
      ],
      "execution_count": null,
      "outputs": [
        {
          "output_type": "execute_result",
          "data": {
            "application/vnd.google.colaboratory.intrinsic+json": {
              "type": "string"
            },
            "text/plain": [
              "'one'"
            ]
          },
          "metadata": {
            "tags": []
          },
          "execution_count": 6
        }
      ]
    },
    {
      "cell_type": "markdown",
      "metadata": {
        "id": "IkSE6XMgqSsA"
      },
      "source": [
        "#### การเพิ่มสมาชิก"
      ]
    },
    {
      "cell_type": "code",
      "metadata": {
        "id": "-x7qMGKOp0g3"
      },
      "source": [
        "ex2_dict[0] = 'zero'"
      ],
      "execution_count": null,
      "outputs": []
    },
    {
      "cell_type": "code",
      "metadata": {
        "colab": {
          "base_uri": "https://localhost:8080/"
        },
        "id": "pGJ6NsqcrBnE",
        "outputId": "baf3ed8b-8ad9-49cc-d8b7-65ca4ac2d782"
      },
      "source": [
        "ex2_dict"
      ],
      "execution_count": null,
      "outputs": [
        {
          "output_type": "execute_result",
          "data": {
            "text/plain": [
              "{0: 'zero', 1: 'one', 2: 'two', 3: 'three'}"
            ]
          },
          "metadata": {
            "tags": []
          },
          "execution_count": 9
        }
      ]
    },
    {
      "cell_type": "markdown",
      "metadata": {
        "id": "416E9pSPrGaX"
      },
      "source": [
        "คำสั้ง"
      ]
    },
    {
      "cell_type": "code",
      "metadata": {
        "colab": {
          "base_uri": "https://localhost:8080/"
        },
        "id": "_ewlnqsIrJJ7",
        "outputId": "f1ec7597-d15d-48a9-c5f0-bd600dbec1b6"
      },
      "source": [
        "ex2_dict.keys()"
      ],
      "execution_count": null,
      "outputs": [
        {
          "output_type": "execute_result",
          "data": {
            "text/plain": [
              "dict_keys([1, 2, 3, 0])"
            ]
          },
          "metadata": {
            "tags": []
          },
          "execution_count": 11
        }
      ]
    },
    {
      "cell_type": "code",
      "metadata": {
        "colab": {
          "base_uri": "https://localhost:8080/"
        },
        "id": "ZnaL9YGrrQo2",
        "outputId": "67cc178d-1d13-479e-8c55-8af030e7f8e8"
      },
      "source": [
        "for index in ex2_dict.keys():\r\n",
        "    print(index)"
      ],
      "execution_count": null,
      "outputs": [
        {
          "output_type": "stream",
          "text": [
            "1\n",
            "2\n",
            "3\n",
            "0\n"
          ],
          "name": "stdout"
        }
      ]
    },
    {
      "cell_type": "code",
      "metadata": {
        "colab": {
          "base_uri": "https://localhost:8080/"
        },
        "id": "f7SUFoGCsEUY",
        "outputId": "c4a1c91c-1443-4ff0-e389-6ed241e3f7e7"
      },
      "source": [
        "ex2_dict.values()"
      ],
      "execution_count": null,
      "outputs": [
        {
          "output_type": "execute_result",
          "data": {
            "text/plain": [
              "dict_values(['one', 'two', 'three', 'zero'])"
            ]
          },
          "metadata": {
            "tags": []
          },
          "execution_count": 14
        }
      ]
    },
    {
      "cell_type": "code",
      "metadata": {
        "colab": {
          "base_uri": "https://localhost:8080/"
        },
        "id": "qwQwU7WasU1X",
        "outputId": "834471d5-e44f-47b5-d481-5b64ddebe35c"
      },
      "source": [
        "index"
      ],
      "execution_count": null,
      "outputs": [
        {
          "output_type": "execute_result",
          "data": {
            "text/plain": [
              "0"
            ]
          },
          "metadata": {
            "tags": []
          },
          "execution_count": 15
        }
      ]
    },
    {
      "cell_type": "markdown",
      "metadata": {
        "id": "BUrcC_ESsrFH"
      },
      "source": [
        "ความสำคัญของ dict เอาไปใช้ร่วมกับ Dataframe ของ pandas"
      ]
    },
    {
      "cell_type": "markdown",
      "metadata": {
        "id": "Vr8YW8SMtA7z"
      },
      "source": [
        "## Numpy Array (array n มิติ)"
      ]
    },
    {
      "cell_type": "code",
      "metadata": {
        "id": "wmqPy-00slAl"
      },
      "source": [
        "import numpy #วิธีเรียกใช้งาน package"
      ],
      "execution_count": null,
      "outputs": []
    },
    {
      "cell_type": "markdown",
      "metadata": {
        "id": "_xU4_iALvpkB"
      },
      "source": [
        "สร้าง numpy array"
      ]
    },
    {
      "cell_type": "code",
      "metadata": {
        "colab": {
          "base_uri": "https://localhost:8080/"
        },
        "id": "oms9IQRXvyPO",
        "outputId": "29cdfa28-b9d3-4107-9c5c-1d485f3c34e5"
      },
      "source": [
        "ex_2d_array = numpy.array([[5.2,3.0,4.5],[9.1,0.1,0.3]])\r\n",
        "print(ex_2d_array)"
      ],
      "execution_count": null,
      "outputs": [
        {
          "output_type": "stream",
          "text": [
            "[[5.2 3.  4.5]\n",
            " [9.1 0.1 0.3]]\n"
          ],
          "name": "stdout"
        }
      ]
    },
    {
      "cell_type": "code",
      "metadata": {
        "id": "EHBRvG7lwinb"
      },
      "source": [
        ""
      ],
      "execution_count": null,
      "outputs": []
    },
    {
      "cell_type": "markdown",
      "metadata": {
        "id": "Q2xC0f6twlQP"
      },
      "source": [
        "การชี้ค่าใน numpy array"
      ]
    },
    {
      "cell_type": "code",
      "metadata": {
        "colab": {
          "base_uri": "https://localhost:8080/"
        },
        "id": "Ml06w8kAwvkG",
        "outputId": "fe7ff6c6-6b76-4f6e-c7c5-145a991cb425"
      },
      "source": [
        "ex_2d_array[1,2]"
      ],
      "execution_count": null,
      "outputs": [
        {
          "output_type": "execute_result",
          "data": {
            "text/plain": [
              "0.3"
            ]
          },
          "metadata": {
            "tags": []
          },
          "execution_count": 19
        }
      ]
    },
    {
      "cell_type": "code",
      "metadata": {
        "id": "YTQOD1WMyGA5"
      },
      "source": [
        "list_x = [[5.2,3.0,4.5],[9.1,0.1,0.3]] #การชี้ list\r\n"
      ],
      "execution_count": null,
      "outputs": []
    },
    {
      "cell_type": "markdown",
      "metadata": {
        "id": "ZL05Sh6jycoH"
      },
      "source": [
        "## operations"
      ]
    },
    {
      "cell_type": "code",
      "metadata": {
        "colab": {
          "base_uri": "https://localhost:8080/"
        },
        "id": "TA-otLpXyh-b",
        "outputId": "fcf2e84f-4d82-4b78-c3f4-fa334014abd5"
      },
      "source": [
        "ex2_2d_array = numpy.array([[1,0,0],[0,0,1]])\r\n",
        "print(ex2_2d_array)\r\n",
        "print(ex_2d_array)"
      ],
      "execution_count": null,
      "outputs": [
        {
          "output_type": "stream",
          "text": [
            "[[1 0 0]\n",
            " [0 0 1]]\n",
            "[[5.2 3.  4.5]\n",
            " [9.1 0.1 0.3]]\n"
          ],
          "name": "stdout"
        }
      ]
    },
    {
      "cell_type": "code",
      "metadata": {
        "colab": {
          "base_uri": "https://localhost:8080/"
        },
        "id": "_SCXF9K9zDHt",
        "outputId": "8e9a10a3-55f0-4e8a-cf19-725605fb8e80"
      },
      "source": [
        "ex_2d_array.shape #ตรวจสอบขนาดของ matrix"
      ],
      "execution_count": null,
      "outputs": [
        {
          "output_type": "execute_result",
          "data": {
            "text/plain": [
              "(2, 3)"
            ]
          },
          "metadata": {
            "tags": []
          },
          "execution_count": 21
        }
      ]
    },
    {
      "cell_type": "code",
      "metadata": {
        "colab": {
          "base_uri": "https://localhost:8080/"
        },
        "id": "cc747Xa2zUnU",
        "outputId": "129c4c1a-7fde-47f1-8b96-5fbadbf8990a"
      },
      "source": [
        "ex_2d_array + ex2_2d_array"
      ],
      "execution_count": null,
      "outputs": [
        {
          "output_type": "execute_result",
          "data": {
            "text/plain": [
              "array([[6.2, 3. , 4.5],\n",
              "       [9.1, 0.1, 1.3]])"
            ]
          },
          "metadata": {
            "tags": []
          },
          "execution_count": 22
        }
      ]
    },
    {
      "cell_type": "code",
      "metadata": {
        "colab": {
          "base_uri": "https://localhost:8080/"
        },
        "id": "599IxrCVzc4d",
        "outputId": "f048a04a-e208-4673-ed87-9d3f903cb6a4"
      },
      "source": [
        "list_x = [[5.2,3.0,4.5],[9.1,0.1,0.3]]\r\n",
        "list_x2 = [[1,0,0],[0,0,1]]\r\n",
        "\r\n",
        "list_x + list_x2"
      ],
      "execution_count": null,
      "outputs": [
        {
          "output_type": "execute_result",
          "data": {
            "text/plain": [
              "[[5.2, 3.0, 4.5], [9.1, 0.1, 0.3], [1, 0, 0], [0, 0, 1]]"
            ]
          },
          "metadata": {
            "tags": []
          },
          "execution_count": 23
        }
      ]
    },
    {
      "cell_type": "code",
      "metadata": {
        "colab": {
          "base_uri": "https://localhost:8080/"
        },
        "id": "XTMHYhuOz1nl",
        "outputId": "df73529b-0646-4b62-d3c2-014c09cffcae"
      },
      "source": [
        "ex_2d_array - ex2_2d_array"
      ],
      "execution_count": null,
      "outputs": [
        {
          "output_type": "execute_result",
          "data": {
            "text/plain": [
              "array([[ 4.2,  3. ,  4.5],\n",
              "       [ 9.1,  0.1, -0.7]])"
            ]
          },
          "metadata": {
            "tags": []
          },
          "execution_count": 24
        }
      ]
    },
    {
      "cell_type": "code",
      "metadata": {
        "colab": {
          "base_uri": "https://localhost:8080/"
        },
        "id": "EbaxsZq0z7U_",
        "outputId": "a87daf56-14d5-4735-8d98-44d47ff7cf27"
      },
      "source": [
        "ex_2d_array * ex2_2d_array"
      ],
      "execution_count": null,
      "outputs": [
        {
          "output_type": "execute_result",
          "data": {
            "text/plain": [
              "array([[5.2, 0. , 0. ],\n",
              "       [0. , 0. , 0.3]])"
            ]
          },
          "metadata": {
            "tags": []
          },
          "execution_count": 25
        }
      ]
    },
    {
      "cell_type": "code",
      "metadata": {
        "colab": {
          "base_uri": "https://localhost:8080/"
        },
        "id": "JNZfPzV0z-tP",
        "outputId": "373c7798-a41e-4bd8-c47b-7f67c47b8c12"
      },
      "source": [
        "print(ex_2d_array)\r\n",
        "print(ex_2d_array.T)"
      ],
      "execution_count": null,
      "outputs": [
        {
          "output_type": "stream",
          "text": [
            "[[5.2 3.  4.5]\n",
            " [9.1 0.1 0.3]]\n",
            "[[5.2 9.1]\n",
            " [3.  0.1]\n",
            " [4.5 0.3]]\n"
          ],
          "name": "stdout"
        }
      ]
    },
    {
      "cell_type": "code",
      "metadata": {
        "colab": {
          "base_uri": "https://localhost:8080/"
        },
        "id": "0BdbZ8362E8I",
        "outputId": "8b956ff7-7c06-4446-d67e-eef0df0c7328"
      },
      "source": [
        "numpy.dot(ex_2d_array,ex2_2d_array.T)"
      ],
      "execution_count": null,
      "outputs": [
        {
          "output_type": "execute_result",
          "data": {
            "text/plain": [
              "array([[5.2, 4.5],\n",
              "       [9.1, 0.3]])"
            ]
          },
          "metadata": {
            "tags": []
          },
          "execution_count": 27
        }
      ]
    },
    {
      "cell_type": "code",
      "metadata": {
        "id": "A7X8-jkC3H87"
      },
      "source": [
        "dot_mat = numpy.dot(ex_2d_array,ex2_2d_array.T)"
      ],
      "execution_count": null,
      "outputs": []
    },
    {
      "cell_type": "code",
      "metadata": {
        "colab": {
          "base_uri": "https://localhost:8080/"
        },
        "id": "7PF6JUhD27qg",
        "outputId": "f6396b56-7a90-4d11-995d-e6f087f53ec5"
      },
      "source": [
        "numpy.linalg.det(dot_mat)"
      ],
      "execution_count": null,
      "outputs": [
        {
          "output_type": "execute_result",
          "data": {
            "text/plain": [
              "-39.389999999999986"
            ]
          },
          "metadata": {
            "tags": []
          },
          "execution_count": 30
        }
      ]
    },
    {
      "cell_type": "markdown",
      "metadata": {
        "id": "KdWkvjJY3zv1"
      },
      "source": [
        "search google -> stackoverflow หรือ wed ของ package สำหรับ operations อื่นๆ"
      ]
    },
    {
      "cell_type": "markdown",
      "metadata": {
        "id": "oh5xqmT64PsE"
      },
      "source": [
        "### matrix slicing"
      ]
    },
    {
      "cell_type": "code",
      "metadata": {
        "colab": {
          "base_uri": "https://localhost:8080/"
        },
        "id": "3Y6ZD0PZ5fhq",
        "outputId": "eaa2197a-7a11-44c2-9c83-c6dca13e0752"
      },
      "source": [
        "print(ex_2d_array)"
      ],
      "execution_count": null,
      "outputs": [
        {
          "output_type": "stream",
          "text": [
            "[[5.2 3.  4.5]\n",
            " [9.1 0.1 0.3]]\n"
          ],
          "name": "stdout"
        }
      ]
    },
    {
      "cell_type": "code",
      "metadata": {
        "colab": {
          "base_uri": "https://localhost:8080/"
        },
        "id": "r3EdUq5n5s5Y",
        "outputId": "6f17e2f3-1e18-4639-abed-873ae3b2e4ea"
      },
      "source": [
        "ex_2d_array[1,1:]"
      ],
      "execution_count": null,
      "outputs": [
        {
          "output_type": "execute_result",
          "data": {
            "text/plain": [
              "array([0.1, 0.3])"
            ]
          },
          "metadata": {
            "tags": []
          },
          "execution_count": 32
        }
      ]
    },
    {
      "cell_type": "code",
      "metadata": {
        "colab": {
          "base_uri": "https://localhost:8080/"
        },
        "id": "OIH9fkAa58wq",
        "outputId": "2c33030a-a025-41c2-ad19-73442f853b8a"
      },
      "source": [
        "ex_2d_array[:,:2]"
      ],
      "execution_count": null,
      "outputs": [
        {
          "output_type": "execute_result",
          "data": {
            "text/plain": [
              "array([[5.2, 3. ],\n",
              "       [9.1, 0.1]])"
            ]
          },
          "metadata": {
            "tags": []
          },
          "execution_count": 33
        }
      ]
    },
    {
      "cell_type": "markdown",
      "metadata": {
        "id": "RsNxrSCm4ZWR"
      },
      "source": [
        "HW 5 เขียน function คูณ matrix\r\n",
        "แล้ว test กับ matrix \\\r\n",
        "(2,3)*(3,2) \\\r\n",
        "(4,4)*(4,1) \\\r\n",
        "(2,2)*(2,2) \\\r\n",
        "ส่งก่อนสอนคาบหน้า"
      ]
    },
    {
      "cell_type": "code",
      "metadata": {
        "id": "RwehjLYZ3Tzn"
      },
      "source": [
        "import numpy as np"
      ],
      "execution_count": null,
      "outputs": []
    },
    {
      "cell_type": "code",
      "metadata": {
        "id": "HneLUW3p7WEb"
      },
      "source": [
        "matrix_23 = np.array([[1,2,3],[4,5,6]])"
      ],
      "execution_count": null,
      "outputs": []
    },
    {
      "cell_type": "code",
      "metadata": {
        "colab": {
          "base_uri": "https://localhost:8080/"
        },
        "id": "FY3de8SI9H97",
        "outputId": "85a2d910-993e-49f7-d4ea-229e2a04a75c"
      },
      "source": [
        "matrix_23"
      ],
      "execution_count": null,
      "outputs": [
        {
          "output_type": "execute_result",
          "data": {
            "text/plain": [
              "array([[1, 2, 3],\n",
              "       [4, 5, 6]])"
            ]
          },
          "metadata": {
            "tags": []
          },
          "execution_count": 7
        }
      ]
    },
    {
      "cell_type": "code",
      "metadata": {
        "id": "-KeQD3wT74Cq"
      },
      "source": [
        "matrix_32 = np.array([[1,2],[3,4],[5,6]])"
      ],
      "execution_count": null,
      "outputs": []
    },
    {
      "cell_type": "code",
      "metadata": {
        "colab": {
          "base_uri": "https://localhost:8080/"
        },
        "id": "MOL_hKog8W1v",
        "outputId": "3f4f1ef9-8ac0-4233-95a8-85531f655bdd"
      },
      "source": [
        "matrix_32"
      ],
      "execution_count": null,
      "outputs": [
        {
          "output_type": "execute_result",
          "data": {
            "text/plain": [
              "array([[1, 2],\n",
              "       [3, 4],\n",
              "       [5, 6]])"
            ]
          },
          "metadata": {
            "tags": []
          },
          "execution_count": 8
        }
      ]
    },
    {
      "cell_type": "code",
      "metadata": {
        "id": "8vk6uGHM8ayf"
      },
      "source": [
        "matrix_44 = np.array([[1,2,3,4],[5,6,7,8],[9,8,7,6],[5,4,3,2]])"
      ],
      "execution_count": null,
      "outputs": []
    },
    {
      "cell_type": "code",
      "metadata": {
        "colab": {
          "base_uri": "https://localhost:8080/"
        },
        "id": "3gNayteS83li",
        "outputId": "1b97b54a-837b-4a21-ebee-5a5e39b357c8"
      },
      "source": [
        "matrix_44"
      ],
      "execution_count": null,
      "outputs": [
        {
          "output_type": "execute_result",
          "data": {
            "text/plain": [
              "array([[1, 2, 3, 4],\n",
              "       [5, 6, 7, 8],\n",
              "       [9, 8, 7, 6],\n",
              "       [5, 4, 3, 2]])"
            ]
          },
          "metadata": {
            "tags": []
          },
          "execution_count": 9
        }
      ]
    },
    {
      "cell_type": "code",
      "metadata": {
        "id": "00kJIRr29ilZ"
      },
      "source": [
        "matrix_41 = np.array([[1],[2],[3],[4]])"
      ],
      "execution_count": null,
      "outputs": []
    },
    {
      "cell_type": "code",
      "metadata": {
        "colab": {
          "base_uri": "https://localhost:8080/"
        },
        "id": "oWRDCC4Q9tHA",
        "outputId": "34524cbb-8ebc-495c-dd39-1eb3f4a2b828"
      },
      "source": [
        "matrix_41"
      ],
      "execution_count": null,
      "outputs": [
        {
          "output_type": "execute_result",
          "data": {
            "text/plain": [
              "array([[1],\n",
              "       [2],\n",
              "       [3],\n",
              "       [4]])"
            ]
          },
          "metadata": {
            "tags": []
          },
          "execution_count": 11
        }
      ]
    },
    {
      "cell_type": "code",
      "metadata": {
        "id": "XRJAmoRl9xK4"
      },
      "source": [
        "matrix_22 = np.array([[1,2],[3,4]])"
      ],
      "execution_count": null,
      "outputs": []
    },
    {
      "cell_type": "code",
      "metadata": {
        "colab": {
          "base_uri": "https://localhost:8080/"
        },
        "id": "QVbtpLXj-DZG",
        "outputId": "e0dd5bc8-46f9-4a88-8a1b-639da3321e49"
      },
      "source": [
        "matrix_22"
      ],
      "execution_count": null,
      "outputs": [
        {
          "output_type": "execute_result",
          "data": {
            "text/plain": [
              "array([[1, 2],\n",
              "       [3, 4]])"
            ]
          },
          "metadata": {
            "tags": []
          },
          "execution_count": 14
        }
      ]
    },
    {
      "cell_type": "code",
      "metadata": {
        "id": "IKCtMMco-Gku"
      },
      "source": [
        "matrix_2_2 = np.array([[5,6],[3,4]])\r\n"
      ],
      "execution_count": null,
      "outputs": []
    },
    {
      "cell_type": "code",
      "metadata": {
        "colab": {
          "base_uri": "https://localhost:8080/"
        },
        "id": "M54w0jFQ-VIB",
        "outputId": "ba36400a-6bf0-4ae1-8584-bb60a8ae7ff1"
      },
      "source": [
        "matrix_2_2"
      ],
      "execution_count": null,
      "outputs": [
        {
          "output_type": "execute_result",
          "data": {
            "text/plain": [
              "array([[5, 6],\n",
              "       [3, 4]])"
            ]
          },
          "metadata": {
            "tags": []
          },
          "execution_count": 16
        }
      ]
    },
    {
      "cell_type": "code",
      "metadata": {
        "id": "32pbhnro-XAK"
      },
      "source": [
        " def m_matrix (A,B):\r\n",
        "    C = [[0 for row in range(len(B[0]))] for col in range(len(A))]\r\n",
        "    for i in range(len(A)):\r\n",
        "        for j in range(len(B[0])):\r\n",
        "            for k in range(len(B)):\r\n",
        "                C[i][j] += A[i][k]*B[k][j]\r\n",
        "    D = np.matrix(C)\r\n",
        "    return D"
      ],
      "execution_count": null,
      "outputs": []
    },
    {
      "cell_type": "code",
      "metadata": {
        "colab": {
          "base_uri": "https://localhost:8080/"
        },
        "id": "tq5i9Put_pfV",
        "outputId": "a476222a-0eeb-4558-e5c9-91f2b4698f54"
      },
      "source": [
        "m_matrix(matrix_23,matrix_32) #(2,3)*(3,2)"
      ],
      "execution_count": null,
      "outputs": [
        {
          "output_type": "execute_result",
          "data": {
            "text/plain": [
              "matrix([[22, 28],\n",
              "        [49, 64]])"
            ]
          },
          "metadata": {
            "tags": []
          },
          "execution_count": 27
        }
      ]
    },
    {
      "cell_type": "code",
      "metadata": {
        "colab": {
          "base_uri": "https://localhost:8080/"
        },
        "id": "FFylDHqmAi9W",
        "outputId": "af68198a-02fb-41c9-e502-2f2cf3887f7f"
      },
      "source": [
        "m_matrix(matrix_44,matrix_41) #(4,4)*(4,1)"
      ],
      "execution_count": null,
      "outputs": [
        {
          "output_type": "execute_result",
          "data": {
            "text/plain": [
              "matrix([[30],\n",
              "        [70],\n",
              "        [70],\n",
              "        [30]])"
            ]
          },
          "metadata": {
            "tags": []
          },
          "execution_count": 28
        }
      ]
    },
    {
      "cell_type": "code",
      "metadata": {
        "colab": {
          "base_uri": "https://localhost:8080/"
        },
        "id": "EijhbOd2Ap62",
        "outputId": "5a50f8af-0e7f-4d78-bba0-d0866b2235f4"
      },
      "source": [
        "m_matrix(matrix_22,matrix_2_2) #(2,2)*(2,2)"
      ],
      "execution_count": null,
      "outputs": [
        {
          "output_type": "execute_result",
          "data": {
            "text/plain": [
              "matrix([[11, 14],\n",
              "        [27, 34]])"
            ]
          },
          "metadata": {
            "tags": []
          },
          "execution_count": 29
        }
      ]
    },
    {
      "cell_type": "markdown",
      "metadata": {
        "id": "rogGVBBZ5VLe"
      },
      "source": [
        "#randon ,ones,zeros"
      ]
    },
    {
      "cell_type": "markdown",
      "metadata": {
        "id": "7rhA52h4TAdH"
      },
      "source": [
        "zeros numpy\r\n",
        "input มี2อย่าง จำเป็นกับไม่จำเป็น"
      ]
    },
    {
      "cell_type": "code",
      "metadata": {
        "id": "JzgR0CI5S2l2"
      },
      "source": [
        "import numpy as np #import numpy แล้วตั้งชื่อเป็น np"
      ],
      "execution_count": 1,
      "outputs": []
    },
    {
      "cell_type": "code",
      "metadata": {
        "colab": {
          "base_uri": "https://localhost:8080/"
        },
        "id": "Vb8s2pcBWOkv",
        "outputId": "326e49fd-5848-496b-98cf-b638607c89fb"
      },
      "source": [
        "np.zeros(2)"
      ],
      "execution_count": 3,
      "outputs": [
        {
          "output_type": "execute_result",
          "data": {
            "text/plain": [
              "array([0., 0.])"
            ]
          },
          "metadata": {
            "tags": []
          },
          "execution_count": 3
        }
      ]
    },
    {
      "cell_type": "code",
      "metadata": {
        "colab": {
          "base_uri": "https://localhost:8080/"
        },
        "id": "7TseIsvgWXNk",
        "outputId": "44dbf35a-00cd-4242-ca39-c7d3eb04ce28"
      },
      "source": [
        "np.zeros((2,3))"
      ],
      "execution_count": 5,
      "outputs": [
        {
          "output_type": "execute_result",
          "data": {
            "text/plain": [
              "array([[0., 0., 0.],\n",
              "       [0., 0., 0.]])"
            ]
          },
          "metadata": {
            "tags": []
          },
          "execution_count": 5
        }
      ]
    },
    {
      "cell_type": "markdown",
      "metadata": {
        "id": "ayVfoZ05XSOq"
      },
      "source": [
        "## ones"
      ]
    },
    {
      "cell_type": "code",
      "metadata": {
        "colab": {
          "base_uri": "https://localhost:8080/"
        },
        "id": "EZETXypgWdK5",
        "outputId": "b91fdb7d-648d-4975-d76f-ec2ed08c8e5a"
      },
      "source": [
        "np.ones((2,3))"
      ],
      "execution_count": 6,
      "outputs": [
        {
          "output_type": "execute_result",
          "data": {
            "text/plain": [
              "array([[1., 1., 1.],\n",
              "       [1., 1., 1.]])"
            ]
          },
          "metadata": {
            "tags": []
          },
          "execution_count": 6
        }
      ]
    },
    {
      "cell_type": "markdown",
      "metadata": {
        "id": "HJihpDDzX8Q2"
      },
      "source": [
        "## Matrix Operation (scalar multiplication)"
      ]
    },
    {
      "cell_type": "code",
      "metadata": {
        "colab": {
          "base_uri": "https://localhost:8080/"
        },
        "id": "QgkbA3D6XhZW",
        "outputId": "d58dbdff-9e67-4c97-8178-83b960992eab"
      },
      "source": [
        "M_one = np.ones((2,3))\r\n",
        "2*M_one"
      ],
      "execution_count": 8,
      "outputs": [
        {
          "output_type": "execute_result",
          "data": {
            "text/plain": [
              "array([[2., 2., 2.],\n",
              "       [2., 2., 2.]])"
            ]
          },
          "metadata": {
            "tags": []
          },
          "execution_count": 8
        }
      ]
    },
    {
      "cell_type": "markdown",
      "metadata": {
        "id": "h6FhsmF5Y87J"
      },
      "source": [
        "##random"
      ]
    },
    {
      "cell_type": "code",
      "metadata": {
        "colab": {
          "base_uri": "https://localhost:8080/"
        },
        "id": "23yMzwNhYxMq",
        "outputId": "12b7b75a-650a-4147-e6bc-443ec845c7e1"
      },
      "source": [
        "np.random.rand(2,3) # uniform random [0,1)"
      ],
      "execution_count": 9,
      "outputs": [
        {
          "output_type": "execute_result",
          "data": {
            "text/plain": [
              "array([[0.76130861, 0.59735313, 0.62401717],\n",
              "       [0.5515312 , 0.80292887, 0.98408008]])"
            ]
          },
          "metadata": {
            "tags": []
          },
          "execution_count": 9
        }
      ]
    },
    {
      "cell_type": "code",
      "metadata": {
        "colab": {
          "base_uri": "https://localhost:8080/"
        },
        "id": "CsS5Ke2pcKBn",
        "outputId": "2eaf4eb5-b020-4111-8f2c-2d39e0624fde"
      },
      "source": [
        "np.random.randn(2,3) # sample from normal distribution mean=0 std=1"
      ],
      "execution_count": 11,
      "outputs": [
        {
          "output_type": "execute_result",
          "data": {
            "text/plain": [
              "array([[-1.16024648, -2.21203365, -0.77531919],\n",
              "       [ 0.80976663,  0.64876252, -0.68843523]])"
            ]
          },
          "metadata": {
            "tags": []
          },
          "execution_count": 11
        }
      ]
    },
    {
      "cell_type": "code",
      "metadata": {
        "colab": {
          "base_uri": "https://localhost:8080/",
          "height": 36
        },
        "id": "X4mxkTHPdXUv",
        "outputId": "6e85eee6-a81c-4d3c-fcd2-5f8c94d54729"
      },
      "source": [
        "np.random.choice([1,2,3,'a','b','c'])"
      ],
      "execution_count": 15,
      "outputs": [
        {
          "output_type": "execute_result",
          "data": {
            "application/vnd.google.colaboratory.intrinsic+json": {
              "type": "string"
            },
            "text/plain": [
              "'3'"
            ]
          },
          "metadata": {
            "tags": []
          },
          "execution_count": 15
        }
      ]
    },
    {
      "cell_type": "code",
      "metadata": {
        "colab": {
          "base_uri": "https://localhost:8080/"
        },
        "id": "MowcsKwXdGvk",
        "outputId": "a9b3e4bb-717a-4940-dd72-3bd33336cc9f"
      },
      "source": [
        "np.random.choice([1,2,3,28,11,100],size = 2)"
      ],
      "execution_count": 17,
      "outputs": [
        {
          "output_type": "execute_result",
          "data": {
            "text/plain": [
              "array([100,  28])"
            ]
          },
          "metadata": {
            "tags": []
          },
          "execution_count": 17
        }
      ]
    },
    {
      "cell_type": "code",
      "metadata": {
        "colab": {
          "base_uri": "https://localhost:8080/"
        },
        "id": "0v9ZFKiBeqR5",
        "outputId": "fb9b4f89-4e0e-4dcb-e36a-59613b29ab46"
      },
      "source": [
        "np.random.choice([1,2,3,28,11,100],size = (2,3))"
      ],
      "execution_count": 18,
      "outputs": [
        {
          "output_type": "execute_result",
          "data": {
            "text/plain": [
              "array([[100,  28,  11],\n",
              "       [  2,   2, 100]])"
            ]
          },
          "metadata": {
            "tags": []
          },
          "execution_count": 18
        }
      ]
    },
    {
      "cell_type": "code",
      "metadata": {
        "colab": {
          "base_uri": "https://localhost:8080/"
        },
        "id": "lnIiHziVfdHV",
        "outputId": "49724995-d270-4956-beee-be62e8fa0b25"
      },
      "source": [
        "np.random.choice([1,2,3,28,11,100],size = (2,3), replace=False)"
      ],
      "execution_count": 19,
      "outputs": [
        {
          "output_type": "execute_result",
          "data": {
            "text/plain": [
              "array([[100,   2,   3],\n",
              "       [ 11,  28,   1]])"
            ]
          },
          "metadata": {
            "tags": []
          },
          "execution_count": 19
        }
      ]
    },
    {
      "cell_type": "code",
      "metadata": {
        "colab": {
          "base_uri": "https://localhost:8080/"
        },
        "id": "AyHW94RlfoYh",
        "outputId": "3fb70ae3-ec96-4173-e396-7964443d2304"
      },
      "source": [
        "np.random.choice(['A','B','C','D','F'],size=35, p= [0.1,0.2,0.4,0.29,0.01])"
      ],
      "execution_count": 21,
      "outputs": [
        {
          "output_type": "execute_result",
          "data": {
            "text/plain": [
              "array(['B', 'C', 'C', 'B', 'C', 'C', 'A', 'C', 'B', 'A', 'D', 'D', 'C',\n",
              "       'D', 'B', 'D', 'A', 'A', 'C', 'C', 'A', 'C', 'B', 'A', 'D', 'D',\n",
              "       'D', 'B', 'D', 'D', 'C', 'C', 'B', 'A', 'C'], dtype='<U1')"
            ]
          },
          "metadata": {
            "tags": []
          },
          "execution_count": 21
        }
      ]
    },
    {
      "cell_type": "markdown",
      "metadata": {
        "id": "e8D15UTAhCdg"
      },
      "source": [
        "#เฉลย HW Matrix Multiplication"
      ]
    },
    {
      "cell_type": "code",
      "metadata": {
        "id": "2u6s-olPlw0s"
      },
      "source": [
        "def mat_mul(A,B):\r\n",
        "    C = np.zeros((A.shape[0],B.shape[1]))#เตรียมขนาดของ matrix ผลลัพธ์\r\n",
        "    for r_a in range(A.shape[0]):\r\n",
        "        for c_b in range(B.shape[1]):\r\n",
        "            for every_element in range(A.shape[1]):\r\n",
        "                C[r_a,c_b] = C[r_a,c_b] + (A[r_a,every_element] * B[every_element,c_b])\r\n",
        "    return C"
      ],
      "execution_count": 34,
      "outputs": []
    },
    {
      "cell_type": "code",
      "metadata": {
        "id": "smzE21g3j_pE"
      },
      "source": [
        "mat1 = np.array([[1,2,3],[4,5,6]])\r\n",
        "mat2 = np.array([[7,8,],[9,10],[11,12]])"
      ],
      "execution_count": 28,
      "outputs": []
    },
    {
      "cell_type": "code",
      "metadata": {
        "colab": {
          "base_uri": "https://localhost:8080/"
        },
        "id": "9e5iDlqfkx01",
        "outputId": "5f3a643c-a163-41a7-ae05-6b75d16b0e15"
      },
      "source": [
        "mat_mul(mat1,mat2)"
      ],
      "execution_count": 29,
      "outputs": [
        {
          "output_type": "execute_result",
          "data": {
            "text/plain": [
              "array([[ 58.,  64.],\n",
              "       [139., 154.]])"
            ]
          },
          "metadata": {
            "tags": []
          },
          "execution_count": 29
        }
      ]
    }
  ]
}