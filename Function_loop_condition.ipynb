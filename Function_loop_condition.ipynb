{
  "nbformat": 4,
  "nbformat_minor": 0,
  "metadata": {
    "colab": {
      "name": "Function_loop_condition",
      "provenance": [],
      "authorship_tag": "ABX9TyNavSUb29FPZ7e4M+11vY9A",
      "include_colab_link": true
    },
    "kernelspec": {
      "name": "python3",
      "display_name": "Python 3"
    }
  },
  "cells": [
    {
      "cell_type": "markdown",
      "metadata": {
        "id": "view-in-github",
        "colab_type": "text"
      },
      "source": [
        "<a href=\"https://colab.research.google.com/github/pornpailinjanjit/data_viz/blob/main/Function_loop_condition.ipynb\" target=\"_parent\"><img src=\"https://colab.research.google.com/assets/colab-badge.svg\" alt=\"Open In Colab\"/></a>"
      ]
    },
    {
      "cell_type": "code",
      "metadata": {
        "id": "ejGr9bamfbsy"
      },
      "source": [
        ""
      ],
      "execution_count": null,
      "outputs": []
    },
    {
      "cell_type": "code",
      "metadata": {
        "colab": {
          "base_uri": "https://localhost:8080/"
        },
        "id": "N7PmX6hrnS_p",
        "outputId": "21c9be8e-4119-48ca-c174-20d7d611d109"
      },
      "source": [
        "name = 'พรไพลิน'\r\n",
        "surname = 'จันทร์จิตร'\r\n",
        "ID = '613020193-8'\r\n",
        "b= f'ชื่อ {name} นามสกุล {surname} รหัส {ID}'\r\n",
        "print(b)"
      ],
      "execution_count": null,
      "outputs": [
        {
          "output_type": "stream",
          "text": [
            "ชื่อ พรไพลิน นามสกุล จันทร์จิตร รหัส 613020193-8\n"
          ],
          "name": "stdout"
        }
      ]
    },
    {
      "cell_type": "markdown",
      "metadata": {
        "id": "ABLtZ2-efcyp"
      },
      "source": [
        "## Fungtion"
      ]
    },
    {
      "cell_type": "markdown",
      "metadata": {
        "id": "Ytt557AXgo9J"
      },
      "source": [
        "## fungtion template\r\n",
        " ## ทำหน้าที่รับ input มาประมวณผลออกมาเป็น output\r\n",
        " ## f(x)=y"
      ]
    },
    {
      "cell_type": "markdown",
      "metadata": {
        "id": "3MhGcG7Cg9Ia"
      },
      "source": [
        "### def คือการกำหนดฟังก์ชัน"
      ]
    },
    {
      "cell_type": "code",
      "metadata": {
        "id": "gq_2o6FwlLfO"
      },
      "source": [
        ""
      ],
      "execution_count": null,
      "outputs": []
    },
    {
      "cell_type": "markdown",
      "metadata": {
        "id": "OJ4fBTf9hHns"
      },
      "source": [
        "```python \r\n",
        "     def funtion_name(_Input_) :\r\n",
        "       do_something with _Input_ to get _Output_\r\n",
        "       return _output\r\n",
        "```\r\n",
        "\r\n",
        "backtick (`)\r\n",
        "tilde (~)\r\n",
        "curly bracket ({})\r\n",
        "square bracket ([])\r\n"
      ]
    },
    {
      "cell_type": "markdown",
      "metadata": {
        "id": "acv56MbSmHkR"
      },
      "source": [
        "funtion มีส่วนสำคัญทั้งหมด 4 ส่วน\r\n",
        " 1. บอกpython ว่าเราจะเขียนฟังก์ชั่น ชื่ออะไร ```def function_name() :```\r\n",
        " (ขาดไม่ได้)\r\n",
        " 2. กำหนดตัวแปรที่จะเป็น input ```_Input_``` (ขาดได้)\r\n",
        " 3. ส่วนประมวลผล  ```do_something with _Input_ to get _Output_ ```(ขาดไม่ได้)\r\n",
        " 4. ส่วน Output ```return _Output_ ``` (ขาดได้)"
      ]
    },
    {
      "cell_type": "code",
      "metadata": {
        "id": "iAqbw88ehMy_"
      },
      "source": [
        ""
      ],
      "execution_count": null,
      "outputs": []
    },
    {
      "cell_type": "markdown",
      "metadata": {
        "id": "6ZdoVA95hYZE"
      },
      "source": [
        "ตัวอย่างการเขียน normal function"
      ]
    },
    {
      "cell_type": "code",
      "metadata": {
        "id": "zQB0cgr-kZQb"
      },
      "source": [
        "def print_name(name,surname,ID):\r\n",
        "  st = f'ชื่อ {name} นามสกุล {surname} รหัส {ID}'\r\n",
        "  print(st)"
      ],
      "execution_count": 6,
      "outputs": []
    },
    {
      "cell_type": "code",
      "metadata": {
        "colab": {
          "base_uri": "https://localhost:8080/"
        },
        "id": "QUEXkaeyRSIW",
        "outputId": "54fe431b-0dbb-4734-d4c5-de02a08fc864"
      },
      "source": [
        "print_name('ทันเทพ','64xxxxxxxx','สลิลทิพย์')"
      ],
      "execution_count": 7,
      "outputs": [
        {
          "output_type": "stream",
          "text": [
            "ชื่อ ทันเทพ นามสกุล 64xxxxxxxx รหัส สลิลทิพย์\n"
          ],
          "name": "stdout"
        }
      ]
    },
    {
      "cell_type": "code",
      "metadata": {
        "colab": {
          "base_uri": "https://localhost:8080/"
        },
        "id": "iVSTfb7BlIZE",
        "outputId": "24288f29-1f3b-4aec-b447-4082c487a624"
      },
      "source": [
        "print(print_name(name='พรไพลิน',surname='จันทร์จิตร',ID='613020193-8'))"
      ],
      "execution_count": 8,
      "outputs": [
        {
          "output_type": "stream",
          "text": [
            "ชื่อ พรไพลิน นามสกุล จันทร์จิตร รหัส 613020193-8\n",
            "None\n"
          ],
          "name": "stdout"
        }
      ]
    },
    {
      "cell_type": "markdown",
      "metadata": {
        "id": "L3V8fKwxVVWV"
      },
      "source": [
        "ขอสังเกต python กับภาษา c มันจะไม่มี{}เปิด-ปิด  pyhton \r\n",
        "## จะเว้นวรรค(indent) แทนเพื่อบอกขอบเขตของโปรแกรม"
      ]
    },
    {
      "cell_type": "markdown",
      "metadata": {
        "id": "xg6nES7gq96K"
      },
      "source": [
        "ฟังก์ชั่นไม่จำเป็นต้องมี output"
      ]
    },
    {
      "cell_type": "code",
      "metadata": {
        "id": "f6jyyKIvUkMm"
      },
      "source": [
        "def print_name2(surname,ID,name):\r\n",
        "  st = f'ชื่อ {name} นามสกุล {surname} รหัส {ID}'\r\n",
        "  print (st)  \r\n"
      ],
      "execution_count": 10,
      "outputs": []
    },
    {
      "cell_type": "code",
      "metadata": {
        "colab": {
          "base_uri": "https://localhost:8080/"
        },
        "id": "R_8LUwvCWRfu",
        "outputId": "5231ceb1-a8fe-46ef-9f63-56e185e1499c"
      },
      "source": [
        "print_name2(name='พรไพลิน',surname='จันทร์จิตร',ID='613020193-8')"
      ],
      "execution_count": 11,
      "outputs": [
        {
          "output_type": "stream",
          "text": [
            "ชื่อ พรไพลิน นามสกุล จันทร์จิตร รหัส 613020193-8\n"
          ],
          "name": "stdout"
        }
      ]
    },
    {
      "cell_type": "markdown",
      "metadata": {
        "id": "YW8ggVyITjes"
      },
      "source": [
        "เราสามารถเพิ่มคำสั่งเข้าไปในฟังก์ชั่นอีกได้ โดยการเปลี่ยน คำสั่ง return เป็น prinnt ()ได้ เช่นตัวอย่างนี้ ได้ทำการเพิ่ม st2= f'เกรดวิชา"
      ]
    },
    {
      "cell_type": "code",
      "metadata": {
        "id": "6xpXDPP1TicU"
      },
      "source": [
        ""
      ],
      "execution_count": null,
      "outputs": []
    },
    {
      "cell_type": "markdown",
      "metadata": {
        "id": "Yy_crY5Yxe8V"
      },
      "source": [
        "ฟังก์ชั่นไม่จำเป็นต้องมี input"
      ]
    },
    {
      "cell_type": "code",
      "metadata": {
        "id": "ShDAXBbzp2u-"
      },
      "source": [
        "def pi():\r\n",
        "  return 3.14159265359\r\n",
        "  "
      ],
      "execution_count": 13,
      "outputs": []
    },
    {
      "cell_type": "code",
      "metadata": {
        "colab": {
          "base_uri": "https://localhost:8080/"
        },
        "id": "hUqKSHz7X9Q6",
        "outputId": "e00630f9-86db-40e9-c722-3ec3c1d8ca4b"
      },
      "source": [
        "2*pi()*2"
      ],
      "execution_count": 14,
      "outputs": [
        {
          "output_type": "execute_result",
          "data": {
            "text/plain": [
              "12.56637061436"
            ]
          },
          "metadata": {
            "tags": []
          },
          "execution_count": 14
        }
      ]
    },
    {
      "cell_type": "code",
      "metadata": {
        "colab": {
          "base_uri": "https://localhost:8080/"
        },
        "id": "OPmmwN87q8sg",
        "outputId": "ae3a7a20-4840-4442-9ae1-6ffe447f1342"
      },
      "source": [
        "pi()*(2**2)  ##หาพื้นที่วงกลมที่มีรัศมเท่ากับ pi * r^2"
      ],
      "execution_count": 15,
      "outputs": [
        {
          "output_type": "execute_result",
          "data": {
            "text/plain": [
              "12.56637061436"
            ]
          },
          "metadata": {
            "tags": []
          },
          "execution_count": 15
        }
      ]
    },
    {
      "cell_type": "markdown",
      "metadata": {
        "id": "OQwjsPHVr1bR"
      },
      "source": [
        "##เราสามารถกำหนดค่า default ให้กับฟันก์ชั่นได้"
      ]
    },
    {
      "cell_type": "markdown",
      "metadata": {
        "id": "co8M-2FUZF3D"
      },
      "source": [
        "ค่า default คือค่าที่เราไม่กรอกอะไรก็จะเป็นค่านั้น"
      ]
    },
    {
      "cell_type": "code",
      "metadata": {
        "id": "-ATb0o-RxUSI"
      },
      "source": [
        "def print_2lines_default(name,surname,ID,grade='F') : ##print_2lines แปลว่าprint2บรรทัด\r\n",
        "  st = f'ชื่อ {name} นามสกุล {surname} รหัส {ID}'\r\n",
        "  print (st)\r\n",
        "  st2=f'เกรดวิชา Data Viz >>> {grade}'\r\n",
        "  print(st2) "
      ],
      "execution_count": 21,
      "outputs": []
    },
    {
      "cell_type": "code",
      "metadata": {
        "colab": {
          "base_uri": "https://localhost:8080/"
        },
        "id": "271lV4VCbGzE",
        "outputId": "94fd3721-96ae-4c45-97dd-5176331d4f61"
      },
      "source": [
        "print_2lines_default('พรไพลิน','จันทร์จิตร','613020193-8')"
      ],
      "execution_count": 22,
      "outputs": [
        {
          "output_type": "stream",
          "text": [
            "ชื่อ พรไพลิน นามสกุล จันทร์จิตร รหัส 613020193-8\n",
            "เกรดวิชา Data Viz >>> F\n"
          ],
          "name": "stdout"
        }
      ]
    },
    {
      "cell_type": "code",
      "metadata": {
        "colab": {
          "base_uri": "https://localhost:8080/"
        },
        "id": "3GEhWGTNcv43",
        "outputId": "21478600-c5f4-4d3a-95d0-e6163ab4767f"
      },
      "source": [
        "print_2lines_default('พรไพลิน','จันทร์จิตร','613020193-8','A')"
      ],
      "execution_count": 23,
      "outputs": [
        {
          "output_type": "stream",
          "text": [
            "ชื่อ พรไพลิน นามสกุล จันทร์จิตร รหัส 613020193-8\n",
            "เกรดวิชา Data Viz >>> A\n"
          ],
          "name": "stdout"
        }
      ]
    },
    {
      "cell_type": "markdown",
      "metadata": {
        "id": "uR4F1s8_fIlq"
      },
      "source": [
        "##จากการบ้าน คาบที่1 covid "
      ]
    },
    {
      "cell_type": "markdown",
      "metadata": {
        "id": "IaxNmTDQfYAf"
      },
      "source": [
        "ให้สร้างฟังก์ชั่นคำนวณเวลาเป็นวินาทีของเวลาใดๆ และ print ออกมาให้สวบงาม"
      ]
    },
    {
      "cell_type": "code",
      "metadata": {
        "id": "p_RHngGxyPXO"
      },
      "source": [
        "def fanction_a(Time) :\r\n",
        "  pt = Time.split(':')\r\n",
        "  s = pt[0]\r\n",
        "  b = pt[1]\r\n",
        "  c = pt[2]\r\n",
        "  total_s = int(s)*60*60+int(b)*60+int(c)\r\n",
        "  t_s = f'{Time} = {total_s} s'\r\n",
        "  print(t_s)\r\n"
      ],
      "execution_count": 35,
      "outputs": []
    },
    {
      "cell_type": "code",
      "metadata": {
        "colab": {
          "base_uri": "https://localhost:8080/"
        },
        "id": "0tg1AsqWyT55",
        "outputId": "731a5330-1d49-4730-ed00-3dfea64ae35c"
      },
      "source": [
        "fanction_a('12:30:15')\r\n",
        "fanction_a('13:41:07')\r\n",
        "fanction_a('12:53:15')\r\n",
        "fanction_a('00:59:25')\r\n",
        "fanction_a('11:11:11')\r\n",
        "fanction_a('16:06:09')"
      ],
      "execution_count": 36,
      "outputs": [
        {
          "output_type": "stream",
          "text": [
            "12:30:15 = 45015 s\n",
            "13:41:07 = 49267 s\n",
            "12:53:15 = 46395 s\n",
            "00:59:25 = 3565 s\n",
            "11:11:11 = 40271 s\n",
            "16:06:09 = 57969 s\n"
          ],
          "name": "stdout"
        }
      ]
    },
    {
      "cell_type": "markdown",
      "metadata": {
        "id": "_8NdgZ7Hyd7X"
      },
      "source": [
        "ให้ สร้าง list ของเวลา... แล้ววนลูปเรียกฟังก์ชั่นคำนวณเวลาเป็น วินาที่\r\n",
        "commit ว่า HW3 หมดเวลา เที่ยงคืนวันจันทร์"
      ]
    },
    {
      "cell_type": "code",
      "metadata": {
        "id": "2S6huM7wyfSZ"
      },
      "source": [
        "list_timez = ['12:30:15', '13:41:07', '12:53:15', '00:59:25', '11:11:11', '16:06:09']"
      ],
      "execution_count": 38,
      "outputs": []
    },
    {
      "cell_type": "code",
      "metadata": {
        "colab": {
          "base_uri": "https://localhost:8080/"
        },
        "id": "0-UtAb9dyoto",
        "outputId": "2afae72a-b9dc-4f7d-c5fa-f69ecd9dad7d"
      },
      "source": [
        "for z in list_timez :\r\n",
        "  t1 = z.split(':')\r\n",
        "  s = t1[0]\r\n",
        "  b = t1[1]\r\n",
        "  c = t1[2]\r\n",
        "  total_s = int(s)*60*60+int(b)*60+int(c)\r\n",
        "  t_s = f'{z} = {total_s} s'\r\n",
        "  print(t_s)"
      ],
      "execution_count": 39,
      "outputs": [
        {
          "output_type": "stream",
          "text": [
            "12:30:15 = 45015 s\n",
            "13:41:07 = 49267 s\n",
            "12:53:15 = 46395 s\n",
            "00:59:25 = 3565 s\n",
            "11:11:11 = 40271 s\n",
            "16:06:09 = 57969 s\n"
          ],
          "name": "stdout"
        }
      ]
    },
    {
      "cell_type": "markdown",
      "metadata": {
        "id": "x6hpSWW40Yhb"
      },
      "source": [
        "### LOOP การวนซ้ำ"
      ]
    },
    {
      "cell_type": "markdown",
      "metadata": {
        "id": "2aRXTlZb0iaJ"
      },
      "source": [
        "for เป็นคำที่ใช้บอก python ว่าเรากำลังเขียน loop โดย for จะวนดึงสมาชิกจาก listaA มาทำ process do_someting\r\n"
      ]
    },
    {
      "cell_type": "code",
      "metadata": {
        "colab": {
          "base_uri": "https://localhost:8080/"
        },
        "id": "dFSd1eMg0gww",
        "outputId": "cef2f588-8cb8-4695-e70b-7071d551892b"
      },
      "source": [
        "for i in [1,2,3] :\r\n",
        "  print (f'this member = {i} after process = {i**2}')"
      ],
      "execution_count": null,
      "outputs": [
        {
          "output_type": "stream",
          "text": [
            "this member = 1 after process = 1\n",
            "this member = 2 after process = 4\n",
            "this member = 3 after process = 9\n"
          ],
          "name": "stdout"
        }
      ]
    },
    {
      "cell_type": "code",
      "metadata": {
        "colab": {
          "base_uri": "https://localhost:8080/"
        },
        "id": "SvxiRXqK1Zt-",
        "outputId": "5ca8a22a-99fe-4576-ef07-c115fd6a85b6"
      },
      "source": [
        "for i in [1,2,3] :\r\n",
        "  o = i**2\r\n",
        "  print (f'this member = {i} after process = {i**2}')"
      ],
      "execution_count": null,
      "outputs": [
        {
          "output_type": "stream",
          "text": [
            "this member = 1 after process = 1\n",
            "this member = 2 after process = 4\n",
            "this member = 3 after process = 9\n"
          ],
          "name": "stdout"
        }
      ]
    },
    {
      "cell_type": "code",
      "metadata": {
        "id": "Ehs95Qb41tLS"
      },
      "source": [
        ""
      ],
      "execution_count": null,
      "outputs": []
    }
  ]
}