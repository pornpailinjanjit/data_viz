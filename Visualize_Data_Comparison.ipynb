{
  "nbformat": 4,
  "nbformat_minor": 0,
  "metadata": {
    "colab": {
      "name": "Visualize Data Comparison.ipynb",
      "provenance": [],
      "authorship_tag": "ABX9TyOoL3bWOeRLSK7o6Slenuv3",
      "include_colab_link": true
    },
    "kernelspec": {
      "name": "python3",
      "display_name": "Python 3"
    },
    "language_info": {
      "name": "python"
    }
  },
  "cells": [
    {
      "cell_type": "markdown",
      "metadata": {
        "id": "view-in-github",
        "colab_type": "text"
      },
      "source": [
        "<a href=\"https://colab.research.google.com/github/pornpailinjanjit/data_viz/blob/main/Visualize_Data_Comparison.ipynb\" target=\"_parent\"><img src=\"https://colab.research.google.com/assets/colab-badge.svg\" alt=\"Open In Colab\"/></a>"
      ]
    },
    {
      "cell_type": "code",
      "metadata": {
        "id": "xD6U81MtJVHi"
      },
      "source": [
        "import pandas as pd\n",
        "import os\n",
        "from datetime import datetime as dt\n",
        "from datetime import time"
      ],
      "execution_count": 57,
      "outputs": []
    },
    {
      "cell_type": "code",
      "metadata": {
        "colab": {
          "base_uri": "https://localhost:8080/",
          "height": 585
        },
        "id": "rEH-AajjJt3L",
        "outputId": "4f03766a-e72b-4108-8e01-fba6d8e994ec"
      },
      "source": [
        "data = pd.read_csv('search_request.csv', encoding='iso-8859-11')\n",
        "data"
      ],
      "execution_count": 2,
      "outputs": [
        {
          "output_type": "execute_result",
          "data": {
            "text/html": [
              "<div>\n",
              "<style scoped>\n",
              "    .dataframe tbody tr th:only-of-type {\n",
              "        vertical-align: middle;\n",
              "    }\n",
              "\n",
              "    .dataframe tbody tr th {\n",
              "        vertical-align: top;\n",
              "    }\n",
              "\n",
              "    .dataframe thead th {\n",
              "        text-align: right;\n",
              "    }\n",
              "</style>\n",
              "<table border=\"1\" class=\"dataframe\">\n",
              "  <thead>\n",
              "    <tr style=\"text-align: right;\">\n",
              "      <th></th>\n",
              "      <th>Unnamed: 0</th>\n",
              "      <th>search_id</th>\n",
              "      <th>search_timestamp</th>\n",
              "      <th>user_agent</th>\n",
              "      <th>q</th>\n",
              "      <th>user_id</th>\n",
              "      <th>session_id</th>\n",
              "      <th>number_of_result</th>\n",
              "      <th>lat</th>\n",
              "      <th>long</th>\n",
              "    </tr>\n",
              "  </thead>\n",
              "  <tbody>\n",
              "    <tr>\n",
              "      <th>0</th>\n",
              "      <td>0</td>\n",
              "      <td>683de889-f923-494e-9d46-44a3d67b7259</td>\n",
              "      <td>2018-06-14 12:34:35.449</td>\n",
              "      <td>Wongnai/8.17.3 rv:8.17.3.3921 (iPhone5,4; iOS;...</td>\n",
              "      <td>NaN</td>\n",
              "      <td>NaN</td>\n",
              "      <td>5lqjjikta19d296mo7g2h1k86p</td>\n",
              "      <td>18.0</td>\n",
              "      <td>12.634739</td>\n",
              "      <td>101.463177</td>\n",
              "    </tr>\n",
              "    <tr>\n",
              "      <th>1</th>\n",
              "      <td>1</td>\n",
              "      <td>4a811230-ffa4-4631-a4c8-5d0394137d02</td>\n",
              "      <td>2018-06-14 17:11:19.469</td>\n",
              "      <td>Mozilla/5.0 (iPhone; CPU iPhone OS 11_4 like M...</td>\n",
              "      <td>NaN</td>\n",
              "      <td>NaN</td>\n",
              "      <td>1r3iotmp0o9slom91stdt9vivc</td>\n",
              "      <td>10.0</td>\n",
              "      <td>14.800882</td>\n",
              "      <td>102.533777</td>\n",
              "    </tr>\n",
              "    <tr>\n",
              "      <th>2</th>\n",
              "      <td>2</td>\n",
              "      <td>7ad6ee8e-438e-4bea-9183-74dcef9e358e</td>\n",
              "      <td>2018-06-14 13:22:31.736</td>\n",
              "      <td>Mozilla/5.0 (Linux; Android 7.0; SAMSUNG SM-J7...</td>\n",
              "      <td>NaN</td>\n",
              "      <td>NaN</td>\n",
              "      <td>5ci1eo4v5u9dha4ppgu94ue7p6</td>\n",
              "      <td>8.0</td>\n",
              "      <td>13.738260</td>\n",
              "      <td>100.371405</td>\n",
              "    </tr>\n",
              "    <tr>\n",
              "      <th>3</th>\n",
              "      <td>3</td>\n",
              "      <td>0c17a5f5-fa89-40f4-ae94-a8659268f827</td>\n",
              "      <td>2018-06-02 12:37:27.331</td>\n",
              "      <td>Mozilla/5.0 (Linux; Android 7.1.1; SM-N950F Bu...</td>\n",
              "      <td>NaN</td>\n",
              "      <td>NaN</td>\n",
              "      <td>39n535qgje9kpojp0grhfj8umk</td>\n",
              "      <td>12.0</td>\n",
              "      <td>12.666877</td>\n",
              "      <td>101.860838</td>\n",
              "    </tr>\n",
              "    <tr>\n",
              "      <th>4</th>\n",
              "      <td>4</td>\n",
              "      <td>6870dc3a-5602-44fc-80ed-df0a7783df9d</td>\n",
              "      <td>2018-06-02 11:19:22.404</td>\n",
              "      <td>Mozilla/5.0 (iPhone; CPU iPhone OS 11_3_1 like...</td>\n",
              "      <td>NaN</td>\n",
              "      <td>NaN</td>\n",
              "      <td>5pa03h6lj691to60erver1l8o4</td>\n",
              "      <td>14.0</td>\n",
              "      <td>12.237242</td>\n",
              "      <td>99.879998</td>\n",
              "    </tr>\n",
              "    <tr>\n",
              "      <th>...</th>\n",
              "      <td>...</td>\n",
              "      <td>...</td>\n",
              "      <td>...</td>\n",
              "      <td>...</td>\n",
              "      <td>...</td>\n",
              "      <td>...</td>\n",
              "      <td>...</td>\n",
              "      <td>...</td>\n",
              "      <td>...</td>\n",
              "      <td>...</td>\n",
              "    </tr>\n",
              "    <tr>\n",
              "      <th>276822</th>\n",
              "      <td>276828</td>\n",
              "      <td>d7f9a412-83bb-455a-b5c2-d761ca15efb6</td>\n",
              "      <td>2018-06-02 12:25:52.587</td>\n",
              "      <td>okhttp/3.9.0;WongnaiAndroid 8.16.5.1;samsung;S...</td>\n",
              "      <td>NaN</td>\n",
              "      <td>NaN</td>\n",
              "      <td>7svjkn0q9380ho7ece22j8tt02</td>\n",
              "      <td>6.0</td>\n",
              "      <td>13.810551</td>\n",
              "      <td>100.534466</td>\n",
              "    </tr>\n",
              "    <tr>\n",
              "      <th>276823</th>\n",
              "      <td>276829</td>\n",
              "      <td>06ae0d5a-76b6-45aa-b534-5d7b57685e24</td>\n",
              "      <td>2018-06-02 12:33:36.543</td>\n",
              "      <td>okhttp/3.9.0;WongnaiAndroid 8.16.5.1;samsung;S...</td>\n",
              "      <td>NaN</td>\n",
              "      <td>NaN</td>\n",
              "      <td>7svjkn0q9380ho7ece22j8tt02</td>\n",
              "      <td>6.0</td>\n",
              "      <td>13.799348</td>\n",
              "      <td>100.550123</td>\n",
              "    </tr>\n",
              "    <tr>\n",
              "      <th>276824</th>\n",
              "      <td>276830</td>\n",
              "      <td>10415d10-c9f3-49dd-a78e-b7fbabd1eee9</td>\n",
              "      <td>2018-06-02 12:32:06.487</td>\n",
              "      <td>okhttp/3.9.0;WongnaiAndroid 8.16.5.1;samsung;S...</td>\n",
              "      <td>NaN</td>\n",
              "      <td>NaN</td>\n",
              "      <td>7svjkn0q9380ho7ece22j8tt02</td>\n",
              "      <td>6.0</td>\n",
              "      <td>13.797092</td>\n",
              "      <td>100.547465</td>\n",
              "    </tr>\n",
              "    <tr>\n",
              "      <th>276825</th>\n",
              "      <td>276831</td>\n",
              "      <td>e193e806-491a-4ee2-bb4d-71d80a759d43</td>\n",
              "      <td>2018-06-02 12:33:18.648</td>\n",
              "      <td>okhttp/3.9.0;WongnaiAndroid 8.16.5.1;samsung;S...</td>\n",
              "      <td>NaN</td>\n",
              "      <td>NaN</td>\n",
              "      <td>7svjkn0q9380ho7ece22j8tt02</td>\n",
              "      <td>6.0</td>\n",
              "      <td>13.805358</td>\n",
              "      <td>100.551727</td>\n",
              "    </tr>\n",
              "    <tr>\n",
              "      <th>276826</th>\n",
              "      <td>276832</td>\n",
              "      <td>9d47899b-a83c-40f9-9adc-0ba2ea1ebd40</td>\n",
              "      <td>2018-06-02 12:15:12.675</td>\n",
              "      <td>okhttp/3.9.</td>\n",
              "      <td>NaN</td>\n",
              "      <td>NaN</td>\n",
              "      <td>NaN</td>\n",
              "      <td>NaN</td>\n",
              "      <td>NaN</td>\n",
              "      <td>NaN</td>\n",
              "    </tr>\n",
              "  </tbody>\n",
              "</table>\n",
              "<p>276827 rows × 10 columns</p>\n",
              "</div>"
            ],
            "text/plain": [
              "        Unnamed: 0                             search_id  ...        lat        long\n",
              "0                0  683de889-f923-494e-9d46-44a3d67b7259  ...  12.634739  101.463177\n",
              "1                1  4a811230-ffa4-4631-a4c8-5d0394137d02  ...  14.800882  102.533777\n",
              "2                2  7ad6ee8e-438e-4bea-9183-74dcef9e358e  ...  13.738260  100.371405\n",
              "3                3  0c17a5f5-fa89-40f4-ae94-a8659268f827  ...  12.666877  101.860838\n",
              "4                4  6870dc3a-5602-44fc-80ed-df0a7783df9d  ...  12.237242   99.879998\n",
              "...            ...                                   ...  ...        ...         ...\n",
              "276822      276828  d7f9a412-83bb-455a-b5c2-d761ca15efb6  ...  13.810551  100.534466\n",
              "276823      276829  06ae0d5a-76b6-45aa-b534-5d7b57685e24  ...  13.799348  100.550123\n",
              "276824      276830  10415d10-c9f3-49dd-a78e-b7fbabd1eee9  ...  13.797092  100.547465\n",
              "276825      276831  e193e806-491a-4ee2-bb4d-71d80a759d43  ...  13.805358  100.551727\n",
              "276826      276832  9d47899b-a83c-40f9-9adc-0ba2ea1ebd40  ...        NaN         NaN\n",
              "\n",
              "[276827 rows x 10 columns]"
            ]
          },
          "metadata": {
            "tags": []
          },
          "execution_count": 2
        }
      ]
    },
    {
      "cell_type": "markdown",
      "metadata": {
        "id": "d6ZKjF1_Kj3z"
      },
      "source": [
        "#เตรียมข้อมูล"
      ]
    },
    {
      "cell_type": "markdown",
      "metadata": {
        "id": "T4ngOJlEKnoX"
      },
      "source": [
        "### แกปลงข้อมูลบอกเวลาให้เป็นตัวแปรชนิด datetime"
      ]
    },
    {
      "cell_type": "code",
      "metadata": {
        "colab": {
          "base_uri": "https://localhost:8080/",
          "height": 585
        },
        "id": "zTyrQtypK13T",
        "outputId": "74a24c95-ed2d-44c0-b948-89a8c1adc2dc"
      },
      "source": [
        "data['search_timestamp']= pd.to_datetime(data['search_timestamp'],dayfirst=True,errors ='coerce') #เปลี่ยนstring เป็นdatetime\n",
        "data"
      ],
      "execution_count": 3,
      "outputs": [
        {
          "output_type": "execute_result",
          "data": {
            "text/html": [
              "<div>\n",
              "<style scoped>\n",
              "    .dataframe tbody tr th:only-of-type {\n",
              "        vertical-align: middle;\n",
              "    }\n",
              "\n",
              "    .dataframe tbody tr th {\n",
              "        vertical-align: top;\n",
              "    }\n",
              "\n",
              "    .dataframe thead th {\n",
              "        text-align: right;\n",
              "    }\n",
              "</style>\n",
              "<table border=\"1\" class=\"dataframe\">\n",
              "  <thead>\n",
              "    <tr style=\"text-align: right;\">\n",
              "      <th></th>\n",
              "      <th>Unnamed: 0</th>\n",
              "      <th>search_id</th>\n",
              "      <th>search_timestamp</th>\n",
              "      <th>user_agent</th>\n",
              "      <th>q</th>\n",
              "      <th>user_id</th>\n",
              "      <th>session_id</th>\n",
              "      <th>number_of_result</th>\n",
              "      <th>lat</th>\n",
              "      <th>long</th>\n",
              "    </tr>\n",
              "  </thead>\n",
              "  <tbody>\n",
              "    <tr>\n",
              "      <th>0</th>\n",
              "      <td>0</td>\n",
              "      <td>683de889-f923-494e-9d46-44a3d67b7259</td>\n",
              "      <td>2018-06-14 12:34:35.449</td>\n",
              "      <td>Wongnai/8.17.3 rv:8.17.3.3921 (iPhone5,4; iOS;...</td>\n",
              "      <td>NaN</td>\n",
              "      <td>NaN</td>\n",
              "      <td>5lqjjikta19d296mo7g2h1k86p</td>\n",
              "      <td>18.0</td>\n",
              "      <td>12.634739</td>\n",
              "      <td>101.463177</td>\n",
              "    </tr>\n",
              "    <tr>\n",
              "      <th>1</th>\n",
              "      <td>1</td>\n",
              "      <td>4a811230-ffa4-4631-a4c8-5d0394137d02</td>\n",
              "      <td>2018-06-14 17:11:19.469</td>\n",
              "      <td>Mozilla/5.0 (iPhone; CPU iPhone OS 11_4 like M...</td>\n",
              "      <td>NaN</td>\n",
              "      <td>NaN</td>\n",
              "      <td>1r3iotmp0o9slom91stdt9vivc</td>\n",
              "      <td>10.0</td>\n",
              "      <td>14.800882</td>\n",
              "      <td>102.533777</td>\n",
              "    </tr>\n",
              "    <tr>\n",
              "      <th>2</th>\n",
              "      <td>2</td>\n",
              "      <td>7ad6ee8e-438e-4bea-9183-74dcef9e358e</td>\n",
              "      <td>2018-06-14 13:22:31.736</td>\n",
              "      <td>Mozilla/5.0 (Linux; Android 7.0; SAMSUNG SM-J7...</td>\n",
              "      <td>NaN</td>\n",
              "      <td>NaN</td>\n",
              "      <td>5ci1eo4v5u9dha4ppgu94ue7p6</td>\n",
              "      <td>8.0</td>\n",
              "      <td>13.738260</td>\n",
              "      <td>100.371405</td>\n",
              "    </tr>\n",
              "    <tr>\n",
              "      <th>3</th>\n",
              "      <td>3</td>\n",
              "      <td>0c17a5f5-fa89-40f4-ae94-a8659268f827</td>\n",
              "      <td>2018-06-02 12:37:27.331</td>\n",
              "      <td>Mozilla/5.0 (Linux; Android 7.1.1; SM-N950F Bu...</td>\n",
              "      <td>NaN</td>\n",
              "      <td>NaN</td>\n",
              "      <td>39n535qgje9kpojp0grhfj8umk</td>\n",
              "      <td>12.0</td>\n",
              "      <td>12.666877</td>\n",
              "      <td>101.860838</td>\n",
              "    </tr>\n",
              "    <tr>\n",
              "      <th>4</th>\n",
              "      <td>4</td>\n",
              "      <td>6870dc3a-5602-44fc-80ed-df0a7783df9d</td>\n",
              "      <td>2018-06-02 11:19:22.404</td>\n",
              "      <td>Mozilla/5.0 (iPhone; CPU iPhone OS 11_3_1 like...</td>\n",
              "      <td>NaN</td>\n",
              "      <td>NaN</td>\n",
              "      <td>5pa03h6lj691to60erver1l8o4</td>\n",
              "      <td>14.0</td>\n",
              "      <td>12.237242</td>\n",
              "      <td>99.879998</td>\n",
              "    </tr>\n",
              "    <tr>\n",
              "      <th>...</th>\n",
              "      <td>...</td>\n",
              "      <td>...</td>\n",
              "      <td>...</td>\n",
              "      <td>...</td>\n",
              "      <td>...</td>\n",
              "      <td>...</td>\n",
              "      <td>...</td>\n",
              "      <td>...</td>\n",
              "      <td>...</td>\n",
              "      <td>...</td>\n",
              "    </tr>\n",
              "    <tr>\n",
              "      <th>276822</th>\n",
              "      <td>276828</td>\n",
              "      <td>d7f9a412-83bb-455a-b5c2-d761ca15efb6</td>\n",
              "      <td>2018-06-02 12:25:52.587</td>\n",
              "      <td>okhttp/3.9.0;WongnaiAndroid 8.16.5.1;samsung;S...</td>\n",
              "      <td>NaN</td>\n",
              "      <td>NaN</td>\n",
              "      <td>7svjkn0q9380ho7ece22j8tt02</td>\n",
              "      <td>6.0</td>\n",
              "      <td>13.810551</td>\n",
              "      <td>100.534466</td>\n",
              "    </tr>\n",
              "    <tr>\n",
              "      <th>276823</th>\n",
              "      <td>276829</td>\n",
              "      <td>06ae0d5a-76b6-45aa-b534-5d7b57685e24</td>\n",
              "      <td>2018-06-02 12:33:36.543</td>\n",
              "      <td>okhttp/3.9.0;WongnaiAndroid 8.16.5.1;samsung;S...</td>\n",
              "      <td>NaN</td>\n",
              "      <td>NaN</td>\n",
              "      <td>7svjkn0q9380ho7ece22j8tt02</td>\n",
              "      <td>6.0</td>\n",
              "      <td>13.799348</td>\n",
              "      <td>100.550123</td>\n",
              "    </tr>\n",
              "    <tr>\n",
              "      <th>276824</th>\n",
              "      <td>276830</td>\n",
              "      <td>10415d10-c9f3-49dd-a78e-b7fbabd1eee9</td>\n",
              "      <td>2018-06-02 12:32:06.487</td>\n",
              "      <td>okhttp/3.9.0;WongnaiAndroid 8.16.5.1;samsung;S...</td>\n",
              "      <td>NaN</td>\n",
              "      <td>NaN</td>\n",
              "      <td>7svjkn0q9380ho7ece22j8tt02</td>\n",
              "      <td>6.0</td>\n",
              "      <td>13.797092</td>\n",
              "      <td>100.547465</td>\n",
              "    </tr>\n",
              "    <tr>\n",
              "      <th>276825</th>\n",
              "      <td>276831</td>\n",
              "      <td>e193e806-491a-4ee2-bb4d-71d80a759d43</td>\n",
              "      <td>2018-06-02 12:33:18.648</td>\n",
              "      <td>okhttp/3.9.0;WongnaiAndroid 8.16.5.1;samsung;S...</td>\n",
              "      <td>NaN</td>\n",
              "      <td>NaN</td>\n",
              "      <td>7svjkn0q9380ho7ece22j8tt02</td>\n",
              "      <td>6.0</td>\n",
              "      <td>13.805358</td>\n",
              "      <td>100.551727</td>\n",
              "    </tr>\n",
              "    <tr>\n",
              "      <th>276826</th>\n",
              "      <td>276832</td>\n",
              "      <td>9d47899b-a83c-40f9-9adc-0ba2ea1ebd40</td>\n",
              "      <td>2018-06-02 12:15:12.675</td>\n",
              "      <td>okhttp/3.9.</td>\n",
              "      <td>NaN</td>\n",
              "      <td>NaN</td>\n",
              "      <td>NaN</td>\n",
              "      <td>NaN</td>\n",
              "      <td>NaN</td>\n",
              "      <td>NaN</td>\n",
              "    </tr>\n",
              "  </tbody>\n",
              "</table>\n",
              "<p>276827 rows × 10 columns</p>\n",
              "</div>"
            ],
            "text/plain": [
              "        Unnamed: 0                             search_id  ...        lat        long\n",
              "0                0  683de889-f923-494e-9d46-44a3d67b7259  ...  12.634739  101.463177\n",
              "1                1  4a811230-ffa4-4631-a4c8-5d0394137d02  ...  14.800882  102.533777\n",
              "2                2  7ad6ee8e-438e-4bea-9183-74dcef9e358e  ...  13.738260  100.371405\n",
              "3                3  0c17a5f5-fa89-40f4-ae94-a8659268f827  ...  12.666877  101.860838\n",
              "4                4  6870dc3a-5602-44fc-80ed-df0a7783df9d  ...  12.237242   99.879998\n",
              "...            ...                                   ...  ...        ...         ...\n",
              "276822      276828  d7f9a412-83bb-455a-b5c2-d761ca15efb6  ...  13.810551  100.534466\n",
              "276823      276829  06ae0d5a-76b6-45aa-b534-5d7b57685e24  ...  13.799348  100.550123\n",
              "276824      276830  10415d10-c9f3-49dd-a78e-b7fbabd1eee9  ...  13.797092  100.547465\n",
              "276825      276831  e193e806-491a-4ee2-bb4d-71d80a759d43  ...  13.805358  100.551727\n",
              "276826      276832  9d47899b-a83c-40f9-9adc-0ba2ea1ebd40  ...        NaN         NaN\n",
              "\n",
              "[276827 rows x 10 columns]"
            ]
          },
          "metadata": {
            "tags": []
          },
          "execution_count": 3
        }
      ]
    },
    {
      "cell_type": "markdown",
      "metadata": {
        "id": "AYEclzMCKABG"
      },
      "source": [
        "#Bar chart (กราฟแท่ง)\n",
        "กราฟเปรียบเทียบปริมาณ"
      ]
    },
    {
      "cell_type": "code",
      "metadata": {
        "id": "yHPVPGR_Rkn1"
      },
      "source": [
        "from matplotlib import pyplot as plt"
      ],
      "execution_count": 26,
      "outputs": []
    },
    {
      "cell_type": "code",
      "metadata": {
        "id": "QQN5yTBnReOq"
      },
      "source": [
        "mon = data[data['search_timestamp'].dt.dayofweek == 0].count()\n",
        "tue = data[data['search_timestamp'].dt.dayofweek == 1].count()\n",
        "wen = data[data['search_timestamp'].dt.dayofweek == 2].count()\n",
        "thu = data[data['search_timestamp'].dt.dayofweek == 3].count()\n",
        "fri = data[data['search_timestamp'].dt.dayofweek == 4].count()\n",
        "sat = data[data['search_timestamp'].dt.dayofweek == 5].count()\n",
        "son = data[data['search_timestamp'].dt.dayofweek == 6].count()"
      ],
      "execution_count": 27,
      "outputs": []
    },
    {
      "cell_type": "code",
      "metadata": {
        "colab": {
          "base_uri": "https://localhost:8080/",
          "height": 265
        },
        "id": "sCNvobqkRha2",
        "outputId": "421edcb7-e9ba-4105-b8f4-c6871f1af5a2"
      },
      "source": [
        "plt.bar([1,2,3,4,5,6,7],[mon.iloc[2],tue.iloc[2],wen.iloc[2],thu.iloc[2],fri.iloc[2],sat.iloc[2],son.iloc[2]]);"
      ],
      "execution_count": 28,
      "outputs": [
        {
          "output_type": "display_data",
          "data": {
            "image/png": "[encoded data removed]",
            "text/plain": [
              "<Figure size 432x288 with 1 Axes>"
            ]
          },
          "metadata": {
            "tags": [],
            "needs_background": "light"
          }
        }
      ]
    },
    {
      "cell_type": "code",
      "metadata": {
        "colab": {
          "base_uri": "https://localhost:8080/"
        },
        "id": "Sgx6G7gJR-Wc",
        "outputId": "c03e534a-ef42-4d9e-9fcc-fe866e578567"
      },
      "source": [
        "data[data['search_timestamp'].dt.dayofweek == 0].shape[0]"
      ],
      "execution_count": 31,
      "outputs": [
        {
          "output_type": "execute_result",
          "data": {
            "text/plain": [
              "29470"
            ]
          },
          "metadata": {
            "tags": []
          },
          "execution_count": 31
        }
      ]
    },
    {
      "cell_type": "code",
      "metadata": {
        "colab": {
          "base_uri": "https://localhost:8080/",
          "height": 283
        },
        "id": "j0njjm43Sz4C",
        "outputId": "b2e5ede3-c588-462c-c0d6-616b4fdec281"
      },
      "source": [
        "plt.bar([1,2,3,4,5,6,7],[data[data['search_timestamp'].dt.dayofweek == 0].shape[0],\n",
        "                        data[data['search_timestamp'].dt.dayofweek == 1].shape[0],\n",
        "                        data[data['search_timestamp'].dt.dayofweek == 2].shape[0],\n",
        "                        data[data['search_timestamp'].dt.dayofweek == 3].shape[0],\n",
        "                        data[data['search_timestamp'].dt.dayofweek == 4].shape[0],\n",
        "                        data[data['search_timestamp'].dt.dayofweek == 5].shape[0],\n",
        "                        data[data['search_timestamp'].dt.dayofweek == 6].shape[0]\n",
        "                        ])"
      ],
      "execution_count": 37,
      "outputs": [
        {
          "output_type": "execute_result",
          "data": {
            "text/plain": [
              "<BarContainer object of 7 artists>"
            ]
          },
          "metadata": {
            "tags": []
          },
          "execution_count": 37
        },
        {
          "output_type": "display_data",
          "data": {
            "image/png": "[encoded data removed]",
            "text/plain": [
              "<Figure size 432x288 with 1 Axes>"
            ]
          },
          "metadata": {
            "tags": [],
            "needs_background": "light"
          }
        }
      ]
    },
    {
      "cell_type": "markdown",
      "metadata": {
        "id": "uWpUik6xTycf"
      },
      "source": [
        "ส่วนประกอบขิงกราฟแท่ง\n",
        "* ตัวกราฟแท่ง(height)\n",
        "* ตำแหน่งกราฟแท่ง(x)\n",
        "* ชื่อแท่ง (tick_label)\n",
        "* ชื่อกราฟ(plt.title)\n",
        "* ชื่อแกน x (plt.xlabel)\n",
        "* ชื่อแกน y (plt.ylabel)"
      ]
    },
    {
      "cell_type": "code",
      "metadata": {
        "colab": {
          "base_uri": "https://localhost:8080/",
          "height": 295
        },
        "id": "wew7_JisUrgQ",
        "outputId": "8b6f09d9-a71e-432f-8120-2b3bfe729e79"
      },
      "source": [
        "plt.bar([1,2,3,4,5,6,7],[data[data['search_timestamp'].dt.dayofweek == 0].shape[0],\n",
        "                        data[data['search_timestamp'].dt.dayofweek == 1].shape[0],\n",
        "                        data[data['search_timestamp'].dt.dayofweek == 2].shape[0],\n",
        "                        data[data['search_timestamp'].dt.dayofweek == 3].shape[0],\n",
        "                        data[data['search_timestamp'].dt.dayofweek == 4].shape[0],\n",
        "                        data[data['search_timestamp'].dt.dayofweek == 5].shape[0],\n",
        "                        data[data['search_timestamp'].dt.dayofweek == 6].shape[0]\n",
        "                        ],tick_label=['Mon','Tue','Wed','Thu','Fri','Sat','Sun'])\n",
        "plt.xlabel('Days')\n",
        "plt.ylabel('Number of Requests')\n"
      ],
      "execution_count": 71,
      "outputs": [
        {
          "output_type": "execute_result",
          "data": {
            "text/plain": [
              "Text(0, 0.5, 'Number of Requests')"
            ]
          },
          "metadata": {
            "tags": []
          },
          "execution_count": 71
        },
        {
          "output_type": "display_data",
          "data": {
            "image/png": "[encoded data removed]",
            "text/plain": [
              "<Figure size 432x288 with 1 Axes>"
            ]
          },
          "metadata": {
            "tags": [],
            "needs_background": "light"
          }
        }
      ]
    },
    {
      "cell_type": "code",
      "metadata": {
        "colab": {
          "base_uri": "https://localhost:8080/",
          "height": 36
        },
        "id": "iGozkBFmflwc",
        "outputId": "d660d51a-cad9-45c6-c756-2bc421746a96"
      },
      "source": [
        "import matplotlib\n",
        "matplotlib.__version__"
      ],
      "execution_count": 50,
      "outputs": [
        {
          "output_type": "execute_result",
          "data": {
            "application/vnd.google.colaboratory.intrinsic+json": {
              "type": "string"
            },
            "text/plain": [
              "'3.2.2'"
            ]
          },
          "metadata": {
            "tags": []
          },
          "execution_count": 50
        }
      ]
    },
    {
      "cell_type": "markdown",
      "metadata": {
        "id": "kSnG8r9fWJrE"
      },
      "source": [
        "# การแสดงตัวอักษรภาษาไทยในกราฟ"
      ]
    },
    {
      "cell_type": "markdown",
      "metadata": {
        "id": "edQDOl9MWHD8"
      },
      "source": [
        "https://medium.com/@kanyawee.work/%E0%B9%81%E0%B8%AA%E0%B8%94%E0%B8%87%E0%B8%9C%E0%B8%A5%E0%B8%A0%E0%B8%B2%E0%B8%A9%E0%B8%B2%E0%B9%84%E0%B8%97%E0%B8%A2%E0%B9%83%E0%B8%99%E0%B8%81%E0%B8%A3%E0%B8%B2%E0%B8%9F%E0%B8%82%E0%B8%AD%E0%B8%87-matplotlib-%E0%B8%9A%E0%B8%99-google-colab-37210d9a9f31"
      ]
    },
    {
      "cell_type": "code",
      "metadata": {
        "id": "0WJZnE9pfrOj"
      },
      "source": [
        "!wget -q https://github.com/Phonbopit/sarabun-webfont/raw/master/fonts/thsarabunnew-webfont.ttf"
      ],
      "execution_count": 51,
      "outputs": []
    },
    {
      "cell_type": "code",
      "metadata": {
        "id": "ukMcy3z1fuA0"
      },
      "source": [
        "import matplotlib as mpl\n",
        "mpl.font_manager.fontManager.addfont('thsarabunnew-webfont.ttf')\n",
        "mpl.rc('font', family='TH Sarabun New')"
      ],
      "execution_count": 52,
      "outputs": []
    },
    {
      "cell_type": "code",
      "metadata": {
        "colab": {
          "base_uri": "https://localhost:8080/",
          "height": 298
        },
        "id": "PIbXatO1fwRE",
        "outputId": "54afad26-171e-4283-d17e-f63440b50825"
      },
      "source": [
        "plt.bar([1,2,3,4,5,6,7],[data[data['search_timestamp'].dt.dayofweek == 0].shape[0],\n",
        "                         data[data['search_timestamp'].dt.dayofweek == 1].shape[0],\n",
        "                         data[data['search_timestamp'].dt.dayofweek == 2].shape[0],\n",
        "                         data[data['search_timestamp'].dt.dayofweek == 3].shape[0],\n",
        "                         data[data['search_timestamp'].dt.dayofweek == 4].shape[0],\n",
        "                         data[data['search_timestamp'].dt.dayofweek == 5].shape[0],\n",
        "                         data[data['search_timestamp'].dt.dayofweek == 6].shape[0]\n",
        "                         ],tick_label=['Mon','Tue','Wed','Thu','Fri','Sat','Sun'])\n",
        "plt.xlabel('Days')\n",
        "plt.ylabel('Number of Requests')\n",
        "plt.title('ปริมาณคนเข้าใช้ Wongnai.com ในแต่ละวัน');"
      ],
      "execution_count": 53,
      "outputs": [
        {
          "output_type": "display_data",
          "data": {
            "image/png": "[encoded data removed]",
            "text/plain": [
              "<Figure size 432x288 with 1 Axes>"
            ]
          },
          "metadata": {
            "tags": [],
            "needs_background": "light"
          }
        }
      ]
    },
    {
      "cell_type": "markdown",
      "metadata": {
        "id": "RQ0fQap6f3HF"
      },
      "source": [
        "#Grouped bar chart"
      ]
    },
    {
      "cell_type": "markdown",
      "metadata": {
        "id": "gmokbB_ef_VY"
      },
      "source": [
        "https://matplotlib.org/stable/gallery/lines_bars_and_markers/barchart.html#sphx-glr-gallery-lines-bars-and-markers-barchart-py"
      ]
    },
    {
      "cell_type": "markdown",
      "metadata": {
        "id": "ObhMJVWIgB75"
      },
      "source": [
        "แสดงปริมาณคนเข้าเว๊ปในแต่ละวัน โดยเปรียบเทียบช่วงเวลา 11:00-12:00 กับ 23:00-24:00"
      ]
    },
    {
      "cell_type": "code",
      "metadata": {
        "colab": {
          "base_uri": "https://localhost:8080/"
        },
        "id": "3ekt6xw4g_BB",
        "outputId": "993a86e7-3af4-4e50-870c-14b636245d9a"
      },
      "source": [
        "data[(data['search_timestamp'].dt.dayofweek == 0) \n",
        "& (data['search_timestamp'].dt.time < time(hour=12)) \n",
        "& (data['search_timestamp'].dt.time >= time(hour=11))].shape[0]  # monday 11:00-12:00"
      ],
      "execution_count": 56,
      "outputs": [
        {
          "output_type": "execute_result",
          "data": {
            "text/plain": [
              "1865"
            ]
          },
          "metadata": {
            "tags": []
          },
          "execution_count": 56
        }
      ]
    },
    {
      "cell_type": "code",
      "metadata": {
        "colab": {
          "base_uri": "https://localhost:8080/"
        },
        "id": "qUOWVJnUgLxM",
        "outputId": "0db9dca5-0272-4c9d-a8bd-12ed0cc9f6c8"
      },
      "source": [
        "b4lunch = [data[(data['search_timestamp'].dt.dayofweek == 0)&(data['search_timestamp'].dt.time < time(hour=12))&(data['search_timestamp'].dt.time >= time(hour=11))].shape[0],\n",
        "           data[(data['search_timestamp'].dt.dayofweek == 1)&(data['search_timestamp'].dt.time < time(hour=12))&(data['search_timestamp'].dt.time >= time(hour=11))].shape[0],\n",
        "           data[(data['search_timestamp'].dt.dayofweek == 2)&(data['search_timestamp'].dt.time < time(hour=12))&(data['search_timestamp'].dt.time >= time(hour=11))].shape[0],\n",
        "           data[(data['search_timestamp'].dt.dayofweek == 3)&(data['search_timestamp'].dt.time < time(hour=12))&(data['search_timestamp'].dt.time >= time(hour=11))].shape[0],\n",
        "           data[(data['search_timestamp'].dt.dayofweek == 4)&(data['search_timestamp'].dt.time < time(hour=12))&(data['search_timestamp'].dt.time >= time(hour=11))].shape[0],\n",
        "           data[(data['search_timestamp'].dt.dayofweek == 5)&(data['search_timestamp'].dt.time < time(hour=12))&(data['search_timestamp'].dt.time >= time(hour=11))].shape[0],\n",
        "           data[(data['search_timestamp'].dt.dayofweek == 6)&(data['search_timestamp'].dt.time < time(hour=12))&(data['search_timestamp'].dt.time >= time(hour=11))].shape[0]\n",
        "                         ]\n",
        "b4lunch"
      ],
      "execution_count": 61,
      "outputs": [
        {
          "output_type": "execute_result",
          "data": {
            "text/plain": [
              "[1865, 2295, 2394, 2488, 2726, 4872, 4562]"
            ]
          },
          "metadata": {
            "tags": []
          },
          "execution_count": 61
        }
      ]
    },
    {
      "cell_type": "code",
      "metadata": {
        "colab": {
          "base_uri": "https://localhost:8080/"
        },
        "id": "kTjmffuNhfLx",
        "outputId": "04128fc6-5287-4371-802c-1af661a0b600"
      },
      "source": [
        "data[(data['search_timestamp'].dt.dayofweek == 0)&(data['search_timestamp'].dt.time >= time(hour=23))].shape[0]"
      ],
      "execution_count": 62,
      "outputs": [
        {
          "output_type": "execute_result",
          "data": {
            "text/plain": [
              "887"
            ]
          },
          "metadata": {
            "tags": []
          },
          "execution_count": 62
        }
      ]
    },
    {
      "cell_type": "code",
      "metadata": {
        "colab": {
          "base_uri": "https://localhost:8080/"
        },
        "id": "8zS6rbI6hkF-",
        "outputId": "01d6364b-319b-4ad5-d379-06c52eec2f8f"
      },
      "source": [
        "b4midnight = [data[(data['search_timestamp'].dt.dayofweek == 0)&(data['search_timestamp'].dt.time >= time(hour=23))].shape[0],\n",
        "           data[(data['search_timestamp'].dt.dayofweek == 1)&(data['search_timestamp'].dt.time >= time(hour=23))].shape[0],\n",
        "           data[(data['search_timestamp'].dt.dayofweek == 2)&(data['search_timestamp'].dt.time >= time(hour=23))].shape[0],\n",
        "           data[(data['search_timestamp'].dt.dayofweek == 3)&(data['search_timestamp'].dt.time >= time(hour=23))].shape[0],\n",
        "           data[(data['search_timestamp'].dt.dayofweek == 4)&(data['search_timestamp'].dt.time >= time(hour=23))].shape[0],\n",
        "           data[(data['search_timestamp'].dt.dayofweek == 5)&(data['search_timestamp'].dt.time >= time(hour=23))].shape[0],\n",
        "           data[(data['search_timestamp'].dt.dayofweek == 6)&(data['search_timestamp'].dt.time >= time(hour=23))].shape[0]\n",
        "                         ]\n",
        "b4midnight"
      ],
      "execution_count": 63,
      "outputs": [
        {
          "output_type": "execute_result",
          "data": {
            "text/plain": [
              "[887, 1017, 953, 1168, 1152, 1325, 950]"
            ]
          },
          "metadata": {
            "tags": []
          },
          "execution_count": 63
        }
      ]
    },
    {
      "cell_type": "code",
      "metadata": {
        "id": "hRaXogrPhmRl"
      },
      "source": [
        "labels = ['Mon','Tue','Wed','Thu','Fri','Sat','Sun']"
      ],
      "execution_count": 64,
      "outputs": []
    },
    {
      "cell_type": "code",
      "metadata": {
        "id": "drqgKxfmhoMD"
      },
      "source": [
        "import numpy as np"
      ],
      "execution_count": 65,
      "outputs": []
    },
    {
      "cell_type": "code",
      "metadata": {
        "colab": {
          "base_uri": "https://localhost:8080/",
          "height": 285
        },
        "id": "32dAVzi3hqAn",
        "outputId": "12c731eb-31ae-46b4-c49a-0d0811f38f55"
      },
      "source": [
        "x = np.arange(len(labels))  # the label locations\n",
        "width = 0.35  # the width of the bars\n",
        "\n",
        "fig, ax = plt.subplots()\n",
        "rects1 = ax.bar(x - width/2, b4lunch, width, label='lunch time',color = '#edd080')\n",
        "rects2 = ax.bar(x + width/2, b4midnight, width, label='midnight',color = '#061c54')\n",
        "\n",
        "# Add some text for labels, title and custom x-axis tick labels, etc.\n",
        "ax.set_ylabel('Number of requests')\n",
        "ax.set_title('ปริมาณคนเข้าใช้ Wongnai.com ในแต่ละวัน เปรียบเทียบ 2 ช่วงเวลา')\n",
        "ax.set_xticks(x)\n",
        "ax.set_xticklabels(labels)\n",
        "ax.legend();"
      ],
      "execution_count": 67,
      "outputs": [
        {
          "output_type": "display_data",
          "data": {
            "image/png": "[encoded data removed]",
            "text/plain": [
              "<Figure size 432x288 with 1 Axes>"
            ]
          },
          "metadata": {
            "tags": [],
            "needs_background": "light"
          }
        }
      ]
    }
  ]
}