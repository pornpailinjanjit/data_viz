{
  "nbformat": 4,
  "nbformat_minor": 0,
  "metadata": {
    "colab": {
      "name": "python101.ipynb",
      "provenance": [],
      "authorship_tag": "ABX9TyMjllhGcgbJjgG0wWoWkHHb",
      "include_colab_link": true
    },
    "kernelspec": {
      "name": "python3",
      "display_name": "Python 3"
    }
  },
  "cells": [
    {
      "cell_type": "markdown",
      "metadata": {
        "id": "view-in-github",
        "colab_type": "text"
      },
      "source": [
        "<a href=\"https://colab.research.google.com/github/pornpailinjanjit/data_viz/blob/main/python101.ipynb\" target=\"_parent\"><img src=\"https://colab.research.google.com/assets/colab-badge.svg\" alt=\"Open In Colab\"/></a>"
      ]
    },
    {
      "cell_type": "code",
      "metadata": {
        "id": "20PaPcrqYpaj"
      },
      "source": [
        ""
      ],
      "execution_count": null,
      "outputs": []
    },
    {
      "cell_type": "markdown",
      "metadata": {
        "id": "jHQZlSpzNoP-"
      },
      "source": [
        "หลักการตั้งชื่อตัวแปรเบื้องต้น\r\n",
        "1. ตั้งให้สื่อ\r\n",
        "2.ภาษาอังกฤษ\r\n",
        "3.ใช้ตัวเลขได้แต้ห้ามใช้ตัวเลข\r\n",
        "4.ห้ามเว้นวรรรค\r\n"
      ]
    },
    {
      "cell_type": "markdown",
      "metadata": {
        "id": "A_Xuzsk0ZzP1"
      },
      "source": [
        "ค่า pi"
      ]
    },
    {
      "cell_type": "code",
      "metadata": {
        "id": "_s0C8r6SNX4O"
      },
      "source": [
        "pi = 3.1415926359\r\n",
        "\r\n",
        "\r\n"
      ],
      "execution_count": null,
      "outputs": []
    },
    {
      "cell_type": "code",
      "metadata": {
        "colab": {
          "base_uri": "https://localhost:8080/"
        },
        "id": "Y6NsI3nINHS2",
        "outputId": "54933d1d-1478-4bfc-bf30-4990f3f88754"
      },
      "source": [
        "3.14159265359"
      ],
      "execution_count": null,
      "outputs": [
        {
          "output_type": "execute_result",
          "data": {
            "text/plain": [
              "3.14159265359"
            ]
          },
          "metadata": {
            "tags": []
          },
          "execution_count": 1
        }
      ]
    },
    {
      "cell_type": "markdown",
      "metadata": {
        "id": "FEoGtx8BPNSG"
      },
      "source": [
        "int: จำนวณเต็ม\r\n"
      ]
    },
    {
      "cell_type": "code",
      "metadata": {
        "colab": {
          "base_uri": "https://localhost:8080/"
        },
        "id": "8ZU_IxoTMsSA",
        "outputId": "ecd3c2da-8466-4c5a-91bd-cd9b0afb6bbc"
      },
      "source": [
        " a= 10\r\n",
        " print(a)"
      ],
      "execution_count": null,
      "outputs": [
        {
          "output_type": "stream",
          "text": [
            "10\n"
          ],
          "name": "stdout"
        }
      ]
    },
    {
      "cell_type": "code",
      "metadata": {
        "id": "CQijWFQ8PfYs"
      },
      "source": [
        ""
      ],
      "execution_count": null,
      "outputs": []
    },
    {
      "cell_type": "markdown",
      "metadata": {
        "id": "_-UN5UNnQKhk"
      },
      "source": [
        "float: ทศนิยม"
      ]
    },
    {
      "cell_type": "code",
      "metadata": {
        "colab": {
          "base_uri": "https://localhost:8080/"
        },
        "id": "s6F0H1mAQJqc",
        "outputId": "21b145d9-bd08-4afc-a9d0-c0a1e4c9d092"
      },
      "source": [
        "b = 10.\r\n",
        "print(b)\r\n",
        "\r\n"
      ],
      "execution_count": null,
      "outputs": [
        {
          "output_type": "stream",
          "text": [
            "10.0\n"
          ],
          "name": "stdout"
        }
      ]
    },
    {
      "cell_type": "markdown",
      "metadata": {
        "id": "P1mGlMmNbZPc"
      },
      "source": [
        "### ตัวอักษร (char (character)) ข้อความ (text หรือ string)"
      ]
    },
    {
      "cell_type": "markdown",
      "metadata": {
        "id": "Cq2ao6miag5P"
      },
      "source": [
        "-> #, sharp ใช้สำหรับคอมเม้น"
      ]
    },
    {
      "cell_type": "code",
      "metadata": {
        "colab": {
          "base_uri": "https://localhost:8080/"
        },
        "id": "DeL_thdpQnNr",
        "outputId": "b78ff2b9-9071-45c1-cb38-f67089c6ecb9"
      },
      "source": [
        "c = 'พรไพลิน'  # เราจะบอกว่าตัวแปรเป็นตัวอักษรหรือข้อความโดยการใช้ single quote หรือ double \r\n",
        "print(c)"
      ],
      "execution_count": null,
      "outputs": [
        {
          "output_type": "stream",
          "text": [
            "พรไพลิน\n"
          ],
          "name": "stdout"
        }
      ]
    },
    {
      "cell_type": "markdown",
      "metadata": {
        "id": "v5uXBHx1cGU4"
      },
      "source": [
        "## การเปลี่ยน char เป็น int\r\n",
        "มันเป็นตัวเลขที่คอมมองเห็นเป็นตัวอักษร\r\n"
      ]
    },
    {
      "cell_type": "code",
      "metadata": {
        "colab": {
          "base_uri": "https://localhost:8080/"
        },
        "id": "yRPuyMkDRNGE",
        "outputId": "d1a1b513-0eb0-4a6c-b8d5-a18096da4df4"
      },
      "source": [
        "d  = '10'\r\n",
        "print(d)"
      ],
      "execution_count": null,
      "outputs": [
        {
          "output_type": "stream",
          "text": [
            "10\n"
          ],
          "name": "stdout"
        }
      ]
    },
    {
      "cell_type": "markdown",
      "metadata": {
        "id": "Sn7gUM0wRP5o"
      },
      "source": [
        "ตัวเลขที่เป็น srting ไม่สารมารถมา +-*/ กับตัวเลขได้\r\n",
        "เช่น d + 1 จะเกิดerror เพราะไม่สามารถเอาตัวอักษรไปบวกตัวเลขได้\r\n"
      ]
    },
    {
      "cell_type": "markdown",
      "metadata": {
        "id": "arph7YrDR6Gq"
      },
      "source": [
        "variable casting (การเปลี่ยนชนิดข้อมูล) สามารถเปลี่ยนตัวแปรชนิดหนึ่งเป็นชนิดหนึ่งได้\r\n"
      ]
    },
    {
      "cell_type": "code",
      "metadata": {
        "colab": {
          "base_uri": "https://localhost:8080/"
        },
        "id": "zHD5d8eDRlOn",
        "outputId": "601e1388-4eaa-4172-ca41-70f06d736ded"
      },
      "source": [
        "int(d) + 1\r\n"
      ],
      "execution_count": null,
      "outputs": [
        {
          "output_type": "execute_result",
          "data": {
            "text/plain": [
              "11"
            ]
          },
          "metadata": {
            "tags": []
          },
          "execution_count": 19
        }
      ]
    },
    {
      "cell_type": "markdown",
      "metadata": {
        "id": "S4MtD3FJSdkH"
      },
      "source": [
        "## operation (operators +-*/%)"
      ]
    },
    {
      "cell_type": "code",
      "metadata": {
        "colab": {
          "base_uri": "https://localhost:8080/"
        },
        "id": "KIU9IrAFSO3m",
        "outputId": "0209cd0b-bc8d-4fd4-976e-41ace4b97840"
      },
      "source": [
        "a+b\r\n"
      ],
      "execution_count": null,
      "outputs": [
        {
          "output_type": "execute_result",
          "data": {
            "text/plain": [
              "20.0"
            ]
          },
          "metadata": {
            "tags": []
          },
          "execution_count": 18
        }
      ]
    },
    {
      "cell_type": "code",
      "metadata": {
        "colab": {
          "base_uri": "https://localhost:8080/"
        },
        "id": "DpxaEe7hSqbM",
        "outputId": "26f22162-f8a7-4e21-c5fb-7aa82c231f20"
      },
      "source": [
        "ab = a+b\r\n",
        "print(ab)"
      ],
      "execution_count": null,
      "outputs": [
        {
          "output_type": "stream",
          "text": [
            "20.0\n"
          ],
          "name": "stdout"
        }
      ]
    },
    {
      "cell_type": "markdown",
      "metadata": {
        "id": "B_vPUT36S9PS"
      },
      "source": [
        "#### % คือเครื่องหมาย modulo"
      ]
    },
    {
      "cell_type": "code",
      "metadata": {
        "colab": {
          "base_uri": "https://localhost:8080/"
        },
        "id": "gku0HQEES3aW",
        "outputId": "bf4aec34-d803-4400-e6e1-2b14bd3f254b"
      },
      "source": [
        "5%3\r\n"
      ],
      "execution_count": null,
      "outputs": [
        {
          "output_type": "execute_result",
          "data": {
            "text/plain": [
              "2"
            ]
          },
          "metadata": {
            "tags": []
          },
          "execution_count": 21
        }
      ]
    },
    {
      "cell_type": "markdown",
      "metadata": {
        "id": "9I9R4UR_TRxf"
      },
      "source": [
        "### คำสั่ง print แบบพิเศษ การ format string\r\n",
        "\r\n"
      ]
    },
    {
      "cell_type": "code",
      "metadata": {
        "colab": {
          "base_uri": "https://localhost:8080/"
        },
        "id": "utyE878GTLWi",
        "outputId": "c4a4716f-215d-47d8-a396-cd6245c954d6"
      },
      "source": [
        "print ('ตัวแปร') #สิ่งที่อยู่ข้างใน()คือตัวแปร และ string"
      ],
      "execution_count": null,
      "outputs": [
        {
          "output_type": "stream",
          "text": [
            "ตัวแปร\n"
          ],
          "name": "stdout"
        }
      ]
    },
    {
      "cell_type": "code",
      "metadata": {
        "colab": {
          "base_uri": "https://localhost:8080/"
        },
        "id": "3mWyaPZuT5ma",
        "outputId": "af8d5205-9e69-4a42-bc9c-25400d10be5f"
      },
      "source": [
        "print(f'% คือการหารเอาเศษ เช่น 7%3 = {7%3}') # เพิ่ม f หน้า 'string' และใช้ {} ใส่ code"
      ],
      "execution_count": null,
      "outputs": [
        {
          "output_type": "stream",
          "text": [
            "% คือการหารเอาเศษ เช่น 7%3 = 1\n"
          ],
          "name": "stdout"
        }
      ]
    },
    {
      "cell_type": "code",
      "metadata": {
        "colab": {
          "base_uri": "https://localhost:8080/"
        },
        "id": "ewBwaRS6USlt",
        "outputId": "cd918d70-b797-47cc-c4ec-b72cf068491f"
      },
      "source": [
        "print(f'% คือการหารเอาเศษ เช่น 7%3 = {7%3} แต่ \\n/ คือการหารปกติ เช่น 7/3  = {7/3}') "
      ],
      "execution_count": null,
      "outputs": [
        {
          "output_type": "stream",
          "text": [
            "% คือการหารเอาเศษ เช่น 7%3 = 1 แต่ \n",
            "/ คือการหารปกติ เช่น 7/3  = 2.3333333333333335\n"
          ],
          "name": "stdout"
        }
      ]
    },
    {
      "cell_type": "markdown",
      "metadata": {
        "id": "G0YHrAiaXMXo"
      },
      "source": [
        "โจทย์\r\n"
      ]
    },
    {
      "cell_type": "code",
      "metadata": {
        "colab": {
          "base_uri": "https://localhost:8080/"
        },
        "id": "Omvhqe1pVnL0",
        "outputId": "cecbced5-5e50-4d94-fc83-d0bd8024409a"
      },
      "source": [
        "print(f'% คือการหารเอาเศษ เช่น 7%3 = {7%3} \\\\\r\n",
        "แต่ \\n/ คือการหารปกติ เช่น 7/3  = {7/3} \\\\\r\n",
        "และ \\n// คือการหารเอาส่วน เช่น 7//3 = {7//3} \\\\\r\n",
        "หรือ \\n ใช้ int() เพื่อหารเอาส่วน เช่น int(7/3) = {int(7/3)}')\r\n",
        " # \\n คือการขึ้นบรรทัดใหม่ \\\\ ใช้ในการตัด code แต่ com จะไม่เห็น\r\n"
      ],
      "execution_count": null,
      "outputs": [
        {
          "output_type": "stream",
          "text": [
            "% คือการหารเอาเศษ เช่น 7%3 = 1 \\แต่ \n",
            "/ คือการหารปกติ เช่น 7/3  = 2.3333333333333335 \\และ \n",
            "// คือการหารเอาส่วน เช่น 7//3 = 2 \\หรือ \n",
            " ใช้ int() เพื่อหารเอาส่วน เช่น int(7/3) = 2\n"
          ],
          "name": "stdout"
        }
      ]
    },
    {
      "cell_type": "code",
      "metadata": {
        "colab": {
          "base_uri": "https://localhost:8080/"
        },
        "id": "Rr2XgO9jWGOd",
        "outputId": "c579eb2b-d565-4750-9909-75200430dc3b"
      },
      "source": [
        "int(7/3)"
      ],
      "execution_count": null,
      "outputs": [
        {
          "output_type": "execute_result",
          "data": {
            "text/plain": [
              "2"
            ]
          },
          "metadata": {
            "tags": []
          },
          "execution_count": 33
        }
      ]
    },
    {
      "cell_type": "markdown",
      "metadata": {
        "id": "r9sOw-lEayEM"
      },
      "source": [
        "## Data structure (โครงสร้างข้อมูล)\r\n",
        "list คือการเอาตัวแปรหลายๆตัวมาเรียงกัน: เป็นได้ทั้งตัวเลขและอักขระ\r\n",
        "list สามารถสร้างได้2 แบบ"
      ]
    },
    {
      "cell_type": "markdown",
      "metadata": {
        "id": "UH_ouh5vbZVj"
      },
      "source": [
        "แบบที่1 > square brackets\r\n"
      ]
    },
    {
      "cell_type": "code",
      "metadata": {
        "id": "Eqh8SRfkZyO5"
      },
      "source": [
        "list_a = []"
      ],
      "execution_count": null,
      "outputs": []
    },
    {
      "cell_type": "code",
      "metadata": {
        "colab": {
          "base_uri": "https://localhost:8080/"
        },
        "id": "6p1TQZ8zbEl6",
        "outputId": "5bb12d2c-2af9-4c99-e5c1-b2ef31985044"
      },
      "source": [
        "list_b = [1,5,'v']\r\n",
        "print(list_b)"
      ],
      "execution_count": 9,
      "outputs": [
        {
          "output_type": "stream",
          "text": [
            "[1, 5, 'v']\n"
          ],
          "name": "stdout"
        }
      ]
    },
    {
      "cell_type": "markdown",
      "metadata": {
        "id": "qLYEr3mHbX4b"
      },
      "source": [
        "## ลำดับที่อยู่ใน list มีความสำคัญ (ลำดับใน list เริ่มจาก 0,1,2....)"
      ]
    },
    {
      "cell_type": "code",
      "metadata": {
        "colab": {
          "base_uri": "https://localhost:8080/"
        },
        "id": "P-0m-4rHbRUe",
        "outputId": "664734aa-f41d-49f5-dc6a-4345a79f85ea"
      },
      "source": [
        "list_b[1]"
      ],
      "execution_count": null,
      "outputs": [
        {
          "output_type": "execute_result",
          "data": {
            "text/plain": [
              "5"
            ]
          },
          "metadata": {
            "tags": []
          },
          "execution_count": 39
        }
      ]
    },
    {
      "cell_type": "markdown",
      "metadata": {
        "id": "rztwht4nbxEM"
      },
      "source": [
        "แบบที่2"
      ]
    },
    {
      "cell_type": "code",
      "metadata": {
        "colab": {
          "base_uri": "https://localhost:8080/"
        },
        "id": "XHBqfji2cFzA",
        "outputId": "7000a5f4-9601-4df9-b002-bbb3e9581494"
      },
      "source": [
        "list_c = []\r\n",
        "print(list_c)"
      ],
      "execution_count": null,
      "outputs": [
        {
          "output_type": "stream",
          "text": [
            "[]\n"
          ],
          "name": "stdout"
        }
      ]
    },
    {
      "cell_type": "markdown",
      "metadata": {
        "id": "bBM3RfHnhWJ0"
      },
      "source": [
        "## append () เพิ่มสมาชิกใน list\r\n"
      ]
    },
    {
      "cell_type": "code",
      "metadata": {
        "colab": {
          "base_uri": "https://localhost:8080/"
        },
        "id": "1n744j2yiOp3",
        "outputId": "df2d4579-254b-4eb5-bcff-414be2356caf"
      },
      "source": [
        "list_b.append('u')\r\n",
        "print(list_b)"
      ],
      "execution_count": 10,
      "outputs": [
        {
          "output_type": "stream",
          "text": [
            "[1, 5, 'v', 'u']\n"
          ],
          "name": "stdout"
        }
      ]
    },
    {
      "cell_type": "code",
      "metadata": {
        "colab": {
          "base_uri": "https://localhost:8080/",
          "height": 35
        },
        "id": "_Jc2eCHYjGXE",
        "outputId": "04c26ff0-42ed-4afe-be41-e11fdcd55430"
      },
      "source": [
        "list_b.pop()  ### ดึงสมาชิกที่สุดท้ายออกจาก list"
      ],
      "execution_count": 11,
      "outputs": [
        {
          "output_type": "execute_result",
          "data": {
            "application/vnd.google.colaboratory.intrinsic+json": {
              "type": "string"
            },
            "text/plain": [
              "'u'"
            ]
          },
          "metadata": {
            "tags": []
          },
          "execution_count": 11
        }
      ]
    },
    {
      "cell_type": "code",
      "metadata": {
        "colab": {
          "base_uri": "https://localhost:8080/"
        },
        "id": "vTD6YyLBjdM9",
        "outputId": "4df65d27-300c-43c5-ff50-3702fa1667cc"
      },
      "source": [
        "list_b"
      ],
      "execution_count": 12,
      "outputs": [
        {
          "output_type": "execute_result",
          "data": {
            "text/plain": [
              "[1, 5, 'v']"
            ]
          },
          "metadata": {
            "tags": []
          },
          "execution_count": 12
        }
      ]
    },
    {
      "cell_type": "markdown",
      "metadata": {
        "id": "fLNJMAb3dFzO"
      },
      "source": [
        "string > list of characters"
      ]
    },
    {
      "cell_type": "code",
      "metadata": {
        "colab": {
          "base_uri": "https://localhost:8080/",
          "height": 35
        },
        "id": "Ym-uR--KcaIC",
        "outputId": "6ff280a0-47ce-4598-99d6-6b42bf11c159"
      },
      "source": [
        "t = 'python is easy'\r\n",
        "t"
      ],
      "execution_count": null,
      "outputs": [
        {
          "output_type": "execute_result",
          "data": {
            "application/vnd.google.colaboratory.intrinsic+json": {
              "type": "string"
            },
            "text/plain": [
              "'python is easy'"
            ]
          },
          "metadata": {
            "tags": []
          },
          "execution_count": 41
        }
      ]
    },
    {
      "cell_type": "code",
      "metadata": {
        "colab": {
          "base_uri": "https://localhost:8080/"
        },
        "id": "GDXzOuZ5deM9",
        "outputId": "f27d8cef-2b2b-43db-a221-6e88f64c0a5b"
      },
      "source": [
        "len(list_b) # len คือคำสั่งตรวจสอบความยาวของ list (จำนวณสมาชิก)"
      ],
      "execution_count": null,
      "outputs": [
        {
          "output_type": "execute_result",
          "data": {
            "text/plain": [
              "3"
            ]
          },
          "metadata": {
            "tags": []
          },
          "execution_count": 43
        }
      ]
    },
    {
      "cell_type": "code",
      "metadata": {
        "colab": {
          "base_uri": "https://localhost:8080/"
        },
        "id": "WTR_2w8Od3js",
        "outputId": "2288fd20-6091-4a31-b223-801529ac1ac7"
      },
      "source": [
        "len(t)"
      ],
      "execution_count": null,
      "outputs": [
        {
          "output_type": "execute_result",
          "data": {
            "text/plain": [
              "14"
            ]
          },
          "metadata": {
            "tags": []
          },
          "execution_count": 44
        }
      ]
    },
    {
      "cell_type": "markdown",
      "metadata": {
        "id": "r8zkqFONeFBE"
      },
      "source": [
        "access a member of a list \r\n",
        "โดยการเริ่มนับจาก0"
      ]
    },
    {
      "cell_type": "code",
      "metadata": {
        "colab": {
          "base_uri": "https://localhost:8080/",
          "height": 35
        },
        "id": "hvvi5xbQeDjM",
        "outputId": "b36dc233-47e7-415d-80d7-82ab4ca7def4"
      },
      "source": [
        "t[1]"
      ],
      "execution_count": null,
      "outputs": [
        {
          "output_type": "execute_result",
          "data": {
            "application/vnd.google.colaboratory.intrinsic+json": {
              "type": "string"
            },
            "text/plain": [
              "'y'"
            ]
          },
          "metadata": {
            "tags": []
          },
          "execution_count": 45
        }
      ]
    },
    {
      "cell_type": "code",
      "metadata": {
        "colab": {
          "base_uri": "https://localhost:8080/",
          "height": 35
        },
        "id": "jHuYX0STePDk",
        "outputId": "e578978c-4f93-49fc-d9ff-23eb1b2e2024"
      },
      "source": [
        "t[-1]"
      ],
      "execution_count": null,
      "outputs": [
        {
          "output_type": "execute_result",
          "data": {
            "application/vnd.google.colaboratory.intrinsic+json": {
              "type": "string"
            },
            "text/plain": [
              "'y'"
            ]
          },
          "metadata": {
            "tags": []
          },
          "execution_count": 46
        }
      ]
    },
    {
      "cell_type": "code",
      "metadata": {
        "colab": {
          "base_uri": "https://localhost:8080/",
          "height": 35
        },
        "id": "AcI9yc-IebAF",
        "outputId": "d55a745e-47a9-49be-ca91-bf694e833bf7"
      },
      "source": [
        "t[-3]"
      ],
      "execution_count": null,
      "outputs": [
        {
          "output_type": "execute_result",
          "data": {
            "application/vnd.google.colaboratory.intrinsic+json": {
              "type": "string"
            },
            "text/plain": [
              "'a'"
            ]
          },
          "metadata": {
            "tags": []
          },
          "execution_count": 47
        }
      ]
    },
    {
      "cell_type": "markdown",
      "metadata": {
        "id": "LJ2iBer0ermO"
      },
      "source": [
        "ตัวที่อยู่ข้างใน [ ] เราเรียกว่า index (ตัวชี้)"
      ]
    },
    {
      "cell_type": "markdown",
      "metadata": {
        "id": "StwBzVuifZaa"
      },
      "source": [
        "### list slicing สามารถทำโดยใช้ colon :\r\n",
        "[a:b] -> [a,b)"
      ]
    },
    {
      "cell_type": "code",
      "metadata": {
        "colab": {
          "base_uri": "https://localhost:8080/",
          "height": 162
        },
        "id": "NPve1Z7tfJsz",
        "outputId": "84609f13-4a22-4fcf-8681-2dec99406379"
      },
      "source": [
        "t[7:9]"
      ],
      "execution_count": 1,
      "outputs": [
        {
          "output_type": "error",
          "ename": "NameError",
          "evalue": "ignored",
          "traceback": [
            "\u001b[0;31m---------------------------------------------------------------------------\u001b[0m",
            "\u001b[0;31mNameError\u001b[0m                                 Traceback (most recent call last)",
            "\u001b[0;32m<ipython-input-1-7408df6aefa5>\u001b[0m in \u001b[0;36m<module>\u001b[0;34m()\u001b[0m\n\u001b[0;32m----> 1\u001b[0;31m \u001b[0mt\u001b[0m\u001b[0;34m[\u001b[0m\u001b[0;36m7\u001b[0m\u001b[0;34m:\u001b[0m\u001b[0;36m9\u001b[0m\u001b[0;34m]\u001b[0m\u001b[0;34m\u001b[0m\u001b[0;34m\u001b[0m\u001b[0m\n\u001b[0m",
            "\u001b[0;31mNameError\u001b[0m: name 't' is not defined"
          ]
        }
      ]
    },
    {
      "cell_type": "code",
      "metadata": {
        "colab": {
          "base_uri": "https://localhost:8080/",
          "height": 178
        },
        "id": "_7egDm1kgpPQ",
        "outputId": "8d90ee14-f97d-429d-d436-1879d7cd28df"
      },
      "source": [
        "print(t)\r\n",
        "print(t[7:9])"
      ],
      "execution_count": 2,
      "outputs": [
        {
          "output_type": "error",
          "ename": "NameError",
          "evalue": "ignored",
          "traceback": [
            "\u001b[0;31m---------------------------------------------------------------------------\u001b[0m",
            "\u001b[0;31mNameError\u001b[0m                                 Traceback (most recent call last)",
            "\u001b[0;32m<ipython-input-2-88182512511f>\u001b[0m in \u001b[0;36m<module>\u001b[0;34m()\u001b[0m\n\u001b[0;32m----> 1\u001b[0;31m \u001b[0mprint\u001b[0m\u001b[0;34m(\u001b[0m\u001b[0mt\u001b[0m\u001b[0;34m)\u001b[0m\u001b[0;34m\u001b[0m\u001b[0;34m\u001b[0m\u001b[0m\n\u001b[0m\u001b[1;32m      2\u001b[0m \u001b[0mprint\u001b[0m\u001b[0;34m(\u001b[0m\u001b[0mt\u001b[0m\u001b[0;34m[\u001b[0m\u001b[0;36m7\u001b[0m\u001b[0;34m:\u001b[0m\u001b[0;36m9\u001b[0m\u001b[0;34m]\u001b[0m\u001b[0;34m)\u001b[0m\u001b[0;34m\u001b[0m\u001b[0;34m\u001b[0m\u001b[0m\n",
            "\u001b[0;31mNameError\u001b[0m: name 't' is not defined"
          ]
        }
      ]
    },
    {
      "cell_type": "markdown",
      "metadata": {
        "id": "UMHNuOvlhMAB"
      },
      "source": [
        "ถ้าเว้นว่างหน้า : หมายถึง เริ่มตั้งแต่ตัวแรก\r\n",
        "ถ้าเว้นว่างหลัง : หมายถึง ไปจนถึงตัวสุดท้าย"
      ]
    },
    {
      "cell_type": "code",
      "metadata": {
        "id": "89M3sNozhIn_"
      },
      "source": [
        "print(t)\r\n",
        "print(t[:6])\r\n",
        "print(t[10:])\r\n",
        "print(t[-4:])\r\n",
        "print(t[:])"
      ],
      "execution_count": null,
      "outputs": []
    },
    {
      "cell_type": "markdown",
      "metadata": {
        "id": "vXn0IarZiRDC"
      },
      "source": [
        "#### เราสามารถเอา list มาต่อกันได้ด้วย +"
      ]
    },
    {
      "cell_type": "code",
      "metadata": {
        "id": "PV7SbN1ViHVO"
      },
      "source": [
        "t + '??'"
      ],
      "execution_count": null,
      "outputs": []
    },
    {
      "cell_type": "code",
      "metadata": {
        "id": "WOKaSqFnikcr"
      },
      "source": [
        "list_b + list_b"
      ],
      "execution_count": null,
      "outputs": []
    },
    {
      "cell_type": "code",
      "metadata": {
        "id": "rqHDuUXTiqZR"
      },
      "source": [
        "t + list_b ## ไม่สามารถเอา list มาต่อ string\r\n"
      ],
      "execution_count": null,
      "outputs": []
    },
    {
      "cell_type": "markdown",
      "metadata": {
        "id": "b51UcZi4jA6J"
      },
      "source": [
        "### การแบ่ง string ตามสัญลักษณ์ที่กำหนด -> split string"
      ]
    },
    {
      "cell_type": "code",
      "metadata": {
        "colab": {
          "base_uri": "https://localhost:8080/"
        },
        "id": "PWeHvuMri48S",
        "outputId": "95c3575f-4712-481d-b825-e3ab963fba62"
      },
      "source": [
        "t.split(' ')"
      ],
      "execution_count": null,
      "outputs": [
        {
          "output_type": "execute_result",
          "data": {
            "text/plain": [
              "['python', 'is', 'easy']"
            ]
          },
          "metadata": {
            "tags": []
          },
          "execution_count": 57
        }
      ]
    },
    {
      "cell_type": "code",
      "metadata": {
        "id": "UqKyG0REjW5g"
      },
      "source": [
        "time = '12:30:15'"
      ],
      "execution_count": null,
      "outputs": []
    },
    {
      "cell_type": "code",
      "metadata": {
        "colab": {
          "base_uri": "https://localhost:8080/"
        },
        "id": "J8X8Z2xrjg3q",
        "outputId": "c16c184b-f8c5-4c01-bbd1-92b01c88fe35"
      },
      "source": [
        "time.split(':')"
      ],
      "execution_count": null,
      "outputs": [
        {
          "output_type": "execute_result",
          "data": {
            "text/plain": [
              "['12', '30', '15']"
            ]
          },
          "metadata": {
            "tags": []
          },
          "execution_count": 61
        }
      ]
    },
    {
      "cell_type": "code",
      "metadata": {
        "colab": {
          "base_uri": "https://localhost:8080/"
        },
        "id": "e-y9GdysjmGL",
        "outputId": "30bc5d39-6010-4540-a97f-2d1ac942d538"
      },
      "source": [
        "t_sp = t.split(' ')\r\n",
        "print(t_sp)\r\n",
        "## วิธีรวม\r\n",
        "print(':'.join(t_sp))"
      ],
      "execution_count": null,
      "outputs": [
        {
          "output_type": "stream",
          "text": [
            "['python', 'is', 'easy']\n",
            "python:is:easy\n"
          ],
          "name": "stdout"
        }
      ]
    },
    {
      "cell_type": "code",
      "metadata": {
        "id": "V7JfP9izlGdc"
      },
      "source": [
        ""
      ],
      "execution_count": null,
      "outputs": []
    },
    {
      "cell_type": "markdown",
      "metadata": {
        "id": "f3z1wbNIkNUN"
      },
      "source": [
        "###  HW  คำนวณเวลาเป็นวินาทีของเวลาต่อไปนี้โดยใช้คำสั่ง split() ช่วย (print ออกมาให้สวยงาม)"
      ]
    },
    {
      "cell_type": "markdown",
      "metadata": {
        "id": "M0XWOWkMlU6E"
      },
      "source": [
        "12:30:15"
      ]
    },
    {
      "cell_type": "code",
      "metadata": {
        "colab": {
          "base_uri": "https://localhost:8080/"
        },
        "id": "mJsU5878mxxD",
        "outputId": "bb88b2b2-56ce-4b8b-ee0c-fbfc2309985e"
      },
      "source": [
        "time = '12:30:15'\r\n",
        "t1 = time.split(':')\r\n",
        "s = t1[0]\r\n",
        "b = t1[1]\r\n",
        "c = t1[2]\r\n",
        "total_s = int(s)*60*60+int(b)*60+int(c)\r\n",
        "tt_s = f'{time} = {total_s} s'\r\n",
        "print(tt_s)"
      ],
      "execution_count": 16,
      "outputs": [
        {
          "output_type": "stream",
          "text": [
            "12:30:15 = 45015 s\n"
          ],
          "name": "stdout"
        }
      ]
    },
    {
      "cell_type": "markdown",
      "metadata": {
        "id": "zGka_CvmlZu1"
      },
      "source": [
        "13:41:07"
      ]
    },
    {
      "cell_type": "code",
      "metadata": {
        "colab": {
          "base_uri": "https://localhost:8080/"
        },
        "id": "Tf00ArNXuSW1",
        "outputId": "3783896a-752c-44f0-8a4e-73af2cf16694"
      },
      "source": [
        "time = '13:41:07'\r\n",
        "t1 = time.split(':')\r\n",
        "s = t1[0]\r\n",
        "b = t1[1]\r\n",
        "c = t1[2]\r\n",
        "total_s = int(s)*60*60+int(b)*60+int(c)\r\n",
        "tt_s = f'{time} = {total_s} s'\r\n",
        "print(tt_s)"
      ],
      "execution_count": 17,
      "outputs": [
        {
          "output_type": "stream",
          "text": [
            "13:41:07 = 49267 s\n"
          ],
          "name": "stdout"
        }
      ]
    },
    {
      "cell_type": "markdown",
      "metadata": {
        "id": "Ml-N1ghblaZ2"
      },
      "source": [
        "12:53:15"
      ]
    },
    {
      "cell_type": "code",
      "metadata": {
        "colab": {
          "base_uri": "https://localhost:8080/"
        },
        "id": "76F3p7P1ueiq",
        "outputId": "945a362c-2721-419b-d41a-555bf0f051f4"
      },
      "source": [
        "time = '12:53:15'\r\n",
        "t1 = time.split(':')\r\n",
        "s = t1[0]\r\n",
        "b = t1[1]\r\n",
        "c = t1[2]\r\n",
        "total_s = int(s)*60*60+int(b)*60+int(c)\r\n",
        "tt_s = f'{time} = {total_s} s'\r\n",
        "print(tt_s)"
      ],
      "execution_count": 18,
      "outputs": [
        {
          "output_type": "stream",
          "text": [
            "12:53:15 = 46395 s\n"
          ],
          "name": "stdout"
        }
      ]
    },
    {
      "cell_type": "markdown",
      "metadata": {
        "id": "1NcJ2zY_lcI_"
      },
      "source": [
        "00:59:25"
      ]
    },
    {
      "cell_type": "code",
      "metadata": {
        "colab": {
          "base_uri": "https://localhost:8080/"
        },
        "id": "MnylCSxluj-3",
        "outputId": "22fae9f8-916b-4314-ea86-cce1e41387b8"
      },
      "source": [
        "time = '00:59:25'\r\n",
        "t1 = time.split(':')\r\n",
        "s = t1[0]\r\n",
        "b = t1[1]\r\n",
        "c = t1[2]\r\n",
        "total_s = int(s)*60*60+int(b)*60+int(c)\r\n",
        "tt_s = f'{time} = {total_s} s'\r\n",
        "print(tt_s)"
      ],
      "execution_count": 19,
      "outputs": [
        {
          "output_type": "stream",
          "text": [
            "00:59:25 = 3565 s\n"
          ],
          "name": "stdout"
        }
      ]
    },
    {
      "cell_type": "markdown",
      "metadata": {
        "id": "Mj9G51Vnlcl3"
      },
      "source": [
        "11:11:11"
      ]
    },
    {
      "cell_type": "code",
      "metadata": {
        "colab": {
          "base_uri": "https://localhost:8080/"
        },
        "id": "k1C3C8gMuqJR",
        "outputId": "f63ddc7f-0873-4f27-c024-418991a01266"
      },
      "source": [
        "time = '11:11:11'\r\n",
        "t1 = time.split(':')\r\n",
        "s = t1[0]\r\n",
        "b = t1[1]\r\n",
        "c = t1[2]\r\n",
        "total_s = int(s)*60*60+int(b)*60+int(c)\r\n",
        "tt_s = f'{time} = {total_s} s'\r\n",
        "print(tt_s)"
      ],
      "execution_count": 20,
      "outputs": [
        {
          "output_type": "stream",
          "text": [
            "11:11:11 = 40271 s\n"
          ],
          "name": "stdout"
        }
      ]
    },
    {
      "cell_type": "markdown",
      "metadata": {
        "id": "rxyPYKxrldFl"
      },
      "source": [
        "16:06:09"
      ]
    },
    {
      "cell_type": "code",
      "metadata": {
        "colab": {
          "base_uri": "https://localhost:8080/"
        },
        "id": "VB-ND2dSuvlX",
        "outputId": "9f638141-0e60-4fb8-9e59-aef6e60b538c"
      },
      "source": [
        "time = '16:06:09'\r\n",
        "t1 = time.split(':')\r\n",
        "s = t1[0]\r\n",
        "b = t1[1]\r\n",
        "c = t1[2]\r\n",
        "total_s = int(s)*60*60+int(b)*60+int(c)\r\n",
        "tt_s = f'{time} = {total_s} s'\r\n",
        "print(tt_s)"
      ],
      "execution_count": 21,
      "outputs": [
        {
          "output_type": "stream",
          "text": [
            "16:06:09 = 57969 s\n"
          ],
          "name": "stdout"
        }
      ]
    },
    {
      "cell_type": "code",
      "metadata": {
        "id": "1wj34v8-u0S-"
      },
      "source": [
        ""
      ],
      "execution_count": null,
      "outputs": []
    }
  ]
}