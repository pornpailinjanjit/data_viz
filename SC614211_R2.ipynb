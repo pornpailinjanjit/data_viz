{
  "nbformat": 4,
  "nbformat_minor": 0,
  "metadata": {
    "colab": {
      "name": "SC614211_R2.ipynb",
      "provenance": [],
      "authorship_tag": "ABX9TyPx5AmuNR4XKgCEbpNTJcJk",
      "include_colab_link": true
    },
    "kernelspec": {
      "display_name": "R",
      "name": "ir"
    },
    "language_info": {
      "name": "R"
    }
  },
  "cells": [
    {
      "cell_type": "markdown",
      "metadata": {
        "id": "view-in-github",
        "colab_type": "text"
      },
      "source": [
        "<a href=\"https://colab.research.google.com/github/pornpailinjanjit/data_viz/blob/main/SC614211_R2.ipynb\" target=\"_parent\"><img src=\"https://colab.research.google.com/assets/colab-badge.svg\" alt=\"Open In Colab\"/></a>"
      ]
    },
    {
      "cell_type": "code",
      "metadata": {
        "colab": {
          "base_uri": "https://localhost:8080/"
        },
        "id": "ZkeeUlUVQ6vV",
        "outputId": "a0e7076f-c12d-4f9c-dacb-f1b1a8d3b607"
      },
      "source": [
        "x1 = matrix(c(2,3,7,4),4,1)\n",
        "print(x1)"
      ],
      "execution_count": null,
      "outputs": [
        {
          "output_type": "stream",
          "text": [
            "     [,1]\n",
            "[1,]    2\n",
            "[2,]    3\n",
            "[3,]    7\n",
            "[4,]    4\n"
          ],
          "name": "stdout"
        }
      ]
    },
    {
      "cell_type": "code",
      "metadata": {
        "colab": {
          "base_uri": "https://localhost:8080/"
        },
        "id": "KCuj44LyRrkL",
        "outputId": "c00ce68b-f3e8-4396-91d1-af767b5dfa33"
      },
      "source": [
        "x2 = matrix(c(42,52,48,58,4,5,4,5),4,2)\n",
        "print(x2)"
      ],
      "execution_count": null,
      "outputs": [
        {
          "output_type": "stream",
          "text": [
            "     [,1] [,2]\n",
            "[1,]   42    4\n",
            "[2,]   52    5\n",
            "[3,]   48    4\n",
            "[4,]   58    5\n"
          ],
          "name": "stdout"
        }
      ]
    },
    {
      "cell_type": "code",
      "metadata": {
        "colab": {
          "base_uri": "https://localhost:8080/"
        },
        "id": "Hhn6fdUTTLIb",
        "outputId": "a0f68aa1-4bd6-4631-c97a-336f87a5aace"
      },
      "source": [
        "P = 4*x1\n",
        "print(P)"
      ],
      "execution_count": null,
      "outputs": [
        {
          "output_type": "stream",
          "text": [
            "     [,1]\n",
            "[1,]    8\n",
            "[2,]   12\n",
            "[3,]   28\n",
            "[4,]   16\n"
          ],
          "name": "stdout"
        }
      ]
    },
    {
      "cell_type": "code",
      "metadata": {
        "colab": {
          "base_uri": "https://localhost:8080/"
        },
        "id": "Gnl_10s0Tv2D",
        "outputId": "439a33ac-956a-4727-954d-0727bdab5b4e"
      },
      "source": [
        "J = 4*x2\n",
        "print(J)"
      ],
      "execution_count": null,
      "outputs": [
        {
          "output_type": "stream",
          "text": [
            "     [,1] [,2]\n",
            "[1,]  168   16\n",
            "[2,]  208   20\n",
            "[3,]  192   16\n",
            "[4,]  232   20\n"
          ],
          "name": "stdout"
        }
      ]
    },
    {
      "cell_type": "code",
      "metadata": {
        "colab": {
          "base_uri": "https://localhost:8080/"
        },
        "id": "NYsjyahMTv0U",
        "outputId": "04eb9cf8-b156-4eb6-bfc8-8e91f5fdaeb5"
      },
      "source": [
        "Y=matrix(c(2,-6,7,3),4,1)\n",
        "print(Y)"
      ],
      "execution_count": null,
      "outputs": [
        {
          "output_type": "stream",
          "text": [
            "     [,1]\n",
            "[1,]    2\n",
            "[2,]   -6\n",
            "[3,]    7\n",
            "[4,]    3\n"
          ],
          "name": "stdout"
        }
      ]
    },
    {
      "cell_type": "code",
      "metadata": {
        "colab": {
          "base_uri": "https://localhost:8080/"
        },
        "id": "JlWsDpwnWLqG",
        "outputId": "78fb2f42-5c39-4a0b-fb5a-31aedddc5316"
      },
      "source": [
        "K = x1+Y\n",
        "print(K)"
      ],
      "execution_count": null,
      "outputs": [
        {
          "output_type": "stream",
          "text": [
            "     [,1]\n",
            "[1,]    4\n",
            "[2,]   -3\n",
            "[3,]   14\n",
            "[4,]    7\n"
          ],
          "name": "stdout"
        }
      ]
    },
    {
      "cell_type": "code",
      "metadata": {
        "colab": {
          "base_uri": "https://localhost:8080/"
        },
        "id": "rdZif4SEWsvP",
        "outputId": "b4a13621-29d1-43a0-85b7-3a8746be0832"
      },
      "source": [
        "A = matrix(c(3,-1,2,1,5,4),2,3)\n",
        "print(A)"
      ],
      "execution_count": null,
      "outputs": [
        {
          "output_type": "stream",
          "text": [
            "     [,1] [,2] [,3]\n",
            "[1,]    3    2    5\n",
            "[2,]   -1    1    4\n"
          ],
          "name": "stdout"
        }
      ]
    },
    {
      "cell_type": "code",
      "metadata": {
        "colab": {
          "base_uri": "https://localhost:8080/"
        },
        "id": "hTLd5HSQZO8R",
        "outputId": "107997de-83ba-47c2-b26a-194ac649b508"
      },
      "source": [
        "A1 =t(A)\n",
        "print(A1)"
      ],
      "execution_count": null,
      "outputs": [
        {
          "output_type": "stream",
          "text": [
            "     [,1] [,2]\n",
            "[1,]    3   -1\n",
            "[2,]    2    1\n",
            "[3,]    5    4\n"
          ],
          "name": "stdout"
        }
      ]
    },
    {
      "cell_type": "code",
      "metadata": {
        "colab": {
          "base_uri": "https://localhost:8080/"
        },
        "id": "MQCICFUBsTPz",
        "outputId": "c980e443-534d-465b-c74b-19470f4b63cd"
      },
      "source": [
        "B = matrix(c(1,4,2,5,3,6),2,3)\n",
        "print(B)"
      ],
      "execution_count": null,
      "outputs": [
        {
          "output_type": "stream",
          "text": [
            "     [,1] [,2] [,3]\n",
            "[1,]    1    2    3\n",
            "[2,]    4    5    6\n"
          ],
          "name": "stdout"
        }
      ]
    },
    {
      "cell_type": "code",
      "metadata": {
        "colab": {
          "base_uri": "https://localhost:8080/"
        },
        "id": "ZeD9q-Qqs3em",
        "outputId": "4ef5f6d2-d382-4360-94e1-51f5a124f6c3"
      },
      "source": [
        "C = matrix(c(1,2,-1,2,1,2),3,2)\n",
        "print(C)"
      ],
      "execution_count": null,
      "outputs": [
        {
          "output_type": "stream",
          "text": [
            "     [,1] [,2]\n",
            "[1,]    1    2\n",
            "[2,]    2    1\n",
            "[3,]   -1    2\n"
          ],
          "name": "stdout"
        }
      ]
    },
    {
      "cell_type": "code",
      "metadata": {
        "colab": {
          "base_uri": "https://localhost:8080/"
        },
        "id": "fEUXRcxDtKZ4",
        "outputId": "54c96b2f-080c-45aa-ba23-709d091f51c1"
      },
      "source": [
        "V = B%*%C\n",
        "print(V)"
      ],
      "execution_count": null,
      "outputs": [
        {
          "output_type": "stream",
          "text": [
            "     [,1] [,2]\n",
            "[1,]    2   10\n",
            "[2,]    8   25\n"
          ],
          "name": "stdout"
        }
      ]
    }
  ]
}