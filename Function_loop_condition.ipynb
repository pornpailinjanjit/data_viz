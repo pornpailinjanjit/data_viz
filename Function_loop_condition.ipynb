{
  "nbformat": 4,
  "nbformat_minor": 0,
  "metadata": {
    "colab": {
      "name": "Function_loop_condition",
      "provenance": [],
      "authorship_tag": "ABX9TyMsBqJLV9RxEyBxn9BVtLB4",
      "include_colab_link": true
    },
    "kernelspec": {
      "name": "python3",
      "display_name": "Python 3"
    }
  },
  "cells": [
    {
      "cell_type": "markdown",
      "metadata": {
        "id": "view-in-github",
        "colab_type": "text"
      },
      "source": [
        "<a href=\"https://colab.research.google.com/github/pornpailinjanjit/data_viz/blob/main/Function_loop_condition.ipynb\" target=\"_parent\"><img src=\"https://colab.research.google.com/assets/colab-badge.svg\" alt=\"Open In Colab\"/></a>"
      ]
    },
    {
      "cell_type": "code",
      "metadata": {
        "id": "ejGr9bamfbsy"
      },
      "source": [
        ""
      ],
      "execution_count": null,
      "outputs": []
    },
    {
      "cell_type": "markdown",
      "metadata": {
        "id": "ABLtZ2-efcyp"
      },
      "source": [
        "## Fungtion"
      ]
    },
    {
      "cell_type": "markdown",
      "metadata": {
        "id": "Ytt557AXgo9J"
      },
      "source": [
        "## fungtion template\r\n",
        " ## ทำหน้าที่รับ input มาประมวณผลออกมาเป็น output\r\n",
        " ## f(x)=y"
      ]
    },
    {
      "cell_type": "markdown",
      "metadata": {
        "id": "3MhGcG7Cg9Ia"
      },
      "source": [
        "### def คือการกำหนดฟังก์ชัน"
      ]
    },
    {
      "cell_type": "code",
      "metadata": {
        "id": "gq_2o6FwlLfO"
      },
      "source": [
        ""
      ],
      "execution_count": null,
      "outputs": []
    },
    {
      "cell_type": "markdown",
      "metadata": {
        "id": "OJ4fBTf9hHns"
      },
      "source": [
        "```python \r\n",
        "     def funtion_name(_Input_) :\r\n",
        "       do_something with _Input_ to get _Output_\r\n",
        "       return _output\r\n",
        "```\r\n",
        "\r\n",
        "backtick \r\n",
        "tilde\r\n",
        "curly bracket ({})\r\n",
        "square bracket ([])\r\n"
      ]
    },
    {
      "cell_type": "markdown",
      "metadata": {
        "id": "acv56MbSmHkR"
      },
      "source": [
        "funtion มีส่วนสำคัญทั้งหมด 4 ส่วน\r\n",
        " 1. บอกpython ว่าเราจะเขียนฟังก์ชั่น ชื่ออะไร ```def function_name() :```\r\n",
        " (ขาดไม่ได้)\r\n",
        " 2. กำหนดตัวแปรที่จะเป็น input ```_Input_``` (ขาดได้)\r\n",
        " 3. ส่วนประมวลผล do_some"
      ]
    },
    {
      "cell_type": "code",
      "metadata": {
        "id": "iAqbw88ehMy_"
      },
      "source": [
        ""
      ],
      "execution_count": null,
      "outputs": []
    },
    {
      "cell_type": "markdown",
      "metadata": {
        "id": "6ZdoVA95hYZE"
      },
      "source": [
        "ตัวอย่างการเขียน normal function"
      ]
    },
    {
      "cell_type": "code",
      "metadata": {
        "colab": {
          "base_uri": "https://localhost:8080/"
        },
        "id": "N7PmX6hrnS_p",
        "outputId": "21c9be8e-4119-48ca-c174-20d7d611d109"
      },
      "source": [
        "name = 'พรไพลิน'\r\n",
        "surname = 'จันทร์จิตร'\r\n",
        "ID = '613020193-8'\r\n",
        "b= f'ชื่อ {name} นามสกุล {surname} รหัส {ID}'\r\n",
        "print(b)"
      ],
      "execution_count": 5,
      "outputs": [
        {
          "output_type": "stream",
          "text": [
            "ชื่อ พรไพลิน นามสกุล จันทร์จิตร รหัส 613020193-8\n"
          ],
          "name": "stdout"
        }
      ]
    },
    {
      "cell_type": "code",
      "metadata": {
        "id": "zQB0cgr-kZQb"
      },
      "source": [
        "def print_name(name,surname,ID):\r\n",
        "  st = f'ชื่อ {name} นามสกุล {surname} รหัส {ID}'\r\n",
        "  print(st)"
      ],
      "execution_count": 6,
      "outputs": []
    },
    {
      "cell_type": "code",
      "metadata": {
        "colab": {
          "base_uri": "https://localhost:8080/"
        },
        "id": "iVSTfb7BlIZE",
        "outputId": "e44d49f7-709d-41fe-f135-e76b9bfb8ac1"
      },
      "source": [
        "print(print_name(name='พรไพลิน',surname='จันทร์จิตร',ID='613020193-8'))"
      ],
      "execution_count": 7,
      "outputs": [
        {
          "output_type": "stream",
          "text": [
            "ชื่อ พรไพลิน นามสกุล จันทร์จิตร รหัส 613020193-8\n",
            "None\n"
          ],
          "name": "stdout"
        }
      ]
    },
    {
      "cell_type": "markdown",
      "metadata": {
        "id": "xg6nES7gq96K"
      },
      "source": [
        "ฟังก์ชั่นไม่จำเป็นต้องมี input"
      ]
    },
    {
      "cell_type": "code",
      "metadata": {
        "id": "ShDAXBbzp2u-"
      },
      "source": [
        "def pi():\r\n",
        "  return 3.14159265359\r\n",
        "  "
      ],
      "execution_count": null,
      "outputs": []
    },
    {
      "cell_type": "code",
      "metadata": {
        "colab": {
          "base_uri": "https://localhost:8080/",
          "height": 162
        },
        "id": "OPmmwN87q8sg",
        "outputId": "f6d79360-fc6d-462a-c824-e3615f2ca7cc"
      },
      "source": [
        "pi()*(2**2)  ##หาพื้นที่วงกลมที่มีรัศมเท่ากับ pi * r^2"
      ],
      "execution_count": 10,
      "outputs": [
        {
          "output_type": "error",
          "ename": "NameError",
          "evalue": "ignored",
          "traceback": [
            "\u001b[0;31m---------------------------------------------------------------------------\u001b[0m",
            "\u001b[0;31mNameError\u001b[0m                                 Traceback (most recent call last)",
            "\u001b[0;32m<ipython-input-10-6add7a6c8997>\u001b[0m in \u001b[0;36m<module>\u001b[0;34m()\u001b[0m\n\u001b[0;32m----> 1\u001b[0;31m \u001b[0mpi\u001b[0m\u001b[0;34m(\u001b[0m\u001b[0;34m)\u001b[0m\u001b[0;34m*\u001b[0m\u001b[0;34m(\u001b[0m\u001b[0;36m2\u001b[0m\u001b[0;34m**\u001b[0m\u001b[0;36m2\u001b[0m\u001b[0;34m)\u001b[0m  \u001b[0;31m##หาพื้นที่วงกลมที่มีรัศมเท่ากับ pi * r^2\u001b[0m\u001b[0;34m\u001b[0m\u001b[0;34m\u001b[0m\u001b[0m\n\u001b[0m",
            "\u001b[0;31mNameError\u001b[0m: name 'pi' is not defined"
          ]
        }
      ]
    },
    {
      "cell_type": "code",
      "metadata": {
        "id": "qQajz5XGratG"
      },
      "source": [
        ""
      ],
      "execution_count": null,
      "outputs": []
    },
    {
      "cell_type": "markdown",
      "metadata": {
        "id": "OQwjsPHVr1bR"
      },
      "source": [
        "เราสามารถกำหนดค่า default ให้กับฟันก์ชั่นได้"
      ]
    },
    {
      "cell_type": "markdown",
      "metadata": {
        "id": "Yy_crY5Yxe8V"
      },
      "source": [
        ""
      ]
    },
    {
      "cell_type": "code",
      "metadata": {
        "id": "-ATb0o-RxUSI"
      },
      "source": [
        "def print_2lin"
      ],
      "execution_count": null,
      "outputs": []
    },
    {
      "cell_type": "markdown",
      "metadata": {
        "id": "x6hpSWW40Yhb"
      },
      "source": [
        "### LOOP การวนซ้ำ"
      ]
    },
    {
      "cell_type": "markdown",
      "metadata": {
        "id": "2aRXTlZb0iaJ"
      },
      "source": [
        "for เป็นคำที่ใช้บอก python ว่าเรากำลังเขียน loop โดย for จะวนดึงสมาชิกจาก listaA มาทำ process do_someting\r\n"
      ]
    },
    {
      "cell_type": "code",
      "metadata": {
        "colab": {
          "base_uri": "https://localhost:8080/"
        },
        "id": "dFSd1eMg0gww",
        "outputId": "cef2f588-8cb8-4695-e70b-7071d551892b"
      },
      "source": [
        "for i in [1,2,3] :\r\n",
        "  print (f'this member = {i} after process = {i**2}')"
      ],
      "execution_count": 11,
      "outputs": [
        {
          "output_type": "stream",
          "text": [
            "this member = 1 after process = 1\n",
            "this member = 2 after process = 4\n",
            "this member = 3 after process = 9\n"
          ],
          "name": "stdout"
        }
      ]
    },
    {
      "cell_type": "code",
      "metadata": {
        "colab": {
          "base_uri": "https://localhost:8080/"
        },
        "id": "SvxiRXqK1Zt-",
        "outputId": "5ca8a22a-99fe-4576-ef07-c115fd6a85b6"
      },
      "source": [
        "for i in [1,2,3] :\r\n",
        "  o = i**2\r\n",
        "  print (f'this member = {i} after process = {i**2}')"
      ],
      "execution_count": 12,
      "outputs": [
        {
          "output_type": "stream",
          "text": [
            "this member = 1 after process = 1\n",
            "this member = 2 after process = 4\n",
            "this member = 3 after process = 9\n"
          ],
          "name": "stdout"
        }
      ]
    },
    {
      "cell_type": "code",
      "metadata": {
        "id": "Ehs95Qb41tLS"
      },
      "source": [
        ""
      ],
      "execution_count": null,
      "outputs": []
    }
  ]
}