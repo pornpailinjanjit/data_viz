{
  "nbformat": 4,
  "nbformat_minor": 0,
  "metadata": {
    "colab": {
      "name": "Final",
      "provenance": [],
      "authorship_tag": "ABX9TyOH2FWYr3xYP0ayVnUuSIeK",
      "include_colab_link": true
    },
    "kernelspec": {
      "name": "python3",
      "display_name": "Python 3"
    },
    "language_info": {
      "name": "python"
    }
  },
  "cells": [
    {
      "cell_type": "markdown",
      "metadata": {
        "id": "view-in-github",
        "colab_type": "text"
      },
      "source": [
        "<a href=\"https://colab.research.google.com/github/pornpailinjanjit/data_viz/blob/main/Final.ipynb\" target=\"_parent\"><img src=\"https://colab.research.google.com/assets/colab-badge.svg\" alt=\"Open In Colab\"/></a>"
      ]
    },
    {
      "cell_type": "code",
      "metadata": {
        "id": "diwokKoHjJIL"
      },
      "source": [
        "import pandas as pd"
      ],
      "execution_count": null,
      "outputs": []
    },
    {
      "cell_type": "code",
      "metadata": {
        "colab": {
          "base_uri": "https://localhost:8080/"
        },
        "id": "Ovegr6UmjUcZ",
        "outputId": "b083ba8b-a4f3-4092-b49a-a23ee9945a45"
      },
      "source": [
        "from google.colab import drive\n",
        "drive.mount('/content/drive')"
      ],
      "execution_count": null,
      "outputs": [
        {
          "output_type": "stream",
          "text": [
            "Mounted at /content/drive\n"
          ],
          "name": "stdout"
        }
      ]
    },
    {
      "cell_type": "code",
      "metadata": {
        "id": "P_2h9ce6jXYM"
      },
      "source": [
        "import os\n",
        "\n",
        "path = ('/content/drive/My Drive/dataviz_pandas/covid19cases.csv')"
      ],
      "execution_count": null,
      "outputs": []
    },
    {
      "cell_type": "code",
      "metadata": {
        "colab": {
          "base_uri": "https://localhost:8080/",
          "height": 194
        },
        "id": "fzpCT-B2kUpy",
        "outputId": "7ddf0791-0c87-4320-be26-a1ad702b3529"
      },
      "source": [
        "data1 = pd.read_csv(path)\n",
        "data1.head()"
      ],
      "execution_count": null,
      "outputs": [
        {
          "output_type": "execute_result",
          "data": {
            "text/html": [
              "<div>\n",
              "<style scoped>\n",
              "    .dataframe tbody tr th:only-of-type {\n",
              "        vertical-align: middle;\n",
              "    }\n",
              "\n",
              "    .dataframe tbody tr th {\n",
              "        vertical-align: top;\n",
              "    }\n",
              "\n",
              "    .dataframe thead th {\n",
              "        text-align: right;\n",
              "    }\n",
              "</style>\n",
              "<table border=\"1\" class=\"dataframe\">\n",
              "  <thead>\n",
              "    <tr style=\"text-align: right;\">\n",
              "      <th></th>\n",
              "      <th>No.</th>\n",
              "      <th>announce_date</th>\n",
              "      <th>Notified date</th>\n",
              "      <th>sex</th>\n",
              "      <th>age</th>\n",
              "      <th>Unit</th>\n",
              "      <th>nationality</th>\n",
              "      <th>province_of_isolation</th>\n",
              "      <th>risk</th>\n",
              "      <th>province_of_onset</th>\n",
              "      <th>district_of_onset</th>\n",
              "    </tr>\n",
              "  </thead>\n",
              "  <tbody>\n",
              "    <tr>\n",
              "      <th>0</th>\n",
              "      <td>1</td>\n",
              "      <td>12/1/2020</td>\n",
              "      <td>NaN</td>\n",
              "      <td>หญิง</td>\n",
              "      <td>61.0</td>\n",
              "      <td>ปี</td>\n",
              "      <td>China</td>\n",
              "      <td>กรุงเทพมหานคร</td>\n",
              "      <td>คนต่างชาติเดินทางมาจากต่างประเทศ</td>\n",
              "      <td>กรุงเทพมหานคร</td>\n",
              "      <td>NaN</td>\n",
              "    </tr>\n",
              "    <tr>\n",
              "      <th>1</th>\n",
              "      <td>2</td>\n",
              "      <td>17/1/2020</td>\n",
              "      <td>NaN</td>\n",
              "      <td>หญิง</td>\n",
              "      <td>74.0</td>\n",
              "      <td>ปี</td>\n",
              "      <td>China</td>\n",
              "      <td>กรุงเทพมหานคร</td>\n",
              "      <td>คนต่างชาติเดินทางมาจากต่างประเทศ</td>\n",
              "      <td>กรุงเทพมหานคร</td>\n",
              "      <td>NaN</td>\n",
              "    </tr>\n",
              "    <tr>\n",
              "      <th>2</th>\n",
              "      <td>3</td>\n",
              "      <td>22/1/2020</td>\n",
              "      <td>NaN</td>\n",
              "      <td>หญิง</td>\n",
              "      <td>73.0</td>\n",
              "      <td>ปี</td>\n",
              "      <td>Thailand</td>\n",
              "      <td>นครปฐม</td>\n",
              "      <td>คนต่างชาติเดินทางมาจากต่างประเทศ</td>\n",
              "      <td>นครปฐม</td>\n",
              "      <td>เมือง</td>\n",
              "    </tr>\n",
              "    <tr>\n",
              "      <th>3</th>\n",
              "      <td>4</td>\n",
              "      <td>22/1/2020</td>\n",
              "      <td>NaN</td>\n",
              "      <td>ชาย</td>\n",
              "      <td>68.0</td>\n",
              "      <td>ปี</td>\n",
              "      <td>China</td>\n",
              "      <td>กรุงเทพมหานคร</td>\n",
              "      <td>คนต่างชาติเดินทางมาจากต่างประเทศ</td>\n",
              "      <td>กรุงเทพมหานคร</td>\n",
              "      <td>NaN</td>\n",
              "    </tr>\n",
              "    <tr>\n",
              "      <th>4</th>\n",
              "      <td>5</td>\n",
              "      <td>24/1/2020</td>\n",
              "      <td>NaN</td>\n",
              "      <td>หญิง</td>\n",
              "      <td>66.0</td>\n",
              "      <td>ปี</td>\n",
              "      <td>China</td>\n",
              "      <td>นนทบุรี</td>\n",
              "      <td>คนต่างชาติเดินทางมาจากต่างประเทศ</td>\n",
              "      <td>กรุงเทพมหานคร</td>\n",
              "      <td>NaN</td>\n",
              "    </tr>\n",
              "  </tbody>\n",
              "</table>\n",
              "</div>"
            ],
            "text/plain": [
              "   No. announce_date  ... province_of_onset district_of_onset\n",
              "0    1     12/1/2020  ...     กรุงเทพมหานคร               NaN\n",
              "1    2     17/1/2020  ...     กรุงเทพมหานคร               NaN\n",
              "2    3     22/1/2020  ...            นครปฐม             เมือง\n",
              "3    4     22/1/2020  ...     กรุงเทพมหานคร               NaN\n",
              "4    5     24/1/2020  ...     กรุงเทพมหานคร               NaN\n",
              "\n",
              "[5 rows x 11 columns]"
            ]
          },
          "metadata": {
            "tags": []
          },
          "execution_count": 4
        }
      ]
    },
    {
      "cell_type": "code",
      "metadata": {
        "colab": {
          "base_uri": "https://localhost:8080/",
          "height": 295
        },
        "id": "-OmnG9Gwkp6G",
        "outputId": "8a4f63d3-a667-460c-e981-7d9650071ae3"
      },
      "source": [
        "data2 = pd.read_excel('/content/drive/My Drive/dataviz_pandas/passenger-covid19 (1).xlsx')\n",
        "data2.head()"
      ],
      "execution_count": null,
      "outputs": [
        {
          "output_type": "execute_result",
          "data": {
            "text/html": [
              "<div>\n",
              "<style scoped>\n",
              "    .dataframe tbody tr th:only-of-type {\n",
              "        vertical-align: middle;\n",
              "    }\n",
              "\n",
              "    .dataframe tbody tr th {\n",
              "        vertical-align: top;\n",
              "    }\n",
              "\n",
              "    .dataframe thead th {\n",
              "        text-align: right;\n",
              "    }\n",
              "</style>\n",
              "<table border=\"1\" class=\"dataframe\">\n",
              "  <thead>\n",
              "    <tr style=\"text-align: right;\">\n",
              "      <th></th>\n",
              "      <th>ขนคน/ขนสินค้า</th>\n",
              "      <th>โหมดการเดินทาง</th>\n",
              "      <th>รูปแบบการเดินทาง</th>\n",
              "      <th>สาธารณะ/ส่วนบุคคล</th>\n",
              "      <th>หน่วยงาน</th>\n",
              "      <th>ยานพาหนะ/ท่า</th>\n",
              "      <th>ม.ค. 2562</th>\n",
              "      <th>ก.พ. 2562</th>\n",
              "      <th>มี.ค. 2562</th>\n",
              "      <th>เม.ย. 2562</th>\n",
              "      <th>พ.ค. 2562</th>\n",
              "      <th>มิ.ย. 2562</th>\n",
              "      <th>ก.ค. 2562</th>\n",
              "      <th>ส.ค. 2562</th>\n",
              "      <th>ก.ย. 2562</th>\n",
              "      <th>ต.ค. 2562</th>\n",
              "      <th>พ.ย. 2562</th>\n",
              "      <th>ธ.ค. 2562</th>\n",
              "    </tr>\n",
              "  </thead>\n",
              "  <tbody>\n",
              "    <tr>\n",
              "      <th>0</th>\n",
              "      <td>ขนคน (คน)</td>\n",
              "      <td>ทางบก</td>\n",
              "      <td>การเดินทางระหว่างจังหวัด</td>\n",
              "      <td>สาธารณะ</td>\n",
              "      <td>บขส.</td>\n",
              "      <td>รถ ขบส. และ รถร่วม</td>\n",
              "      <td>5236331</td>\n",
              "      <td>4628878.0</td>\n",
              "      <td>5234387.0</td>\n",
              "      <td>5137450.0</td>\n",
              "      <td>4885221.0</td>\n",
              "      <td>4572261.0</td>\n",
              "      <td>4772689.0</td>\n",
              "      <td>4701554.0</td>\n",
              "      <td>4482707.0</td>\n",
              "      <td>4774815.0</td>\n",
              "      <td>4559610.0</td>\n",
              "      <td>4840673.0</td>\n",
              "    </tr>\n",
              "    <tr>\n",
              "      <th>1</th>\n",
              "      <td>ขนคน (คน)</td>\n",
              "      <td>ทางบก</td>\n",
              "      <td>การเดินทางระหว่างจังหวัด</td>\n",
              "      <td>สาธารณะ</td>\n",
              "      <td>ขบ.</td>\n",
              "      <td>รถ Taxi</td>\n",
              "      <td>NaN</td>\n",
              "      <td>NaN</td>\n",
              "      <td>NaN</td>\n",
              "      <td>NaN</td>\n",
              "      <td>NaN</td>\n",
              "      <td>NaN</td>\n",
              "      <td>NaN</td>\n",
              "      <td>NaN</td>\n",
              "      <td>NaN</td>\n",
              "      <td>NaN</td>\n",
              "      <td>NaN</td>\n",
              "      <td>NaN</td>\n",
              "    </tr>\n",
              "    <tr>\n",
              "      <th>2</th>\n",
              "      <td>ขนคน (คน)</td>\n",
              "      <td>ทางบก</td>\n",
              "      <td>การเดินทางระหว่างจังหวัด</td>\n",
              "      <td>สาธารณะ</td>\n",
              "      <td>ขบ.</td>\n",
              "      <td>รถหมวด 3</td>\n",
              "      <td>2550864</td>\n",
              "      <td>2334128.0</td>\n",
              "      <td>2599144.0</td>\n",
              "      <td>2602024.0</td>\n",
              "      <td>2543424.0</td>\n",
              "      <td>2435944.0</td>\n",
              "      <td>2526104.0</td>\n",
              "      <td>2492728.0</td>\n",
              "      <td>2420736.0</td>\n",
              "      <td>2499408.0</td>\n",
              "      <td>2450888.0</td>\n",
              "      <td>2516032.0</td>\n",
              "    </tr>\n",
              "    <tr>\n",
              "      <th>3</th>\n",
              "      <td>ขนคน (คัน)</td>\n",
              "      <td>ทางบก</td>\n",
              "      <td>การเดินทางระหว่างจังหวัด</td>\n",
              "      <td>ส่วนบุคคล</td>\n",
              "      <td>ทล.</td>\n",
              "      <td>รถยนต์ (10 จุดสำรวจ)</td>\n",
              "      <td>28907234</td>\n",
              "      <td>26699682.0</td>\n",
              "      <td>30210655.0</td>\n",
              "      <td>28542444.0</td>\n",
              "      <td>29407838.0</td>\n",
              "      <td>27789633.0</td>\n",
              "      <td>28811411.0</td>\n",
              "      <td>29552867.0</td>\n",
              "      <td>27950945.0</td>\n",
              "      <td>29335664.0</td>\n",
              "      <td>28325020.0</td>\n",
              "      <td>29615013.0</td>\n",
              "    </tr>\n",
              "    <tr>\n",
              "      <th>4</th>\n",
              "      <td>ขนคน (คัน)</td>\n",
              "      <td>ทางบก</td>\n",
              "      <td>การเดินทางระหว่างจังหวัด</td>\n",
              "      <td>ส่วนบุคคล</td>\n",
              "      <td>กทพ.</td>\n",
              "      <td>รถยนต์ (ทางด่วน)</td>\n",
              "      <td>56404661</td>\n",
              "      <td>51536713.0</td>\n",
              "      <td>57376504.0</td>\n",
              "      <td>46838468.0</td>\n",
              "      <td>45769555.0</td>\n",
              "      <td>47344042.0</td>\n",
              "      <td>46027953.0</td>\n",
              "      <td>47566521.0</td>\n",
              "      <td>44765838.0</td>\n",
              "      <td>47236151.0</td>\n",
              "      <td>46996660.0</td>\n",
              "      <td>47294111.0</td>\n",
              "    </tr>\n",
              "  </tbody>\n",
              "</table>\n",
              "</div>"
            ],
            "text/plain": [
              "  ขนคน/ขนสินค้า โหมดการเดินทาง  ...   พ.ย. 2562   ธ.ค. 2562\n",
              "0     ขนคน (คน)          ทางบก  ...   4559610.0   4840673.0\n",
              "1     ขนคน (คน)          ทางบก  ...         NaN         NaN\n",
              "2     ขนคน (คน)          ทางบก  ...   2450888.0   2516032.0\n",
              "3    ขนคน (คัน)          ทางบก  ...  28325020.0  29615013.0\n",
              "4    ขนคน (คัน)          ทางบก  ...  46996660.0  47294111.0\n",
              "\n",
              "[5 rows x 18 columns]"
            ]
          },
          "metadata": {
            "tags": []
          },
          "execution_count": 5
        }
      ]
    },
    {
      "cell_type": "markdown",
      "metadata": {
        "id": "1hbb93oUio_d"
      },
      "source": [
        "หนูลองทำแล้วนะคะไม่ใช่ว่าไม่ทำแต่หนูทำไม่ได้เลยไม่มีส่งค่ะ\n",
        "ขอโทษด้วยนะคะที่เรียนวิชานี้แล้วทำข้อสอบไม่ได้ หนูเข้าเรียนทุกคาบนะคะ แต่หนูไม่เข้าใจเพราะไม่มีพื้นฐานและเหมือนกับว่าหนูมันไม่ใช่ทางที่หนูทำได้\n",
        "ตอนที่ฟังอาจารย์สอนก็เข้าใจสิ่งที่อาจารย์สอนนะคะ พอประยุกต์เองก็คือไม่ได้เลย แต่ที่หนูเลือกวิชานี้เพราะหนูอยากลองเรียนสิ่งใหม่ในสาขาวิชา \n",
        "สอบมิดเทอมหนูดึงข้อมูลมาไม่ได้ ตอนนี้หนูดึงข้อมูลเข้าได้แล้วหนูก็ภูมิใจค่ะการที่ได้เรียนในวิชานี้ก็ถือเป็นเรื่องที่แปลกใหม่สำหรับหนูหนูอาจจะได้นิดหน่อยแต่ไม่ได้ทั้งหมดในวิชาที่เรียนขอบคุณอาจารย์นะคะที่เปิดสอนรายวิชานี้"
      ]
    }
  ]
}