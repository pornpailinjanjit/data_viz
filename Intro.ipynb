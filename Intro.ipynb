{
  "nbformat": 4,
  "nbformat_minor": 0,
  "metadata": {
    "colab": {
      "name": "Intro.ipynb",
      "provenance": [],
      "authorship_tag": "ABX9TyOjjLP5pokUqcp+il5UyDcG",
      "include_colab_link": true
    },
    "kernelspec": {
      "name": "python3",
      "display_name": "Python 3"
    }
  },
  "cells": [
    {
      "cell_type": "markdown",
      "metadata": {
        "id": "view-in-github",
        "colab_type": "text"
      },
      "source": [
        "<a href=\"https://colab.research.google.com/github/pornpailinjanjit/data_viz/blob/main/Intro.ipynb\" target=\"_parent\"><img src=\"https://colab.research.google.com/assets/colab-badge.svg\" alt=\"Open In Colab\"/></a>"
      ]
    },
    {
      "cell_type": "markdown",
      "metadata": {
        "id": "vYOdy2ctMxkQ"
      },
      "source": [
        "พรไพลิน จันทร์จิตร 613020193-8\r\n"
      ]
    },
    {
      "cell_type": "markdown",
      "metadata": {
        "id": "y63eguAkNSLu"
      },
      "source": [
        "ภาษา Markdown\r\n",
        "# Markdown\r\n",
        "## Markdown\r\n",
        "\r\n",
        "~strike~\r\n",
        "\r\n"
      ]
    },
    {
      "cell_type": "code",
      "metadata": {
        "colab": {
          "base_uri": "https://localhost:8080/"
        },
        "id": "7IOmDuhbM3wP",
        "outputId": "634c7140-a34c-449f-e242-a20e68b63c78"
      },
      "source": [
        "print('พรไพลิน')"
      ],
      "execution_count": null,
      "outputs": [
        {
          "output_type": "stream",
          "text": [
            "พรไพลิน\n"
          ],
          "name": "stdout"
        }
      ]
    },
    {
      "cell_type": "code",
      "metadata": {
        "id": "EmByIWTiO4Ec"
      },
      "source": [
        ""
      ],
      "execution_count": null,
      "outputs": []
    }
  ]
}