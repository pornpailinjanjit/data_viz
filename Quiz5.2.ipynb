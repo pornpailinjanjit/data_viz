{
  "nbformat": 4,
  "nbformat_minor": 0,
  "metadata": {
    "colab": {
      "name": "Untitled8.ipynb",
      "provenance": [],
      "authorship_tag": "ABX9TyO+QfaqjaTSBOJeMcN4Q0MM",
      "include_colab_link": true
    },
    "kernelspec": {
      "name": "python3",
      "display_name": "Python 3"
    },
    "language_info": {
      "name": "python"
    }
  },
  "cells": [
    {
      "cell_type": "markdown",
      "metadata": {
        "id": "view-in-github",
        "colab_type": "text"
      },
      "source": [
        "<a href=\"https://colab.research.google.com/github/pornpailinjanjit/data_viz/blob/main/Quiz5.2.ipynb\" target=\"_parent\"><img src=\"https://colab.research.google.com/assets/colab-badge.svg\" alt=\"Open In Colab\"/></a>"
      ]
    },
    {
      "cell_type": "code",
      "metadata": {
        "id": "iiSAxlbVMOKh"
      },
      "source": [
        ""
      ],
      "execution_count": null,
      "outputs": []
    },
    {
      "cell_type": "markdown",
      "metadata": {
        "id": "SOnZH2fmB3bR"
      },
      "source": [
        "เปรียบเทียบจำนวน request ของช่วงเวลา 11.00-11.59 กับช่วงเวลา 23.00-23.59 \\\n",
        "เปรียบเทียบจำนวน request ของวันจันทร์-พฤหัสบดี กับ ศุกร์ขอาทิตย์"
      ]
    },
    {
      "cell_type": "code",
      "metadata": {
        "id": "XX8KmQ64GVos"
      },
      "source": [
        "import pandas as pd"
      ],
      "execution_count": 4,
      "outputs": []
    },
    {
      "cell_type": "code",
      "metadata": {
        "colab": {
          "base_uri": "https://localhost:8080/",
          "height": 640
        },
        "id": "XFtTOuSZHN0-",
        "outputId": "0fcd6deb-8f37-462f-fb6c-d68e8711cb6d"
      },
      "source": [
        "data = pd.read_csv('search_request.csv', encoding='iso-8859-11')\n",
        "data"
      ],
      "execution_count": 5,
      "outputs": [
        {
          "output_type": "stream",
          "text": [
            "/usr/local/lib/python3.7/dist-packages/IPython/core/interactiveshell.py:2718: DtypeWarning: Columns (7,8,9) have mixed types.Specify dtype option on import or set low_memory=False.\n",
            "  interactivity=interactivity, compiler=compiler, result=result)\n"
          ],
          "name": "stderr"
        },
        {
          "output_type": "execute_result",
          "data": {
            "text/html": [
              "<div>\n",
              "<style scoped>\n",
              "    .dataframe tbody tr th:only-of-type {\n",
              "        vertical-align: middle;\n",
              "    }\n",
              "\n",
              "    .dataframe tbody tr th {\n",
              "        vertical-align: top;\n",
              "    }\n",
              "\n",
              "    .dataframe thead th {\n",
              "        text-align: right;\n",
              "    }\n",
              "</style>\n",
              "<table border=\"1\" class=\"dataframe\">\n",
              "  <thead>\n",
              "    <tr style=\"text-align: right;\">\n",
              "      <th></th>\n",
              "      <th>Unnamed: 0</th>\n",
              "      <th>search_id</th>\n",
              "      <th>search_timestamp</th>\n",
              "      <th>user_agent</th>\n",
              "      <th>q</th>\n",
              "      <th>user_id</th>\n",
              "      <th>session_id</th>\n",
              "      <th>number_of_result</th>\n",
              "      <th>lat</th>\n",
              "      <th>long</th>\n",
              "    </tr>\n",
              "  </thead>\n",
              "  <tbody>\n",
              "    <tr>\n",
              "      <th>0</th>\n",
              "      <td>0</td>\n",
              "      <td>683de889-f923-494e-9d46-44a3d67b7259</td>\n",
              "      <td>2018-06-14 12:34:35.449</td>\n",
              "      <td>Wongnai/8.17.3 rv:8.17.3.3921 (iPhone5,4; iOS;...</td>\n",
              "      <td>NaN</td>\n",
              "      <td>NaN</td>\n",
              "      <td>5lqjjikta19d296mo7g2h1k86p</td>\n",
              "      <td>18</td>\n",
              "      <td>12.6347</td>\n",
              "      <td>101.463</td>\n",
              "    </tr>\n",
              "    <tr>\n",
              "      <th>1</th>\n",
              "      <td>1</td>\n",
              "      <td>4a811230-ffa4-4631-a4c8-5d0394137d02</td>\n",
              "      <td>2018-06-14 17:11:19.469</td>\n",
              "      <td>Mozilla/5.0 (iPhone; CPU iPhone OS 11_4 like M...</td>\n",
              "      <td>NaN</td>\n",
              "      <td>NaN</td>\n",
              "      <td>1r3iotmp0o9slom91stdt9vivc</td>\n",
              "      <td>10</td>\n",
              "      <td>14.8009</td>\n",
              "      <td>102.534</td>\n",
              "    </tr>\n",
              "    <tr>\n",
              "      <th>2</th>\n",
              "      <td>2</td>\n",
              "      <td>7ad6ee8e-438e-4bea-9183-74dcef9e358e</td>\n",
              "      <td>2018-06-14 13:22:31.736</td>\n",
              "      <td>Mozilla/5.0 (Linux; Android 7.0; SAMSUNG SM-J7...</td>\n",
              "      <td>NaN</td>\n",
              "      <td>NaN</td>\n",
              "      <td>5ci1eo4v5u9dha4ppgu94ue7p6</td>\n",
              "      <td>8</td>\n",
              "      <td>13.7383</td>\n",
              "      <td>100.371</td>\n",
              "    </tr>\n",
              "    <tr>\n",
              "      <th>3</th>\n",
              "      <td>3</td>\n",
              "      <td>0c17a5f5-fa89-40f4-ae94-a8659268f827</td>\n",
              "      <td>2018-06-02 12:37:27.331</td>\n",
              "      <td>Mozilla/5.0 (Linux; Android 7.1.1; SM-N950F Bu...</td>\n",
              "      <td>NaN</td>\n",
              "      <td>NaN</td>\n",
              "      <td>39n535qgje9kpojp0grhfj8umk</td>\n",
              "      <td>12</td>\n",
              "      <td>12.6669</td>\n",
              "      <td>101.861</td>\n",
              "    </tr>\n",
              "    <tr>\n",
              "      <th>4</th>\n",
              "      <td>4</td>\n",
              "      <td>6870dc3a-5602-44fc-80ed-df0a7783df9d</td>\n",
              "      <td>2018-06-02 11:19:22.404</td>\n",
              "      <td>Mozilla/5.0 (iPhone; CPU iPhone OS 11_3_1 like...</td>\n",
              "      <td>NaN</td>\n",
              "      <td>NaN</td>\n",
              "      <td>5pa03h6lj691to60erver1l8o4</td>\n",
              "      <td>14</td>\n",
              "      <td>12.2372</td>\n",
              "      <td>99.88</td>\n",
              "    </tr>\n",
              "    <tr>\n",
              "      <th>...</th>\n",
              "      <td>...</td>\n",
              "      <td>...</td>\n",
              "      <td>...</td>\n",
              "      <td>...</td>\n",
              "      <td>...</td>\n",
              "      <td>...</td>\n",
              "      <td>...</td>\n",
              "      <td>...</td>\n",
              "      <td>...</td>\n",
              "      <td>...</td>\n",
              "    </tr>\n",
              "    <tr>\n",
              "      <th>6679256</th>\n",
              "      <td>6679698</td>\n",
              "      <td>66173bc5-cfa0-47b8-9444-26a3c3c5c41d</td>\n",
              "      <td>2018-06-03 16:21:08.028</td>\n",
              "      <td>okhttp/3.9.0;WongnaiAndroid 8.16.5.1;vivo;vivo...</td>\n",
              "      <td>NaN</td>\n",
              "      <td>51926.0</td>\n",
              "      <td>35ia4to6r69vsqn2dlkfgp0u1f</td>\n",
              "      <td>22</td>\n",
              "      <td>18.2913</td>\n",
              "      <td>99.4031</td>\n",
              "    </tr>\n",
              "    <tr>\n",
              "      <th>6679257</th>\n",
              "      <td>6679699</td>\n",
              "      <td>0da8c9d4-9f14-443e-a33c-c51f66719875</td>\n",
              "      <td>2018-06-03 18:34:40.165</td>\n",
              "      <td>okhttp/3.9.0;WongnaiAndroid 8.16.5.1;vivo;vivo...</td>\n",
              "      <td>NaN</td>\n",
              "      <td>NaN</td>\n",
              "      <td>3bpq3v9umv8njr2qnr6d4ufmbk</td>\n",
              "      <td>22</td>\n",
              "      <td>18.818</td>\n",
              "      <td>98.9874</td>\n",
              "    </tr>\n",
              "    <tr>\n",
              "      <th>6679258</th>\n",
              "      <td>6679700</td>\n",
              "      <td>03e74930-0218-4fef-b801-213ee7d0e1c9</td>\n",
              "      <td>2018-06-03 18:38:34.367</td>\n",
              "      <td>okhttp/3.9.0;WongnaiAndroid 8.16.5.1;vivo;vivo...</td>\n",
              "      <td>NaN</td>\n",
              "      <td>NaN</td>\n",
              "      <td>3bpq3v9umv8njr2qnr6d4ufmbk</td>\n",
              "      <td>22</td>\n",
              "      <td>18.818</td>\n",
              "      <td>98.9874</td>\n",
              "    </tr>\n",
              "    <tr>\n",
              "      <th>6679259</th>\n",
              "      <td>6679701</td>\n",
              "      <td>71929b36-19da-4adc-b2dd-659124b33430</td>\n",
              "      <td>2018-06-03 18:40:31.392</td>\n",
              "      <td>okhttp/3.9.0;WongnaiAndroid 8.16.5.1;vivo;vivo...</td>\n",
              "      <td>NaN</td>\n",
              "      <td>NaN</td>\n",
              "      <td>3bpq3v9umv8njr2qnr6d4ufmbk</td>\n",
              "      <td>22</td>\n",
              "      <td>18.818</td>\n",
              "      <td>98.9874</td>\n",
              "    </tr>\n",
              "    <tr>\n",
              "      <th>6679260</th>\n",
              "      <td>6679702</td>\n",
              "      <td>837caf37-bfd6-4721-8755-4ebcb4bc6698</td>\n",
              "      <td>2018-06-03 18:35:33.012</td>\n",
              "      <td>okhttp/3.9.0;WongnaiAndroid 8.16.5.1;vivo;vivo 1</td>\n",
              "      <td>NaN</td>\n",
              "      <td>NaN</td>\n",
              "      <td>NaN</td>\n",
              "      <td>NaN</td>\n",
              "      <td>NaN</td>\n",
              "      <td>NaN</td>\n",
              "    </tr>\n",
              "  </tbody>\n",
              "</table>\n",
              "<p>6679261 rows × 10 columns</p>\n",
              "</div>"
            ],
            "text/plain": [
              "         Unnamed: 0                             search_id  ...      lat     long\n",
              "0                 0  683de889-f923-494e-9d46-44a3d67b7259  ...  12.6347  101.463\n",
              "1                 1  4a811230-ffa4-4631-a4c8-5d0394137d02  ...  14.8009  102.534\n",
              "2                 2  7ad6ee8e-438e-4bea-9183-74dcef9e358e  ...  13.7383  100.371\n",
              "3                 3  0c17a5f5-fa89-40f4-ae94-a8659268f827  ...  12.6669  101.861\n",
              "4                 4  6870dc3a-5602-44fc-80ed-df0a7783df9d  ...  12.2372    99.88\n",
              "...             ...                                   ...  ...      ...      ...\n",
              "6679256     6679698  66173bc5-cfa0-47b8-9444-26a3c3c5c41d  ...  18.2913  99.4031\n",
              "6679257     6679699  0da8c9d4-9f14-443e-a33c-c51f66719875  ...   18.818  98.9874\n",
              "6679258     6679700  03e74930-0218-4fef-b801-213ee7d0e1c9  ...   18.818  98.9874\n",
              "6679259     6679701  71929b36-19da-4adc-b2dd-659124b33430  ...   18.818  98.9874\n",
              "6679260     6679702  837caf37-bfd6-4721-8755-4ebcb4bc6698  ...      NaN      NaN\n",
              "\n",
              "[6679261 rows x 10 columns]"
            ]
          },
          "metadata": {
            "tags": []
          },
          "execution_count": 5
        }
      ]
    },
    {
      "cell_type": "code",
      "metadata": {
        "colab": {
          "base_uri": "https://localhost:8080/"
        },
        "id": "C2HnsUR1VMHJ",
        "outputId": "0760b466-752c-4523-bfc3-485127e651ca"
      },
      "source": [
        "data.head"
      ],
      "execution_count": 6,
      "outputs": [
        {
          "output_type": "execute_result",
          "data": {
            "text/plain": [
              "<bound method NDFrame.head of          Unnamed: 0                             search_id  ...      lat     long\n",
              "0                 0  683de889-f923-494e-9d46-44a3d67b7259  ...  12.6347  101.463\n",
              "1                 1  4a811230-ffa4-4631-a4c8-5d0394137d02  ...  14.8009  102.534\n",
              "2                 2  7ad6ee8e-438e-4bea-9183-74dcef9e358e  ...  13.7383  100.371\n",
              "3                 3  0c17a5f5-fa89-40f4-ae94-a8659268f827  ...  12.6669  101.861\n",
              "4                 4  6870dc3a-5602-44fc-80ed-df0a7783df9d  ...  12.2372    99.88\n",
              "...             ...                                   ...  ...      ...      ...\n",
              "6679256     6679698  66173bc5-cfa0-47b8-9444-26a3c3c5c41d  ...  18.2913  99.4031\n",
              "6679257     6679699  0da8c9d4-9f14-443e-a33c-c51f66719875  ...   18.818  98.9874\n",
              "6679258     6679700  03e74930-0218-4fef-b801-213ee7d0e1c9  ...   18.818  98.9874\n",
              "6679259     6679701  71929b36-19da-4adc-b2dd-659124b33430  ...   18.818  98.9874\n",
              "6679260     6679702  837caf37-bfd6-4721-8755-4ebcb4bc6698  ...      NaN      NaN\n",
              "\n",
              "[6679261 rows x 10 columns]>"
            ]
          },
          "metadata": {
            "tags": []
          },
          "execution_count": 6
        }
      ]
    },
    {
      "cell_type": "code",
      "metadata": {
        "id": "40DP9Od0BVoN"
      },
      "source": [
        "from datetime import datetime\n"
      ],
      "execution_count": 1,
      "outputs": []
    },
    {
      "cell_type": "code",
      "metadata": {
        "id": "X5kZtf9wBicX"
      },
      "source": [
        "data.columns = [i.strftime('%Y-%m-%d') if isinstance(i, datetime) else i for i in data.columns]\n",
        "data"
      ],
      "execution_count": null,
      "outputs": []
    },
    {
      "cell_type": "code",
      "metadata": {
        "id": "fRorUsgABvYp"
      },
      "source": [
        "from datetime import date,datetime"
      ],
      "execution_count": null,
      "outputs": []
    },
    {
      "cell_type": "code",
      "metadata": {
        "id": "gln5QV1cB1Aw"
      },
      "source": [
        "datetime(day=25,month=3,year=2020)\n"
      ],
      "execution_count": null,
      "outputs": []
    }
  ]
}