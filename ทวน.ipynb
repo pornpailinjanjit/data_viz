{
  "nbformat": 4,
  "nbformat_minor": 0,
  "metadata": {
    "colab": {
      "name": "ทวน",
      "provenance": [],
      "authorship_tag": "ABX9TyPjBHqom7DOauLtk/TwyyC6",
      "include_colab_link": true
    },
    "kernelspec": {
      "name": "python3",
      "display_name": "Python 3"
    }
  },
  "cells": [
    {
      "cell_type": "markdown",
      "metadata": {
        "id": "view-in-github",
        "colab_type": "text"
      },
      "source": [
        "<a href=\"https://colab.research.google.com/github/pornpailinjanjit/data_viz/blob/main/%E0%B8%97%E0%B8%A7%E0%B8%99.ipynb\" target=\"_parent\"><img src=\"https://colab.research.google.com/assets/colab-badge.svg\" alt=\"Open In Colab\"/></a>"
      ]
    },
    {
      "cell_type": "markdown",
      "metadata": {
        "id": "S7v24M7jfY1S"
      },
      "source": [
        "python101"
      ]
    },
    {
      "cell_type": "code",
      "metadata": {
        "colab": {
          "base_uri": "https://localhost:8080/"
        },
        "id": "rqofqDVUdypy",
        "outputId": "d0cd0089-440d-44ff-e3d5-85e0af701c89"
      },
      "source": [
        "time = '12:30:15'\r\n",
        "t1 = time.split(':')\r\n",
        "s = t1[0]\r\n",
        "b = t1[1]\r\n",
        "c = t1[2]\r\n",
        "total_s = int(s)*60*60+int(b)*60+int(c)\r\n",
        "tt_s = f'{time} = {total_s} s'\r\n",
        "print(tt_s)"
      ],
      "execution_count": null,
      "outputs": [
        {
          "output_type": "stream",
          "text": [
            "12:30:15 = 45015 s\n"
          ],
          "name": "stdout"
        }
      ]
    },
    {
      "cell_type": "markdown",
      "metadata": {
        "id": "2juuN1gYnUEf"
      },
      "source": [
        "function loop condition"
      ]
    },
    {
      "cell_type": "code",
      "metadata": {
        "id": "himopZ0qflNl"
      },
      "source": [
        "name = 'พรไพลิน'\r\n",
        "surname = 'จันทร์จิตร'\r\n",
        "ID = '613020193-8'\r\n",
        "b= f'ชื่อ {name} นามสกุล {surname} รหัส {ID}'\r\n",
        "print(b)"
      ],
      "execution_count": null,
      "outputs": []
    },
    {
      "cell_type": "markdown",
      "metadata": {
        "id": "LDuF8ZqdnhXC"
      },
      "source": [
        "```python \r\n",
        "     def funtion_name(_Input_) :\r\n",
        "       do_something with _Input_ to get _Output_\r\n",
        "       return _output\r\n",
        "```\r\n",
        "\r\n",
        "backtick (`)\r\n",
        "tilde (~)\r\n",
        "curly bracket ({})\r\n",
        "square bracket ([])"
      ]
    },
    {
      "cell_type": "code",
      "metadata": {
        "id": "enX44e3TnjxD"
      },
      "source": [
        "list_timez = ['12:30:15', '13:41:07', '12:53:15', '00:59:25', '11:11:11', '16:06:09']"
      ],
      "execution_count": null,
      "outputs": []
    },
    {
      "cell_type": "code",
      "metadata": {
        "colab": {
          "base_uri": "https://localhost:8080/"
        },
        "id": "dHyiRCZB3hne",
        "outputId": "00d0c959-2992-4c22-8901-b45ec1006bbf"
      },
      "source": [
        "for z in list_timez :\r\n",
        "  t1 = z.split(':')\r\n",
        "  s = t1[0]\r\n",
        "  b = t1[1]\r\n",
        "  c = t1[2]\r\n",
        "  total_s = int(s)*60*60+int(b)*60+int(c)\r\n",
        "  t_s = f'{z} = {total_s} s'\r\n",
        "  print(t_s)"
      ],
      "execution_count": null,
      "outputs": [
        {
          "output_type": "stream",
          "text": [
            "12:30:15 = 45015 s\n",
            "13:41:07 = 49267 s\n",
            "12:53:15 = 46395 s\n",
            "00:59:25 = 3565 s\n",
            "11:11:11 = 40271 s\n",
            "16:06:09 = 57969 s\n"
          ],
          "name": "stdout"
        }
      ]
    },
    {
      "cell_type": "code",
      "metadata": {
        "colab": {
          "base_uri": "https://localhost:8080/"
        },
        "id": "fgxq2b-T-BD5",
        "outputId": "dd2153b6-4c05-4f29-c972-cc6a1f0d889f"
      },
      "source": [
        "for i in [1,2,3] :\r\n",
        "  print (f'this member = {i} after process = {i**2}')"
      ],
      "execution_count": null,
      "outputs": [
        {
          "output_type": "stream",
          "text": [
            "this member = 1 after process = 1\n",
            "this member = 2 after process = 4\n",
            "this member = 3 after process = 9\n"
          ],
          "name": "stdout"
        }
      ]
    },
    {
      "cell_type": "code",
      "metadata": {
        "id": "5r2SLamsMpV4"
      },
      "source": [
        "def grade (score) :\r\n",
        "    if score < 0:\r\n",
        "      print (f'คะแนน = {score} กรอก error')\r\n",
        "    elif score < 50 :\r\n",
        "      print (f'คะแนน = {score} ได้เกรด F')\r\n",
        "    elif score< 55:\r\n",
        "      print (f'คะแนน = {score} ได้เกรด D')\r\n",
        "    elif score< 60:\r\n",
        "      print (f'คะแนน = {score} ได้เกรด D+')\r\n",
        "    elif score< 65:\r\n",
        "      print (f'คะแนน = {score} ได้เกรด C')\r\n",
        "    elif score< 70:\r\n",
        "      print (f'คะแนน = {score} ได้เกรด C+')\r\n",
        "    elif score< 75:\r\n",
        "      print (f'คะแนน = {score} ได้เกรด B')\r\n",
        "    elif score< 80:  \r\n",
        "      print (f'คะแนน = {score} ได้เกรด B+')\r\n",
        "    elif score< 100:  \r\n",
        "      print (f'คะแนน = {score} ได้เกรด A')\r\n",
        "    elif score > 100:\r\n",
        "      print (f'คะแนน {score} = error')"
      ],
      "execution_count": null,
      "outputs": []
    },
    {
      "cell_type": "markdown",
      "metadata": {
        "id": "RwHehqQsKfq8"
      },
      "source": [
        "pandas101"
      ]
    },
    {
      "cell_type": "code",
      "metadata": {
        "id": "Qcqmr9qzKep4"
      },
      "source": [
        "def mean_age(sex,province_of_onset = 'all'):\r\n",
        "  for i in range(len(data_covid)):\r\n",
        "    if province_of_onset == 'all':\r\n",
        "      if sex == data_covid['sex'][i]:\r\n",
        "        sum_age =+ data_covid['age'][i]\r\n",
        "        n=+1\r\n",
        "    else:\r\n",
        "      if sex == data_covid['sex'][i]:\r\n",
        "        if province_of_onset == data_covid['province_of_onset'][i]:\r\n",
        "          sum_age =+ data_covid['age'][i]\r\n",
        "          n=+1\r\n",
        "  return sum_age/n"
      ],
      "execution_count": null,
      "outputs": []
    },
    {
      "cell_type": "code",
      "metadata": {
        "id": "bf_tIo_2N_F3"
      },
      "source": [
        "def SmartDict(nums,texts):\r\n",
        "    Output = {}\r\n",
        "    for index in range(len(nums)):\r\n",
        "        if (nums[ind] % 2) != 0:\r\n",
        "            Output[nums[ind]] = texts[ind]\r\n",
        "        else:\r\n",
        "            Output[texts[ind]] = nums[ind]\r\n",
        "    return Output"
      ],
      "execution_count": null,
      "outputs": []
    },
    {
      "cell_type": "markdown",
      "metadata": {
        "id": "bNjeihMfPAw9"
      },
      "source": [
        "2>จากไฟล์ wuhan_GNome.txt จงเขียนโปรแกรมเพื่ออบคำถามต่อไปนี้\r\n",
        "- กรดอะมิโนใด (A, T, G, C)มีประมาณมากที่สุดและมีเท่าไร\r\n",
        "- จงหา sequence ที่มีขนาด 3 และ 4 ที่เกิดขึ้นซ้ำมากที่สุด"
      ]
    },
    {
      "cell_type": "code",
      "metadata": {
        "id": "hg1zjiGCPBvD"
      },
      "source": [
        "import pandas as pd"
      ],
      "execution_count": null,
      "outputs": []
    },
    {
      "cell_type": "code",
      "metadata": {
        "id": "PSTEqpjVPDo_"
      },
      "source": [
        "DNAseq = pd.read_csv('C:\\\\Users\\\\ASUS\\\\Desktop\\\\pythonnew\\\\Wuhan_nCoV_GNome.txt',header = None)\r\n",
        "DNAseq.head()"
      ],
      "execution_count": null,
      "outputs": []
    },
    {
      "cell_type": "code",
      "metadata": {
        "id": "f05rxsaVPGML"
      },
      "source": [
        "def countChar(seq, character):\r\n",
        "    charcount = 0\r\n",
        "    for char in seq:\r\n",
        "        if char == character:\r\n",
        "            charcount = charcount + 1\r\n",
        "    return charcount"
      ],
      "execution_count": null,
      "outputs": []
    },
    {
      "cell_type": "code",
      "metadata": {
        "id": "a9BcXHuHPLfg"
      },
      "source": [
        "ANum = 0\r\n",
        "TNum = 0\r\n",
        "GNum = 0\r\n",
        "CNum = 0\r\n",
        "for row in range(DNAseq.shape[0]):\r\n",
        "    ANum += countChar(DNAseq.iloc[row][0],'A')\r\n",
        "    TNum += countChar(DNAseq.iloc[row][0],'T')\r\n",
        "    GNum += countChar(DNAseq.iloc[row][0],'G')\r\n",
        "    CNum += countChar(DNAseq.iloc[row][0],'C')\r\n",
        "    \r\n",
        "print(f'there are {ANum} As, {TNum} Ts, {GNum} Gs, {CNum} Cs,')"
      ],
      "execution_count": null,
      "outputs": []
    },
    {
      "cell_type": "markdown",
      "metadata": {
        "id": "Qzn4MccPP0Zu"
      },
      "source": [
        "https://github.com/Krocata613020188-1/python_dataviz/blob/master/Midterm(7_02_2020).ipynb\r\n"
      ]
    },
    {
      "cell_type": "markdown",
      "metadata": {
        "id": "unKoiZSfP-vl"
      },
      "source": [
        "3> จากไฟล์ data.xlsx สร้างตาราง\r\n",
        "- ใหม่ที่มี 2 columns โดย columns แรกชื่อว่า ภาษาอีสาน และมีคำ จาก columns ภาษาอีสานเดิมแต่เปลี่ยนคำที่เป๋น'/' เป็น','และ \r\n",
        " columns ที่สองชื่อว่า ภาษาไทย และมีคำ จาก columns ภาษาอีสานเดิมแต่เปลี่ยนคำที่เป๋น'/' เป็น','เช่น\r\n",
        "    จาก สวัสดี/สุผู้สุคน/เด้อ/จ้า สวัวสดี/ทุกๆคน /นะ/คะ\r\n",
        "    เป็น สวัสดี,สุผู้สุคน,เด้อ,จ้า สวัวสดี,ทุกๆคน ,นะ,คะ\r\n",
        "- สร้างตาราง Dictionary โดยตารางประกอบด้วยสอง columns คือภาษาอีสานและ ภาษาไทย โดยคำใน column ภาษาอีสาน คือคำในภาษาอีสาน และ\r\n",
        "column ภาษาไทย คือคำแปลเป็นภาษากลางของภาษาอีสานใน column แรก (ใช้คำจากตาราง data.xlsx โดยคำที่อยู่ในลำดับเดียวกันของ columns\r\n",
        "ภาษาอีสาน และ ภาษาไทย คือคำแปลของกันและกันถ้าจำนวนของทั้งสอง coluomn เท่ากัน -ถ้าจำนวนคำระหว่างสอง columns ไม่เท่ากันให้ข้าม record นั้นไป) "
      ]
    },
    {
      "cell_type": "code",
      "metadata": {
        "id": "0rE5SeihP_oN"
      },
      "source": [
        "datatest = 'C:\\\\Users\\\\ASUS\\\\Desktop\\\\pythonnew\\\\data.xlsx'\r\n",
        "data_df = pd.read_excel(datatest, sheet_name = 'v2', usecols = 'B:C',\r\n",
        "                       skipfooter = 1)"
      ],
      "execution_count": null,
      "outputs": []
    },
    {
      "cell_type": "code",
      "metadata": {
        "id": "X05UiQzDQC7n"
      },
      "source": [
        "data_df.head()"
      ],
      "execution_count": null,
      "outputs": []
    },
    {
      "cell_type": "code",
      "metadata": {
        "id": "_o_Xqyk3QFzb"
      },
      "source": [
        "colnames = ['ภาษาอีสาน' , 'ภาษาไทย']\r\n",
        "Datatotal = pd.DataFrame.from_records([],columns = colnames)\r\n",
        "for sn in range(32):\r\n",
        "    df = pd.read_excel('C:\\\\Users\\\\ASUS\\\\Desktop\\\\pythonnew\\\\data.xlsx', sheet_name = sn, usecols = 'B:C', skipfooter = 1)\r\n",
        "    Datatotal = pd.concat([Datatotal,df], axis = 0, ignore_index = True)"
      ],
      "execution_count": null,
      "outputs": []
    },
    {
      "cell_type": "code",
      "metadata": {
        "id": "-kYpozcdQHsa"
      },
      "source": [
        "Datatotal.head()"
      ],
      "execution_count": null,
      "outputs": []
    },
    {
      "cell_type": "code",
      "metadata": {
        "id": "vIaHEC1mQJ2n"
      },
      "source": [
        "Datatotal.shape"
      ],
      "execution_count": null,
      "outputs": []
    },
    {
      "cell_type": "code",
      "metadata": {
        "id": "1u8qMo51QKpU"
      },
      "source": [
        "Datatotal.iloc[3]['ภาษาอีสาน'].replace('/',',')"
      ],
      "execution_count": null,
      "outputs": []
    }
  ]
}