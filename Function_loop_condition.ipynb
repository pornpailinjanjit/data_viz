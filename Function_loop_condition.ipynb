{
  "nbformat": 4,
  "nbformat_minor": 0,
  "metadata": {
    "colab": {
      "name": "Function_loop_condition",
      "provenance": [],
      "authorship_tag": "ABX9TyNscyNaiBRMwiFF3We+Q4Oz",
      "include_colab_link": true
    },
    "kernelspec": {
      "name": "python3",
      "display_name": "Python 3"
    }
  },
  "cells": [
    {
      "cell_type": "markdown",
      "metadata": {
        "id": "view-in-github",
        "colab_type": "text"
      },
      "source": [
        "<a href=\"https://colab.research.google.com/github/pornpailinjanjit/data_viz/blob/main/Function_loop_condition.ipynb\" target=\"_parent\"><img src=\"https://colab.research.google.com/assets/colab-badge.svg\" alt=\"Open In Colab\"/></a>"
      ]
    },
    {
      "cell_type": "code",
      "metadata": {
        "id": "ejGr9bamfbsy"
      },
      "source": [
        ""
      ],
      "execution_count": null,
      "outputs": []
    },
    {
      "cell_type": "code",
      "metadata": {
        "colab": {
          "base_uri": "https://localhost:8080/"
        },
        "id": "N7PmX6hrnS_p",
        "outputId": "21c9be8e-4119-48ca-c174-20d7d611d109"
      },
      "source": [
        "name = 'พรไพลิน'\r\n",
        "surname = 'จันทร์จิตร'\r\n",
        "ID = '613020193-8'\r\n",
        "b= f'ชื่อ {name} นามสกุล {surname} รหัส {ID}'\r\n",
        "print(b)"
      ],
      "execution_count": null,
      "outputs": [
        {
          "output_type": "stream",
          "text": [
            "ชื่อ พรไพลิน นามสกุล จันทร์จิตร รหัส 613020193-8\n"
          ],
          "name": "stdout"
        }
      ]
    },
    {
      "cell_type": "markdown",
      "metadata": {
        "id": "ABLtZ2-efcyp"
      },
      "source": [
        "## Fungtion"
      ]
    },
    {
      "cell_type": "markdown",
      "metadata": {
        "id": "Ytt557AXgo9J"
      },
      "source": [
        "## fungtion template\r\n",
        " ## ทำหน้าที่รับ input มาประมวณผลออกมาเป็น output\r\n",
        " ## f(x)=y"
      ]
    },
    {
      "cell_type": "markdown",
      "metadata": {
        "id": "3MhGcG7Cg9Ia"
      },
      "source": [
        "### def คือการกำหนดฟังก์ชัน"
      ]
    },
    {
      "cell_type": "code",
      "metadata": {
        "id": "gq_2o6FwlLfO"
      },
      "source": [
        ""
      ],
      "execution_count": null,
      "outputs": []
    },
    {
      "cell_type": "markdown",
      "metadata": {
        "id": "OJ4fBTf9hHns"
      },
      "source": [
        "```python \r\n",
        "     def funtion_name(_Input_) :\r\n",
        "       do_something with _Input_ to get _Output_\r\n",
        "       return _output\r\n",
        "```\r\n",
        "\r\n",
        "backtick (`)\r\n",
        "tilde (~)\r\n",
        "curly bracket ({})\r\n",
        "square bracket ([])\r\n"
      ]
    },
    {
      "cell_type": "markdown",
      "metadata": {
        "id": "acv56MbSmHkR"
      },
      "source": [
        "funtion มีส่วนสำคัญทั้งหมด 4 ส่วน\r\n",
        " 1. บอกpython ว่าเราจะเขียนฟังก์ชั่น ชื่ออะไร ```def function_name() :```\r\n",
        " (ขาดไม่ได้)\r\n",
        " 2. กำหนดตัวแปรที่จะเป็น input ```_Input_``` (ขาดได้)\r\n",
        " 3. ส่วนประมวลผล  ```do_something with _Input_ to get _Output_ ```(ขาดไม่ได้)\r\n",
        " 4. ส่วน Output ```return _Output_ ``` (ขาดได้)"
      ]
    },
    {
      "cell_type": "code",
      "metadata": {
        "id": "iAqbw88ehMy_"
      },
      "source": [
        ""
      ],
      "execution_count": null,
      "outputs": []
    },
    {
      "cell_type": "markdown",
      "metadata": {
        "id": "6ZdoVA95hYZE"
      },
      "source": [
        "ตัวอย่างการเขียน normal function"
      ]
    },
    {
      "cell_type": "code",
      "metadata": {
        "id": "zQB0cgr-kZQb"
      },
      "source": [
        "def print_name(name,surname,ID):\r\n",
        "  st = f'ชื่อ {name} นามสกุล {surname} รหัส {ID}'\r\n",
        "  print(st)"
      ],
      "execution_count": null,
      "outputs": []
    },
    {
      "cell_type": "code",
      "metadata": {
        "colab": {
          "base_uri": "https://localhost:8080/"
        },
        "id": "QUEXkaeyRSIW",
        "outputId": "54fe431b-0dbb-4734-d4c5-de02a08fc864"
      },
      "source": [
        "print_name('ทันเทพ','64xxxxxxxx','สลิลทิพย์')"
      ],
      "execution_count": null,
      "outputs": [
        {
          "output_type": "stream",
          "text": [
            "ชื่อ ทันเทพ นามสกุล 64xxxxxxxx รหัส สลิลทิพย์\n"
          ],
          "name": "stdout"
        }
      ]
    },
    {
      "cell_type": "code",
      "metadata": {
        "colab": {
          "base_uri": "https://localhost:8080/"
        },
        "id": "iVSTfb7BlIZE",
        "outputId": "24288f29-1f3b-4aec-b447-4082c487a624"
      },
      "source": [
        "print(print_name(name='พรไพลิน',surname='จันทร์จิตร',ID='613020193-8'))"
      ],
      "execution_count": null,
      "outputs": [
        {
          "output_type": "stream",
          "text": [
            "ชื่อ พรไพลิน นามสกุล จันทร์จิตร รหัส 613020193-8\n",
            "None\n"
          ],
          "name": "stdout"
        }
      ]
    },
    {
      "cell_type": "markdown",
      "metadata": {
        "id": "L3V8fKwxVVWV"
      },
      "source": [
        "ขอสังเกต python กับภาษา c มันจะไม่มี{}เปิด-ปิด  pyhton \r\n",
        "## จะเว้นวรรค(indent) แทนเพื่อบอกขอบเขตของโปรแกรม"
      ]
    },
    {
      "cell_type": "markdown",
      "metadata": {
        "id": "xg6nES7gq96K"
      },
      "source": [
        "ฟังก์ชั่นไม่จำเป็นต้องมี output"
      ]
    },
    {
      "cell_type": "code",
      "metadata": {
        "id": "f6jyyKIvUkMm"
      },
      "source": [
        "def print_name2(surname,ID,name):\r\n",
        "  st = f'ชื่อ {name} นามสกุล {surname} รหัส {ID}'\r\n",
        "  print (st)  \r\n"
      ],
      "execution_count": null,
      "outputs": []
    },
    {
      "cell_type": "code",
      "metadata": {
        "colab": {
          "base_uri": "https://localhost:8080/"
        },
        "id": "R_8LUwvCWRfu",
        "outputId": "5231ceb1-a8fe-46ef-9f63-56e185e1499c"
      },
      "source": [
        "print_name2(name='พรไพลิน',surname='จันทร์จิตร',ID='613020193-8')"
      ],
      "execution_count": null,
      "outputs": [
        {
          "output_type": "stream",
          "text": [
            "ชื่อ พรไพลิน นามสกุล จันทร์จิตร รหัส 613020193-8\n"
          ],
          "name": "stdout"
        }
      ]
    },
    {
      "cell_type": "markdown",
      "metadata": {
        "id": "YW8ggVyITjes"
      },
      "source": [
        "เราสามารถเพิ่มคำสั่งเข้าไปในฟังก์ชั่นอีกได้ โดยการเปลี่ยน คำสั่ง return เป็น prinnt ()ได้ เช่นตัวอย่างนี้ ได้ทำการเพิ่ม st2= f'เกรดวิชา"
      ]
    },
    {
      "cell_type": "code",
      "metadata": {
        "id": "6xpXDPP1TicU"
      },
      "source": [
        ""
      ],
      "execution_count": null,
      "outputs": []
    },
    {
      "cell_type": "markdown",
      "metadata": {
        "id": "Yy_crY5Yxe8V"
      },
      "source": [
        "ฟังก์ชั่นไม่จำเป็นต้องมี input"
      ]
    },
    {
      "cell_type": "code",
      "metadata": {
        "id": "ShDAXBbzp2u-"
      },
      "source": [
        "def pi():\r\n",
        "  return 3.14159265359\r\n",
        "  "
      ],
      "execution_count": null,
      "outputs": []
    },
    {
      "cell_type": "code",
      "metadata": {
        "colab": {
          "base_uri": "https://localhost:8080/"
        },
        "id": "hUqKSHz7X9Q6",
        "outputId": "e00630f9-86db-40e9-c722-3ec3c1d8ca4b"
      },
      "source": [
        "2*pi()*2"
      ],
      "execution_count": null,
      "outputs": [
        {
          "output_type": "execute_result",
          "data": {
            "text/plain": [
              "12.56637061436"
            ]
          },
          "metadata": {
            "tags": []
          },
          "execution_count": 14
        }
      ]
    },
    {
      "cell_type": "code",
      "metadata": {
        "colab": {
          "base_uri": "https://localhost:8080/"
        },
        "id": "OPmmwN87q8sg",
        "outputId": "ae3a7a20-4840-4442-9ae1-6ffe447f1342"
      },
      "source": [
        "pi()*(2**2)  ##หาพื้นที่วงกลมที่มีรัศมเท่ากับ pi * r^2"
      ],
      "execution_count": null,
      "outputs": [
        {
          "output_type": "execute_result",
          "data": {
            "text/plain": [
              "12.56637061436"
            ]
          },
          "metadata": {
            "tags": []
          },
          "execution_count": 15
        }
      ]
    },
    {
      "cell_type": "markdown",
      "metadata": {
        "id": "OQwjsPHVr1bR"
      },
      "source": [
        "##เราสามารถกำหนดค่า default ให้กับฟันก์ชั่นได้"
      ]
    },
    {
      "cell_type": "markdown",
      "metadata": {
        "id": "co8M-2FUZF3D"
      },
      "source": [
        "ค่า default คือค่าที่เราไม่กรอกอะไรก็จะเป็นค่านั้น"
      ]
    },
    {
      "cell_type": "code",
      "metadata": {
        "id": "-ATb0o-RxUSI"
      },
      "source": [
        "def print_2lines_default(name,surname,ID,grade='F') : ##print_2lines แปลว่าprint2บรรทัด\r\n",
        "  st = f'ชื่อ {name} นามสกุล {surname} รหัส {ID}'\r\n",
        "  print (st)\r\n",
        "  st2=f'เกรดวิชา Data Viz >>> {grade}'\r\n",
        "  print(st2) "
      ],
      "execution_count": null,
      "outputs": []
    },
    {
      "cell_type": "code",
      "metadata": {
        "colab": {
          "base_uri": "https://localhost:8080/"
        },
        "id": "271lV4VCbGzE",
        "outputId": "94fd3721-96ae-4c45-97dd-5176331d4f61"
      },
      "source": [
        "print_2lines_default('พรไพลิน','จันทร์จิตร','613020193-8')"
      ],
      "execution_count": null,
      "outputs": [
        {
          "output_type": "stream",
          "text": [
            "ชื่อ พรไพลิน นามสกุล จันทร์จิตร รหัส 613020193-8\n",
            "เกรดวิชา Data Viz >>> F\n"
          ],
          "name": "stdout"
        }
      ]
    },
    {
      "cell_type": "code",
      "metadata": {
        "colab": {
          "base_uri": "https://localhost:8080/"
        },
        "id": "3GEhWGTNcv43",
        "outputId": "21478600-c5f4-4d3a-95d0-e6163ab4767f"
      },
      "source": [
        "print_2lines_default('พรไพลิน','จันทร์จิตร','613020193-8','A')"
      ],
      "execution_count": null,
      "outputs": [
        {
          "output_type": "stream",
          "text": [
            "ชื่อ พรไพลิน นามสกุล จันทร์จิตร รหัส 613020193-8\n",
            "เกรดวิชา Data Viz >>> A\n"
          ],
          "name": "stdout"
        }
      ]
    },
    {
      "cell_type": "markdown",
      "metadata": {
        "id": "uR4F1s8_fIlq"
      },
      "source": [
        "##จากการบ้าน คาบที่1 covid "
      ]
    },
    {
      "cell_type": "markdown",
      "metadata": {
        "id": "IaxNmTDQfYAf"
      },
      "source": [
        "ให้สร้างฟังก์ชั่นคำนวณเวลาเป็นวินาทีของเวลาใดๆ และ print ออกมาให้สวบงาม"
      ]
    },
    {
      "cell_type": "code",
      "metadata": {
        "id": "p_RHngGxyPXO"
      },
      "source": [
        "def Time_a(Time) :\r\n",
        "  pt = Time.split(':')\r\n",
        "  s = pt[0]\r\n",
        "  b = pt[1]\r\n",
        "  c = pt[2]\r\n",
        "  total_s = int(s)*60*60+int(b)*60+int(c)\r\n",
        "  t_s = f'{Time} = {total_s} s'\r\n",
        "  print(t_s)\r\n"
      ],
      "execution_count": null,
      "outputs": []
    },
    {
      "cell_type": "code",
      "metadata": {
        "colab": {
          "base_uri": "https://localhost:8080/"
        },
        "id": "0tg1AsqWyT55",
        "outputId": "18293d36-edd8-424d-af7b-7ae5cd4b73e4"
      },
      "source": [
        "Time_a('12:30:15')\r\n",
        "Time_a('13:41:07')\r\n",
        "Time_a('12:53:15')\r\n",
        "Time_a('00:59:25')\r\n",
        "Time_a('11:11:11')\r\n",
        "Time_a('16:06:09')"
      ],
      "execution_count": null,
      "outputs": [
        {
          "output_type": "stream",
          "text": [
            "12:30:15 = 45015 s\n",
            "13:41:07 = 49267 s\n",
            "12:53:15 = 46395 s\n",
            "00:59:25 = 3565 s\n",
            "11:11:11 = 40271 s\n",
            "16:06:09 = 57969 s\n"
          ],
          "name": "stdout"
        }
      ]
    },
    {
      "cell_type": "markdown",
      "metadata": {
        "id": "_8NdgZ7Hyd7X"
      },
      "source": [
        "ให้ สร้าง list ของเวลา... แล้ววนลูปเรียกฟังก์ชั่นคำนวณเวลาเป็น วินาที่\r\n",
        "commit ว่า HW3 หมดเวลา เที่ยงคืนวันจันทร์"
      ]
    },
    {
      "cell_type": "code",
      "metadata": {
        "id": "2S6huM7wyfSZ"
      },
      "source": [
        "list_timez = ['12:30:15', '13:41:07', '12:53:15', '00:59:25', '11:11:11', '16:06:09']"
      ],
      "execution_count": null,
      "outputs": []
    },
    {
      "cell_type": "code",
      "metadata": {
        "colab": {
          "base_uri": "https://localhost:8080/"
        },
        "id": "0-UtAb9dyoto",
        "outputId": "2afae72a-b9dc-4f7d-c5fa-f69ecd9dad7d"
      },
      "source": [
        "for z in list_timez :\r\n",
        "  t1 = z.split(':')\r\n",
        "  s = t1[0]\r\n",
        "  b = t1[1]\r\n",
        "  c = t1[2]\r\n",
        "  total_s = int(s)*60*60+int(b)*60+int(c)\r\n",
        "  t_s = f'{z} = {total_s} s'\r\n",
        "  print(t_s)"
      ],
      "execution_count": null,
      "outputs": [
        {
          "output_type": "stream",
          "text": [
            "12:30:15 = 45015 s\n",
            "13:41:07 = 49267 s\n",
            "12:53:15 = 46395 s\n",
            "00:59:25 = 3565 s\n",
            "11:11:11 = 40271 s\n",
            "16:06:09 = 57969 s\n"
          ],
          "name": "stdout"
        }
      ]
    },
    {
      "cell_type": "markdown",
      "metadata": {
        "id": "x6hpSWW40Yhb"
      },
      "source": [
        "### LOOP การวนซ้ำ"
      ]
    },
    {
      "cell_type": "markdown",
      "metadata": {
        "id": "2aRXTlZb0iaJ"
      },
      "source": [
        "for เป็นคำที่ใช้บอก python ว่าเรากำลังเขียน loop โดย for จะวนดึงสมาชิกจาก listaA มาทำ process do_someting\r\n"
      ]
    },
    {
      "cell_type": "code",
      "metadata": {
        "colab": {
          "base_uri": "https://localhost:8080/"
        },
        "id": "dFSd1eMg0gww",
        "outputId": "cef2f588-8cb8-4695-e70b-7071d551892b"
      },
      "source": [
        "for i in [1,2,3] :\r\n",
        "  print (f'this member = {i} after process = {i**2}')"
      ],
      "execution_count": null,
      "outputs": [
        {
          "output_type": "stream",
          "text": [
            "this member = 1 after process = 1\n",
            "this member = 2 after process = 4\n",
            "this member = 3 after process = 9\n"
          ],
          "name": "stdout"
        }
      ]
    },
    {
      "cell_type": "code",
      "metadata": {
        "colab": {
          "base_uri": "https://localhost:8080/"
        },
        "id": "SvxiRXqK1Zt-",
        "outputId": "5ca8a22a-99fe-4576-ef07-c115fd6a85b6"
      },
      "source": [
        "for i in [1,2,3] :\r\n",
        "  o = i**2\r\n",
        "  print (f'this member = {i} after process = {i**2}')"
      ],
      "execution_count": null,
      "outputs": [
        {
          "output_type": "stream",
          "text": [
            "this member = 1 after process = 1\n",
            "this member = 2 after process = 4\n",
            "this member = 3 after process = 9\n"
          ],
          "name": "stdout"
        }
      ]
    },
    {
      "cell_type": "code",
      "metadata": {
        "id": "Ehs95Qb41tLS"
      },
      "source": [
        ""
      ],
      "execution_count": null,
      "outputs": []
    },
    {
      "cell_type": "markdown",
      "metadata": {
        "id": "OHaDvcs8VNBk"
      },
      "source": [
        "ตัวอย่างการใช้คำสั่ง for"
      ]
    },
    {
      "cell_type": "code",
      "metadata": {
        "id": "Ef0FhuNrVMNB",
        "colab": {
          "base_uri": "https://localhost:8080/"
        },
        "outputId": "55d521ad-4d47-4f0e-f30b-40ed6576ed3d"
      },
      "source": [
        "for i in 'pornpailin':\r\n",
        "    print(f'{i} -> / ')"
      ],
      "execution_count": null,
      "outputs": [
        {
          "output_type": "stream",
          "text": [
            "p -> / \n",
            "o -> / \n",
            "r -> / \n",
            "n -> / \n",
            "p -> / \n",
            "a -> / \n",
            "i -> / \n",
            "l -> / \n",
            "i -> / \n",
            "n -> / \n"
          ],
          "name": "stdout"
        }
      ]
    },
    {
      "cell_type": "code",
      "metadata": {
        "id": "NRd8uW-bWEG-",
        "colab": {
          "base_uri": "https://localhost:8080/"
        },
        "outputId": "97bdce0c-379e-4971-9c3e-d8c753009cc4"
      },
      "source": [
        "for i in 'pornpailin':\r\n",
        "    print(f'{i} -> / ' ,end = '') #สั่งให้ print แบบ ไม่เว้นบรรทัด"
      ],
      "execution_count": null,
      "outputs": [
        {
          "output_type": "stream",
          "text": [
            "p -> / o -> / r -> / n -> / p -> / a -> / i -> / l -> / i -> / n -> / "
          ],
          "name": "stdout"
        }
      ]
    },
    {
      "cell_type": "markdown",
      "metadata": {
        "id": "HmIO1u_SXPN8"
      },
      "source": [
        "# สร้าง list ตัวเลขแบบอัตโนมัติ range()"
      ]
    },
    {
      "cell_type": "code",
      "metadata": {
        "id": "CY7GtRCsXIJt",
        "colab": {
          "base_uri": "https://localhost:8080/"
        },
        "outputId": "6735a36b-15bd-44b8-bd70-8f9665fa4b89"
      },
      "source": [
        "range5_output = range(5)\r\n",
        "print(list(range5_output))"
      ],
      "execution_count": null,
      "outputs": [
        {
          "output_type": "stream",
          "text": [
            "[0, 1, 2, 3, 4]\n"
          ],
          "name": "stdout"
        }
      ]
    },
    {
      "cell_type": "code",
      "metadata": {
        "id": "y8qPIN3kYSMj",
        "colab": {
          "base_uri": "https://localhost:8080/"
        },
        "outputId": "c14c009f-9f37-4106-b5b7-c4c7f1f43445"
      },
      "source": [
        "for i in range(100):\r\n",
        "    print('งง',end=' ')"
      ],
      "execution_count": null,
      "outputs": [
        {
          "output_type": "stream",
          "text": [
            "งง งง งง งง งง งง งง งง งง งง งง งง งง งง งง งง งง งง งง งง งง งง งง งง งง งง งง งง งง งง งง งง งง งง งง งง งง งง งง งง งง งง งง งง งง งง งง งง งง งง งง งง งง งง งง งง งง งง งง งง งง งง งง งง งง งง งง งง งง งง งง งง งง งง งง งง งง งง งง งง งง งง งง งง งง งง งง งง งง งง งง งง งง งง งง งง งง งง งง งง "
          ],
          "name": "stdout"
        }
      ]
    },
    {
      "cell_type": "code",
      "metadata": {
        "id": "dSmzQdmoYtu0",
        "colab": {
          "base_uri": "https://localhost:8080/"
        },
        "outputId": "17a08b0c-9cf3-48f4-adf6-be2942a25a3d"
      },
      "source": [
        "list(range(1,11)) #เริ่มต้้นเป็นวงทึบ จบเป็นวงกลมโปร่ง เหมือน list slicing"
      ],
      "execution_count": null,
      "outputs": [
        {
          "output_type": "execute_result",
          "data": {
            "text/plain": [
              "[1, 2, 3, 4, 5, 6, 7, 8, 9, 10]"
            ]
          },
          "metadata": {
            "tags": []
          },
          "execution_count": 9
        }
      ]
    },
    {
      "cell_type": "code",
      "metadata": {
        "id": "BJaWrobQZQir",
        "colab": {
          "base_uri": "https://localhost:8080/"
        },
        "outputId": "a4f3a0b2-99bb-4704-d417-d34cae5b97a5"
      },
      "source": [
        "list(range(-3,20,4))  #เริ่มต้นแต่-3 ไปถึง20แต่ไม่เอา20 โดยเว้น4ตัว"
      ],
      "execution_count": null,
      "outputs": [
        {
          "output_type": "execute_result",
          "data": {
            "text/plain": [
              "[-3, 1, 5, 9, 13, 17]"
            ]
          },
          "metadata": {
            "tags": []
          },
          "execution_count": 11
        }
      ]
    },
    {
      "cell_type": "markdown",
      "metadata": {
        "id": "xp87jDHOc-S8"
      },
      "source": [
        "## loop in loop\r\n",
        "สามารถช้ for loop ซ้อนกันสองรอบได้"
      ]
    },
    {
      "cell_type": "code",
      "metadata": {
        "id": "8j4bUyIkdN9V",
        "colab": {
          "base_uri": "https://localhost:8080/"
        },
        "outputId": "28672226-481f-4063-b4f8-74df879ed237"
      },
      "source": [
        "for name1 in range(2,5): #จะรัน(2, 3 ,4)\r\n",
        "    for name2 in range(1,13):\r\n",
        "        print(name1,'x',name2,' = ',name1*name2)"
      ],
      "execution_count": null,
      "outputs": [
        {
          "output_type": "stream",
          "text": [
            "2 x 1  =  2\n",
            "2 x 2  =  4\n",
            "2 x 3  =  6\n",
            "2 x 4  =  8\n",
            "2 x 5  =  10\n",
            "2 x 6  =  12\n",
            "2 x 7  =  14\n",
            "2 x 8  =  16\n",
            "2 x 9  =  18\n",
            "2 x 10  =  20\n",
            "2 x 11  =  22\n",
            "2 x 12  =  24\n",
            "3 x 1  =  3\n",
            "3 x 2  =  6\n",
            "3 x 3  =  9\n",
            "3 x 4  =  12\n",
            "3 x 5  =  15\n",
            "3 x 6  =  18\n",
            "3 x 7  =  21\n",
            "3 x 8  =  24\n",
            "3 x 9  =  27\n",
            "3 x 10  =  30\n",
            "3 x 11  =  33\n",
            "3 x 12  =  36\n",
            "4 x 1  =  4\n",
            "4 x 2  =  8\n",
            "4 x 3  =  12\n",
            "4 x 4  =  16\n",
            "4 x 5  =  20\n",
            "4 x 6  =  24\n",
            "4 x 7  =  28\n",
            "4 x 8  =  32\n",
            "4 x 9  =  36\n",
            "4 x 10  =  40\n",
            "4 x 11  =  44\n",
            "4 x 12  =  48\n"
          ],
          "name": "stdout"
        }
      ]
    },
    {
      "cell_type": "code",
      "metadata": {
        "id": "k5dfgh77ehFp",
        "colab": {
          "base_uri": "https://localhost:8080/"
        },
        "outputId": "a36988b2-e212-445a-c976-8afbeb7f63c4"
      },
      "source": [
        "for name1 in range(2,5): #จะรัน(2, 3 ,4)\r\n",
        "    print(f'now name1 = {name1}')\r\n",
        "    for name2 in range(1,13):\r\n",
        "        print(name1,'x',name2,' = ',name1*name2)\r\n",
        "    print('the inner loop is end')"
      ],
      "execution_count": null,
      "outputs": [
        {
          "output_type": "stream",
          "text": [
            "now name1 = 2\n",
            "2 x 1  =  2\n",
            "2 x 2  =  4\n",
            "2 x 3  =  6\n",
            "2 x 4  =  8\n",
            "2 x 5  =  10\n",
            "2 x 6  =  12\n",
            "2 x 7  =  14\n",
            "2 x 8  =  16\n",
            "2 x 9  =  18\n",
            "2 x 10  =  20\n",
            "2 x 11  =  22\n",
            "2 x 12  =  24\n",
            "the inner loop is end\n",
            "now name1 = 3\n",
            "3 x 1  =  3\n",
            "3 x 2  =  6\n",
            "3 x 3  =  9\n",
            "3 x 4  =  12\n",
            "3 x 5  =  15\n",
            "3 x 6  =  18\n",
            "3 x 7  =  21\n",
            "3 x 8  =  24\n",
            "3 x 9  =  27\n",
            "3 x 10  =  30\n",
            "3 x 11  =  33\n",
            "3 x 12  =  36\n",
            "the inner loop is end\n",
            "now name1 = 4\n",
            "4 x 1  =  4\n",
            "4 x 2  =  8\n",
            "4 x 3  =  12\n",
            "4 x 4  =  16\n",
            "4 x 5  =  20\n",
            "4 x 6  =  24\n",
            "4 x 7  =  28\n",
            "4 x 8  =  32\n",
            "4 x 9  =  36\n",
            "4 x 10  =  40\n",
            "4 x 11  =  44\n",
            "4 x 12  =  48\n",
            "the inner loop is end\n"
          ],
          "name": "stdout"
        }
      ]
    },
    {
      "cell_type": "markdown",
      "metadata": {
        "id": "Li4OPItXfBIw"
      },
      "source": [
        "## loop in function\r\n",
        "การวนลูปในฟังก์ชั่น"
      ]
    },
    {
      "cell_type": "code",
      "metadata": {
        "id": "u2Mg2IVhfMEw"
      },
      "source": [
        "list_friends = ['พลอย','ซอกจิน','จองกุก','แท']"
      ],
      "execution_count": null,
      "outputs": []
    },
    {
      "cell_type": "code",
      "metadata": {
        "id": "kyGyj8nTfkwB"
      },
      "source": [
        "def print_feelings(I,friends,feeling = 'คิดถึง') :\r\n",
        "    for friend in friends :\r\n",
        "        print(f'{I} {feeling} {friend}')"
      ],
      "execution_count": null,
      "outputs": []
    },
    {
      "cell_type": "code",
      "metadata": {
        "id": "LrV4oPHFgjs9"
      },
      "source": [
        "list_friend = ['พลอย','ซอกจิน','จองกุก','แท']"
      ],
      "execution_count": null,
      "outputs": []
    },
    {
      "cell_type": "code",
      "metadata": {
        "id": "13eFJH6-gxIv",
        "colab": {
          "base_uri": "https://localhost:8080/"
        },
        "outputId": "92eef287-5d53-42db-8a18-f2c8d3e8d1f1"
      },
      "source": [
        "print_feelings('พลอย',list_friends)"
      ],
      "execution_count": null,
      "outputs": [
        {
          "output_type": "stream",
          "text": [
            "พลอย คิดถึง พลอย\n",
            "พลอย คิดถึง ซอกจิน\n",
            "พลอย คิดถึง จองกุก\n",
            "พลอย คิดถึง แท\n"
          ],
          "name": "stdout"
        }
      ]
    },
    {
      "cell_type": "code",
      "metadata": {
        "id": "igfm2ECAD0Cg",
        "colab": {
          "base_uri": "https://localhost:8080/"
        },
        "outputId": "f6eba257-b3a5-4847-d837-55efd0137dd1"
      },
      "source": [
        "print_feelings('พลอย',list_friends,feeling='รัก')"
      ],
      "execution_count": null,
      "outputs": [
        {
          "output_type": "stream",
          "text": [
            "พลอย รัก พลอย\n",
            "พลอย รัก ซอกจิน\n",
            "พลอย รัก จองกุก\n",
            "พลอย รัก แท\n"
          ],
          "name": "stdout"
        }
      ]
    },
    {
      "cell_type": "markdown",
      "metadata": {
        "id": "lKzjXa8UkNIN"
      },
      "source": [
        "## True / False\r\n",
        "การวนลูปโดยมีเงื่อนไขต่างๆมาเกี่ยวข้อง โดยมี pattern ดังนี้"
      ]
    },
    {
      "cell_type": "markdown",
      "metadata": {
        "id": "hfwXjdRnkk0h"
      },
      "source": [
        "```python\r\n",
        "if condition1 :\r\n",
        "     do something\r\n",
        "elif condition2 :\r\n",
        "     do another thing\r\n",
        "else :\r\n",
        "     do ...\r\n",
        "```    \r\n",
        "     "
      ]
    },
    {
      "cell_type": "code",
      "metadata": {
        "id": "QK4F4y6BlRa9",
        "colab": {
          "base_uri": "https://localhost:8080/"
        },
        "outputId": "b15f0e75-03bc-4b9d-b4a5-2207188034b4"
      },
      "source": [
        "print(list_friends)"
      ],
      "execution_count": null,
      "outputs": [
        {
          "output_type": "stream",
          "text": [
            "['พลอย', 'ซอกจิน', 'จองกุก', 'แท']\n"
          ],
          "name": "stdout"
        }
      ]
    },
    {
      "cell_type": "code",
      "metadata": {
        "id": "pLVy5Upuk3pS",
        "colab": {
          "base_uri": "https://localhost:8080/"
        },
        "outputId": "6cdbcdd6-1e8a-4c55-e86f-fbe854f41b79"
      },
      "source": [
        "for name1 in list_friends:\r\n",
        "    for name2 in list_friends:\r\n",
        "        if name1 != name2:  #ไม่ปริ้นชื่อคนเดียวซ้ำ\r\n",
        "            print(name1,'รัก',name2)"
      ],
      "execution_count": null,
      "outputs": [
        {
          "output_type": "stream",
          "text": [
            "พลอย รัก ซอกจิน\n",
            "พลอย รัก จองกุก\n",
            "พลอย รัก แท\n",
            "ซอกจิน รัก พลอย\n",
            "ซอกจิน รัก จองกุก\n",
            "ซอกจิน รัก แท\n",
            "จองกุก รัก พลอย\n",
            "จองกุก รัก ซอกจิน\n",
            "จองกุก รัก แท\n",
            "แท รัก พลอย\n",
            "แท รัก ซอกจิน\n",
            "แท รัก จองกุก\n"
          ],
          "name": "stdout"
        }
      ]
    },
    {
      "cell_type": "code",
      "metadata": {
        "id": "PzyxSqGNVqGM",
        "colab": {
          "base_uri": "https://localhost:8080/"
        },
        "outputId": "c7f0113a-43d6-47e6-ae0d-09378afa871d"
      },
      "source": [
        "for name1 in list_friends:\r\n",
        "    for name2 in list_friends:\r\n",
        "        if name1 == name2:  #ชื่อคนเดียวซ้ำ\r\n",
        "            print(name1,'รัก',name2)"
      ],
      "execution_count": null,
      "outputs": [
        {
          "output_type": "stream",
          "text": [
            "พลอย รัก พลอย\n",
            "ซอกจิน รัก ซอกจิน\n",
            "จองกุก รัก จองกุก\n",
            "แท รัก แท\n"
          ],
          "name": "stdout"
        }
      ]
    },
    {
      "cell_type": "code",
      "metadata": {
        "id": "omZdEle4mbvl",
        "colab": {
          "base_uri": "https://localhost:8080/"
        },
        "outputId": "ef29f081-8a69-4a3b-f571-278c21383a7e"
      },
      "source": [
        "for name1 in list_friends:\r\n",
        "    for name2 in list_friends:\r\n",
        "        if name1 == name2:  \r\n",
        "             'do nothing'\r\n",
        "        else:\r\n",
        "            print(name1,'รัก',name2)"
      ],
      "execution_count": null,
      "outputs": [
        {
          "output_type": "stream",
          "text": [
            "พลอย รัก ซอกจิน\n",
            "พลอย รัก จองกุก\n",
            "พลอย รัก แท\n",
            "ซอกจิน รัก พลอย\n",
            "ซอกจิน รัก จองกุก\n",
            "ซอกจิน รัก แท\n",
            "จองกุก รัก พลอย\n",
            "จองกุก รัก ซอกจิน\n",
            "จองกุก รัก แท\n",
            "แท รัก พลอย\n",
            "แท รัก ซอกจิน\n",
            "แท รัก จองกุก\n"
          ],
          "name": "stdout"
        }
      ]
    },
    {
      "cell_type": "code",
      "metadata": {
        "id": "nwcqPX8Xml1P"
      },
      "source": [
        ""
      ],
      "execution_count": null,
      "outputs": []
    },
    {
      "cell_type": "markdown",
      "metadata": {
        "id": "gFi6U_jzmtVf"
      },
      "source": [
        "==,!=,>=,<=,<,>"
      ]
    },
    {
      "cell_type": "code",
      "metadata": {
        "id": "Qr3u6stKnJLQ",
        "colab": {
          "base_uri": "https://localhost:8080/"
        },
        "outputId": "7ec374ba-cdf5-43a0-d48b-4933815b522d"
      },
      "source": [
        "'จองกุก' == 'แท'"
      ],
      "execution_count": null,
      "outputs": [
        {
          "output_type": "execute_result",
          "data": {
            "text/plain": [
              "False"
            ]
          },
          "metadata": {
            "tags": []
          },
          "execution_count": 40
        }
      ]
    },
    {
      "cell_type": "code",
      "metadata": {
        "id": "sg087GVqnbpo",
        "colab": {
          "base_uri": "https://localhost:8080/"
        },
        "outputId": "f7f3f703-5c2b-44f1-adf3-14c2742856c6"
      },
      "source": [
        "'จองกุก' != 'แท'"
      ],
      "execution_count": null,
      "outputs": [
        {
          "output_type": "execute_result",
          "data": {
            "text/plain": [
              "True"
            ]
          },
          "metadata": {
            "tags": []
          },
          "execution_count": 41
        }
      ]
    },
    {
      "cell_type": "markdown",
      "metadata": {
        "id": "lrkssrhym5L6"
      },
      "source": [
        "##หากหลังเงื่อนไข True ถูกต้องจะทำการ print ข้อความออกมาว่า yes"
      ]
    },
    {
      "cell_type": "markdown",
      "metadata": {
        "id": "QMd2qZjYFDrj"
      },
      "source": [
        "# HW\r\n",
        "#### เขียน function ตัดเกรด โดยที่ input เป็นคะแนน(0-100), output เป็นเกรด (F-A)\r\n",
        "#### วนลูปตัดเกรด input = [1,50,65,90,101,-5,49]\r\n"
      ]
    },
    {
      "cell_type": "markdown",
      "metadata": {
        "id": "5O03aWfbF9d2"
      },
      "source": [
        "###กำหนด\r\n",
        "ถ้าคะแนนอยู่ระหว่างมากกว่าหรือเท่ากับ  0  แต่น้อยกว่า 50 จะได้เกรด F \\\r\n",
        "  ถ้าคะแนนอยู่ระหว่างมากกว่าหรือเท่ากับ 50 แต่น้อยกว่า 55 จะได้เกรด D\\\r\n",
        "  ถ้าคะแนนอยู่ระหว่างมากกว่าหรือเท่ากับ 55 แต่น้อยกว่า 60 จะได้เกรด D+\\\r\n",
        "  ถ้าคะแนนอยู่ระหว่างมากกว่าหรือเท่ากับ 60 แต่น้อยกว่า 65 จะได้เกรด C\\\r\n",
        "  ถ้าคะแนนอยู่ระหว่างมากกว่าหรือเท่ากับ 65 แต่น้อยกว่า 70 จะได้เกรด C+\\\r\n",
        "  ถ้าคะแนนอยู่ระหว่างมากกว่าหรือเท่ากับ 70 แต่น้อยกว่า 75 จะได้เกรด B\\\r\n",
        "  ถ้าคะแนนอยู่ระหว่างมากกว่าหรือเท่ากับ 75 แต่น้อยกว่า 80 จะได้เกรด B+\\\r\n",
        "  ถ้าคะแนนอยู่ระหว่างมากกว่าหรือเท่ากับ 80  จะได้เกรด A\\\r\n",
        "  แต่ว่าค่าคะแนนจะต้องไม่ต่ำกว่า 0 และมากกว่า 100 ไม่งั้นจะเกิด error\r\n"
      ]
    },
    {
      "cell_type": "code",
      "metadata": {
        "id": "oE5UQP7fGQIx"
      },
      "source": [
        "def student_grade (score) :\r\n",
        "    if 0 <= score < 50 :\r\n",
        "      print (f'คะแนน = {score} ได้เกรด F')\r\n",
        "    elif 50 <=score< 55:\r\n",
        "      print (f'คะแนน = {score} ได้เกรด D')\r\n",
        "    elif 55 <=score< 60:\r\n",
        "      print (f'คะแนน = {score} ได้เกรด D+')\r\n",
        "    elif 60 <=score< 65:\r\n",
        "      print (f'คะแนน = {score} ได้เกรด C')\r\n",
        "    elif 65 <=score< 70:\r\n",
        "      print (f'คะแนน = {score} ได้เกรด C+')\r\n",
        "    elif 70 <=score< 75:\r\n",
        "      print (f'คะแนน = {score} ได้เกรด B')\r\n",
        "    elif 75 <=score< 80:  \r\n",
        "      print (f'คะแนน = {score} ได้เกรด B+')\r\n",
        "    elif 80 <=score< 100:  \r\n",
        "      print (f'คะแนน = {score} ได้เกรด A')\r\n",
        "    elif score > 100:\r\n",
        "      print (f' {score} = error')\r\n",
        "    elif score < 0:\r\n",
        "      print (f' {score}  = error')\r\n"
      ],
      "execution_count": null,
      "outputs": []
    },
    {
      "cell_type": "code",
      "metadata": {
        "id": "NHCKwTA-JKVV"
      },
      "source": [
        "input = [1,50,65,90,101,-5,49]"
      ],
      "execution_count": null,
      "outputs": []
    },
    {
      "cell_type": "code",
      "metadata": {
        "id": "2l7c1O_5LuRX",
        "colab": {
          "base_uri": "https://localhost:8080/"
        },
        "outputId": "2eff05f9-24ef-4e01-d82f-d8cf006b63e8"
      },
      "source": [
        "for score in input:\r\n",
        "  student_grade(score)\r\n"
      ],
      "execution_count": null,
      "outputs": [
        {
          "output_type": "stream",
          "text": [
            "คะแนน = 1 ได้เกรด F\n",
            "คะแนน = 50 ได้เกรด D\n",
            "คะแนน = 65 ได้เกรด C+\n",
            "คะแนน = 90 ได้เกรด A\n",
            " 101 = error\n",
            " -5  = error\n",
            "คะแนน = 49 ได้เกรด F\n"
          ],
          "name": "stdout"
        }
      ]
    },
    {
      "cell_type": "code",
      "metadata": {
        "id": "aGpqq8SclfVN"
      },
      "source": [
        "def grade (score) :\r\n",
        "    if score < 0:\r\n",
        "      print (f'คะแนน = {score} กรอก error')\r\n",
        "    elif score < 50 :\r\n",
        "      print (f'คะแนน = {score} ได้เกรด F')\r\n",
        "    elif score< 55:\r\n",
        "      print (f'คะแนน = {score} ได้เกรด D')\r\n",
        "    elif score< 60:\r\n",
        "      print (f'คะแนน = {score} ได้เกรด D+')\r\n",
        "    elif score< 65:\r\n",
        "      print (f'คะแนน = {score} ได้เกรด C')\r\n",
        "    elif score< 70:\r\n",
        "      print (f'คะแนน = {score} ได้เกรด C+')\r\n",
        "    elif score< 75:\r\n",
        "      print (f'คะแนน = {score} ได้เกรด B')\r\n",
        "    elif score< 80:  \r\n",
        "      print (f'คะแนน = {score} ได้เกรด B+')\r\n",
        "    elif score< 100:  \r\n",
        "      print (f'คะแนน = {score} ได้เกรด A')\r\n",
        "    elif score > 100:\r\n",
        "      print (f'คะแนน {score} = error')\r\n",
        "    \r\n"
      ],
      "execution_count": 8,
      "outputs": []
    },
    {
      "cell_type": "code",
      "metadata": {
        "id": "jbJwh5q8mMHR"
      },
      "source": [
        "input = [-51,1,49,50,65,90,101]"
      ],
      "execution_count": 9,
      "outputs": []
    },
    {
      "cell_type": "code",
      "metadata": {
        "id": "NnNI1uTRmayh",
        "outputId": "20602e04-3022-437e-e3dc-15f9f244b850",
        "colab": {
          "base_uri": "https://localhost:8080/"
        }
      },
      "source": [
        "for score in input:\r\n",
        "  grade(score)"
      ],
      "execution_count": 10,
      "outputs": [
        {
          "output_type": "stream",
          "text": [
            "คะแนน -51  = error\n",
            "คะแนน = 1 ได้เกรด F\n",
            "คะแนน = 49 ได้เกรด F\n",
            "คะแนน = 50 ได้เกรด D\n",
            "คะแนน = 65 ได้เกรด C+\n",
            "คะแนน = 90 ได้เกรด A\n",
            "คะแนน 101 = error\n"
          ],
          "name": "stdout"
        }
      ]
    }
  ]
}